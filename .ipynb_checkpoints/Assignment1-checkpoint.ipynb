{
 "cells": [
  {
   "cell_type": "code",
   "execution_count": 12,
   "id": "01d584da",
   "metadata": {},
   "outputs": [],
   "source": [
    "import pandas as pd\n",
    "from sklearn.model_selection import train_test_split\n",
    "import numpy as np\n",
    "import matplotlib.pyplot as plt   \n",
    "from matplotlib.legend_handler import HandlerLine2D\n",
    "\n",
    "from sklearn.dummy import DummyClassifier\n",
    "from sklearn.model_selection import cross_val_score\n",
    "from sklearn.metrics import accuracy_score\n",
    "\n",
    "\n",
    "import warnings\n",
    "warnings.filterwarnings('ignore')"
   ]
  },
  {
   "cell_type": "code",
   "execution_count": 191,
   "id": "ce739b22",
   "metadata": {},
   "outputs": [],
   "source": [
    "# Read the CSV file.\n",
    "data = pd.read_csv(\"CTG.csv\", skiprows=1)"
   ]
  },
  {
   "cell_type": "code",
   "execution_count": 192,
   "id": "d13a7ff4",
   "metadata": {},
   "outputs": [],
   "source": [
    "# Select the relevant numerical columns.\n",
    "selected_cols = ['LB', 'AC', 'FM', 'UC', 'DL', 'DS', 'DP', 'ASTV', 'MSTV', 'ALTV',\n",
    "                 'MLTV', 'Width', 'Min', 'Max', 'Nmax', 'Nzeros', 'Mode', 'Mean',\n",
    "                 'Median', 'Variance', 'Tendency', 'NSP']"
   ]
  },
  {
   "cell_type": "code",
   "execution_count": 193,
   "id": "441fb81c",
   "metadata": {},
   "outputs": [],
   "source": [
    "data = data[selected_cols].dropna()\n"
   ]
  },
  {
   "cell_type": "code",
   "execution_count": 194,
   "id": "e90ce093",
   "metadata": {},
   "outputs": [
    {
     "data": {
      "text/html": [
       "<div>\n",
       "<style scoped>\n",
       "    .dataframe tbody tr th:only-of-type {\n",
       "        vertical-align: middle;\n",
       "    }\n",
       "\n",
       "    .dataframe tbody tr th {\n",
       "        vertical-align: top;\n",
       "    }\n",
       "\n",
       "    .dataframe thead th {\n",
       "        text-align: right;\n",
       "    }\n",
       "</style>\n",
       "<table border=\"1\" class=\"dataframe\">\n",
       "  <thead>\n",
       "    <tr style=\"text-align: right;\">\n",
       "      <th></th>\n",
       "      <th>LB</th>\n",
       "      <th>AC</th>\n",
       "      <th>FM</th>\n",
       "      <th>UC</th>\n",
       "      <th>DL</th>\n",
       "      <th>DS</th>\n",
       "      <th>DP</th>\n",
       "      <th>ASTV</th>\n",
       "      <th>MSTV</th>\n",
       "      <th>ALTV</th>\n",
       "      <th>...</th>\n",
       "      <th>Min</th>\n",
       "      <th>Max</th>\n",
       "      <th>Nmax</th>\n",
       "      <th>Nzeros</th>\n",
       "      <th>Mode</th>\n",
       "      <th>Mean</th>\n",
       "      <th>Median</th>\n",
       "      <th>Variance</th>\n",
       "      <th>Tendency</th>\n",
       "      <th>NSP</th>\n",
       "    </tr>\n",
       "  </thead>\n",
       "  <tbody>\n",
       "    <tr>\n",
       "      <th>0</th>\n",
       "      <td>120.0</td>\n",
       "      <td>0.0</td>\n",
       "      <td>0.0</td>\n",
       "      <td>0.0</td>\n",
       "      <td>0.0</td>\n",
       "      <td>0.0</td>\n",
       "      <td>0.0</td>\n",
       "      <td>73.0</td>\n",
       "      <td>0.5</td>\n",
       "      <td>43.0</td>\n",
       "      <td>...</td>\n",
       "      <td>62.0</td>\n",
       "      <td>126.0</td>\n",
       "      <td>2.0</td>\n",
       "      <td>0.0</td>\n",
       "      <td>120.0</td>\n",
       "      <td>137.0</td>\n",
       "      <td>121.0</td>\n",
       "      <td>73.0</td>\n",
       "      <td>1.0</td>\n",
       "      <td>2.0</td>\n",
       "    </tr>\n",
       "    <tr>\n",
       "      <th>1</th>\n",
       "      <td>132.0</td>\n",
       "      <td>4.0</td>\n",
       "      <td>0.0</td>\n",
       "      <td>4.0</td>\n",
       "      <td>2.0</td>\n",
       "      <td>0.0</td>\n",
       "      <td>0.0</td>\n",
       "      <td>17.0</td>\n",
       "      <td>2.1</td>\n",
       "      <td>0.0</td>\n",
       "      <td>...</td>\n",
       "      <td>68.0</td>\n",
       "      <td>198.0</td>\n",
       "      <td>6.0</td>\n",
       "      <td>1.0</td>\n",
       "      <td>141.0</td>\n",
       "      <td>136.0</td>\n",
       "      <td>140.0</td>\n",
       "      <td>12.0</td>\n",
       "      <td>0.0</td>\n",
       "      <td>1.0</td>\n",
       "    </tr>\n",
       "    <tr>\n",
       "      <th>2</th>\n",
       "      <td>133.0</td>\n",
       "      <td>2.0</td>\n",
       "      <td>0.0</td>\n",
       "      <td>5.0</td>\n",
       "      <td>2.0</td>\n",
       "      <td>0.0</td>\n",
       "      <td>0.0</td>\n",
       "      <td>16.0</td>\n",
       "      <td>2.1</td>\n",
       "      <td>0.0</td>\n",
       "      <td>...</td>\n",
       "      <td>68.0</td>\n",
       "      <td>198.0</td>\n",
       "      <td>5.0</td>\n",
       "      <td>1.0</td>\n",
       "      <td>141.0</td>\n",
       "      <td>135.0</td>\n",
       "      <td>138.0</td>\n",
       "      <td>13.0</td>\n",
       "      <td>0.0</td>\n",
       "      <td>1.0</td>\n",
       "    </tr>\n",
       "    <tr>\n",
       "      <th>3</th>\n",
       "      <td>134.0</td>\n",
       "      <td>2.0</td>\n",
       "      <td>0.0</td>\n",
       "      <td>6.0</td>\n",
       "      <td>2.0</td>\n",
       "      <td>0.0</td>\n",
       "      <td>0.0</td>\n",
       "      <td>16.0</td>\n",
       "      <td>2.4</td>\n",
       "      <td>0.0</td>\n",
       "      <td>...</td>\n",
       "      <td>53.0</td>\n",
       "      <td>170.0</td>\n",
       "      <td>11.0</td>\n",
       "      <td>0.0</td>\n",
       "      <td>137.0</td>\n",
       "      <td>134.0</td>\n",
       "      <td>137.0</td>\n",
       "      <td>13.0</td>\n",
       "      <td>1.0</td>\n",
       "      <td>1.0</td>\n",
       "    </tr>\n",
       "    <tr>\n",
       "      <th>4</th>\n",
       "      <td>132.0</td>\n",
       "      <td>4.0</td>\n",
       "      <td>0.0</td>\n",
       "      <td>5.0</td>\n",
       "      <td>0.0</td>\n",
       "      <td>0.0</td>\n",
       "      <td>0.0</td>\n",
       "      <td>16.0</td>\n",
       "      <td>2.4</td>\n",
       "      <td>0.0</td>\n",
       "      <td>...</td>\n",
       "      <td>53.0</td>\n",
       "      <td>170.0</td>\n",
       "      <td>9.0</td>\n",
       "      <td>0.0</td>\n",
       "      <td>137.0</td>\n",
       "      <td>136.0</td>\n",
       "      <td>138.0</td>\n",
       "      <td>11.0</td>\n",
       "      <td>1.0</td>\n",
       "      <td>1.0</td>\n",
       "    </tr>\n",
       "  </tbody>\n",
       "</table>\n",
       "<p>5 rows × 22 columns</p>\n",
       "</div>"
      ],
      "text/plain": [
       "      LB   AC   FM   UC   DL   DS   DP  ASTV  MSTV  ALTV  ...   Min    Max  \\\n",
       "0  120.0  0.0  0.0  0.0  0.0  0.0  0.0  73.0   0.5  43.0  ...  62.0  126.0   \n",
       "1  132.0  4.0  0.0  4.0  2.0  0.0  0.0  17.0   2.1   0.0  ...  68.0  198.0   \n",
       "2  133.0  2.0  0.0  5.0  2.0  0.0  0.0  16.0   2.1   0.0  ...  68.0  198.0   \n",
       "3  134.0  2.0  0.0  6.0  2.0  0.0  0.0  16.0   2.4   0.0  ...  53.0  170.0   \n",
       "4  132.0  4.0  0.0  5.0  0.0  0.0  0.0  16.0   2.4   0.0  ...  53.0  170.0   \n",
       "\n",
       "   Nmax  Nzeros   Mode   Mean  Median  Variance  Tendency  NSP  \n",
       "0   2.0     0.0  120.0  137.0   121.0      73.0       1.0  2.0  \n",
       "1   6.0     1.0  141.0  136.0   140.0      12.0       0.0  1.0  \n",
       "2   5.0     1.0  141.0  135.0   138.0      13.0       0.0  1.0  \n",
       "3  11.0     0.0  137.0  134.0   137.0      13.0       1.0  1.0  \n",
       "4   9.0     0.0  137.0  136.0   138.0      11.0       1.0  1.0  \n",
       "\n",
       "[5 rows x 22 columns]"
      ]
     },
     "execution_count": 194,
     "metadata": {},
     "output_type": "execute_result"
    }
   ],
   "source": [
    "data.head()"
   ]
  },
  {
   "cell_type": "code",
   "execution_count": 195,
   "id": "45745250",
   "metadata": {},
   "outputs": [],
   "source": [
    "# Shuffle the dataset.\n",
    "data_shuffled = data.sample(frac=1.0, random_state=0)"
   ]
  },
  {
   "cell_type": "code",
   "execution_count": 196,
   "id": "628d516d",
   "metadata": {},
   "outputs": [],
   "source": [
    "# Split into input part X and output part Y.\n",
    "X = data_shuffled.drop('NSP', axis=1)\n"
   ]
  },
  {
   "cell_type": "code",
   "execution_count": 197,
   "id": "b01c4257",
   "metadata": {},
   "outputs": [],
   "source": [
    "# Map the diagnosis code to a human-readable label.\n",
    "def to_label(y):\n",
    "    return [None, 'normal', 'suspect', 'pathologic'][(int(y))]\n"
   ]
  },
  {
   "cell_type": "code",
   "execution_count": 198,
   "id": "1068c571",
   "metadata": {},
   "outputs": [],
   "source": [
    "Y = data_shuffled['NSP'].apply(to_label)"
   ]
  },
  {
   "cell_type": "code",
   "execution_count": 199,
   "id": "b00aed5a",
   "metadata": {},
   "outputs": [],
   "source": [
    "# Partition the data into training and test sets.\n",
    "Xtrain, Xtest, Ytrain, Ytest = train_test_split(X, Y, test_size=0.2, random_state=0)"
   ]
  },
  {
   "cell_type": "markdown",
   "id": "643cdbf0",
   "metadata": {},
   "source": [
    "# Dummy Classifier"
   ]
  },
  {
   "cell_type": "code",
   "execution_count": 200,
   "id": "9679d421",
   "metadata": {},
   "outputs": [],
   "source": [
    "dummy = DummyClassifier(strategy='most_frequent')"
   ]
  },
  {
   "cell_type": "code",
   "execution_count": 201,
   "id": "0b32abcb",
   "metadata": {},
   "outputs": [
    {
     "data": {
      "text/plain": [
       "0.7805882352941176"
      ]
     },
     "execution_count": 201,
     "metadata": {},
     "output_type": "execute_result"
    }
   ],
   "source": [
    "cross_val_score(dummy, Xtrain, Ytrain).mean()"
   ]
  },
  {
   "cell_type": "code",
   "execution_count": 202,
   "id": "7e58eb1e",
   "metadata": {},
   "outputs": [
    {
     "name": "stdout",
     "output_type": "stream",
     "text": [
      "0.7699530516431925\n"
     ]
    }
   ],
   "source": [
    "dummy.fit(Xtrain, Ytrain)\n",
    "Yguess = dummy.predict(Xtest)\n",
    "print(accuracy_score(Ytest, Yguess))"
   ]
  },
  {
   "cell_type": "markdown",
   "id": "3655b86f",
   "metadata": {},
   "source": [
    "# Tree-based classifiers"
   ]
  },
  {
   "cell_type": "markdown",
   "id": "bb5fa0ab",
   "metadata": {},
   "source": [
    "## Decision Tree"
   ]
  },
  {
   "cell_type": "code",
   "execution_count": 203,
   "id": "0ca08754",
   "metadata": {},
   "outputs": [],
   "source": [
    "from sklearn.tree import DecisionTreeClassifier\n",
    "from sklearn.model_selection import cross_val_score\n",
    "from sklearn.metrics import accuracy_score\n",
    "\n",
    "skDT = DecisionTreeClassifier()"
   ]
  },
  {
   "cell_type": "code",
   "execution_count": 204,
   "id": "d9716215",
   "metadata": {},
   "outputs": [
    {
     "data": {
      "text/plain": [
       "0.9199999999999999"
      ]
     },
     "execution_count": 204,
     "metadata": {},
     "output_type": "execute_result"
    }
   ],
   "source": [
    "cross_val_score(skDT, Xtrain, Ytrain).mean()"
   ]
  },
  {
   "cell_type": "code",
   "execution_count": 205,
   "id": "5d920375",
   "metadata": {},
   "outputs": [
    {
     "name": "stdout",
     "output_type": "stream",
     "text": [
      "0.8967136150234741\n"
     ]
    }
   ],
   "source": [
    "skDT.fit(Xtrain, Ytrain)\n",
    "Yguess = skDT.predict(Xtest)\n",
    "print(accuracy_score(Ytest, Yguess))"
   ]
  },
  {
   "cell_type": "markdown",
   "id": "784750ff",
   "metadata": {},
   "source": [
    "### DT with modified parameters"
   ]
  },
  {
   "cell_type": "code",
   "execution_count": 206,
   "id": "c6bf79ae",
   "metadata": {},
   "outputs": [],
   "source": [
    "skDT2 = DecisionTreeClassifier(max_depth=100,criterion = 'entropy',random_state=0)"
   ]
  },
  {
   "cell_type": "code",
   "execution_count": 207,
   "id": "8be59833",
   "metadata": {},
   "outputs": [
    {
     "data": {
      "text/plain": [
       "0.9341176470588234"
      ]
     },
     "execution_count": 207,
     "metadata": {},
     "output_type": "execute_result"
    }
   ],
   "source": [
    "cross_val_score(skDT2, Xtrain, Ytrain).mean()"
   ]
  },
  {
   "cell_type": "code",
   "execution_count": 208,
   "id": "66b23cd2",
   "metadata": {},
   "outputs": [
    {
     "name": "stdout",
     "output_type": "stream",
     "text": [
      "0.9131455399061033\n"
     ]
    }
   ],
   "source": [
    "skDT2.fit(Xtrain, Ytrain)\n",
    "Yguess = skDT2.predict(Xtest)\n",
    "print(accuracy_score(Ytest, Yguess))"
   ]
  },
  {
   "cell_type": "code",
   "execution_count": 209,
   "id": "5244422c",
   "metadata": {},
   "outputs": [
    {
     "data": {
      "text/plain": [
       "0.9131455399061033"
      ]
     },
     "execution_count": 209,
     "metadata": {},
     "output_type": "execute_result"
    }
   ],
   "source": [
    "cpt = 0\n",
    "for i in zip(Yguess,Ytest):\n",
    "    if i[0]==i[1]:\n",
    "        cpt+=1\n",
    "cpt/len(Yguess)"
   ]
  },
  {
   "cell_type": "markdown",
   "id": "bce50f48",
   "metadata": {},
   "source": [
    "### max_depth in depth"
   ]
  },
  {
   "cell_type": "markdown",
   "id": "9e7359f5",
   "metadata": {},
   "source": [
    "plot to verify the determine the max_depth hyperparameter"
   ]
  },
  {
   "cell_type": "code",
   "execution_count": 210,
   "id": "305431dc",
   "metadata": {},
   "outputs": [
    {
     "data": {
      "image/png": "[encoded data removed]",
      "text/plain": [
       "<Figure size 432x288 with 1 Axes>"
      ]
     },
     "metadata": {
      "needs_background": "light"
     },
     "output_type": "display_data"
    }
   ],
   "source": [
    "import numpy as np\n",
    "\n",
    "max_depths = np.linspace(1, 50, 50, endpoint=True)\n",
    "\n",
    "train_results = []\n",
    "test_results = []\n",
    "\n",
    "for max_depth in max_depths:\n",
    "    dt = DecisionTreeClassifier(max_depth=max_depth,random_state=0)\n",
    "    dt.fit(Xtrain, Ytrain)\n",
    "    Ypred = dt.predict(Xtest)\n",
    "    accuracyTemp = accuracy_score(Ytest, Ypred)\n",
    "    # Add auc score to previous test results\n",
    "    test_results.append(accuracyTemp)\n",
    "    \n",
    "import matplotlib.pyplot as plt   \n",
    "from matplotlib.legend_handler import HandlerLine2D\n",
    "line2 = plt.plot(max_depths, test_results, label='Test accuracy')\n",
    "\n",
    "plt.ylabel('Accuracy')\n",
    "plt.xlabel('Tree depth')\n",
    "plt.show()"
   ]
  },
  {
   "cell_type": "code",
   "execution_count": 211,
   "id": "40e54378",
   "metadata": {
    "scrolled": true
   },
   "outputs": [
    {
     "data": {
      "image/png": "[encoded data removed]",
      "text/plain": [
       "<Figure size 432x288 with 1 Axes>"
      ]
     },
     "metadata": {
      "needs_background": "light"
     },
     "output_type": "display_data"
    }
   ],
   "source": [
    "max_depths = np.linspace(1, 20, 20, endpoint=True)\n",
    "\n",
    "train_results = []\n",
    "test_results = []\n",
    "\n",
    "for max_depth in max_depths:\n",
    "    dt = DecisionTreeClassifier(max_depth=max_depth,random_state=0)\n",
    "    dt.fit(Xtrain, Ytrain)\n",
    "    Ypred = dt.predict(Xtest)\n",
    "    accuracyTemp = accuracy_score(Ytest, Ypred)\n",
    "    # Add auc score to previous test results\n",
    "    test_results.append(accuracyTemp)\n",
    "    \n",
    "plt.plot(max_depths, test_results, label='Test accuracy')\n",
    "# plt.ylim(bottom=0)\n",
    "plt.ylabel('Accuracy')\n",
    "plt.xlabel('Tree depth')\n",
    "plt.show()"
   ]
  },
  {
   "cell_type": "markdown",
   "id": "08fcf969",
   "metadata": {},
   "source": [
    "### Final (Best) Decision tree classifier"
   ]
  },
  {
   "cell_type": "code",
   "execution_count": 212,
   "id": "9d586bb6",
   "metadata": {},
   "outputs": [],
   "source": [
    "skDTFinal = DecisionTreeClassifier(max_depth=7,random_state=0)"
   ]
  },
  {
   "cell_type": "code",
   "execution_count": 213,
   "id": "8e9317e0",
   "metadata": {},
   "outputs": [
    {
     "data": {
      "text/plain": [
       "0.9317647058823528"
      ]
     },
     "execution_count": 213,
     "metadata": {},
     "output_type": "execute_result"
    }
   ],
   "source": [
    "cross_val_score(skDTFinal, Xtrain, Ytrain).mean()"
   ]
  },
  {
   "cell_type": "code",
   "execution_count": 214,
   "id": "19b83121",
   "metadata": {},
   "outputs": [
    {
     "name": "stdout",
     "output_type": "stream",
     "text": [
      "0.9154929577464789\n"
     ]
    }
   ],
   "source": [
    "skDTFinal.fit(Xtrain, Ytrain)\n",
    "Yguess = skDTFinal.predict(Xtest)\n",
    "print(accuracy_score(Ytest, Yguess))"
   ]
  },
  {
   "cell_type": "markdown",
   "id": "d1c67d0d",
   "metadata": {},
   "source": [
    "## Random Forest"
   ]
  },
  {
   "cell_type": "code",
   "execution_count": 215,
   "id": "25efa539",
   "metadata": {},
   "outputs": [],
   "source": [
    "from sklearn.ensemble import RandomForestClassifier"
   ]
  },
  {
   "cell_type": "code",
   "execution_count": 216,
   "id": "e595d3e5",
   "metadata": {},
   "outputs": [
    {
     "data": {
      "text/plain": [
       "0.9429411764705883"
      ]
     },
     "execution_count": 216,
     "metadata": {},
     "output_type": "execute_result"
    }
   ],
   "source": [
    "RF = RandomForestClassifier(random_state=0)\n",
    "cross_val_score(RF, Xtrain, Ytrain).mean()"
   ]
  },
  {
   "cell_type": "code",
   "execution_count": 217,
   "id": "38e654cb",
   "metadata": {},
   "outputs": [
    {
     "name": "stdout",
     "output_type": "stream",
     "text": [
      "0.9272300469483568\n"
     ]
    }
   ],
   "source": [
    "RF.fit(Xtrain, Ytrain)\n",
    "Yguess = RF.predict(Xtest)\n",
    "print(accuracy_score(Ytest, Yguess))"
   ]
  },
  {
   "cell_type": "markdown",
   "id": "6b0a61ee",
   "metadata": {},
   "source": [
    "### n_estimators"
   ]
  },
  {
   "cell_type": "code",
   "execution_count": 218,
   "id": "04cdcb77",
   "metadata": {
    "scrolled": false
   },
   "outputs": [
    {
     "data": {
      "image/png": "[encoded data removed]",
      "text/plain": [
       "<Figure size 432x288 with 1 Axes>"
      ]
     },
     "metadata": {
      "needs_background": "light"
     },
     "output_type": "display_data"
    }
   ],
   "source": [
    "n_estimators = [1, 2, 4, 8, 16, 32, 64, 100, 200,500]\n",
    "train_results = []\n",
    "test_results = []\n",
    "for estimator in n_estimators:\n",
    "    RF = RandomForestClassifier(n_estimators=estimator,random_state=0)\n",
    "    RF.fit(Xtrain, Ytrain)\n",
    "    Yguess = RF.predict(Xtest)\n",
    "    accuracyTemp = accuracy_score(Ytest,Yguess)\n",
    "    test_results.append(accuracyTemp)\n",
    "\n",
    "\n",
    "plt.plot(n_estimators, test_results)\n",
    "plt.ylabel('Accuracy score')\n",
    "plt.xlabel('n_estimators')\n",
    "plt.show()"
   ]
  },
  {
   "cell_type": "markdown",
   "id": "a9f1694a",
   "metadata": {},
   "source": [
    "### Final (Best) Random Forest Classifier"
   ]
  },
  {
   "cell_type": "code",
   "execution_count": 219,
   "id": "a6a819c6",
   "metadata": {},
   "outputs": [],
   "source": [
    "RfFinal = RandomForestClassifier(n_estimators=100,random_state=0)"
   ]
  },
  {
   "cell_type": "code",
   "execution_count": 220,
   "id": "dd01fc47",
   "metadata": {},
   "outputs": [
    {
     "data": {
      "text/plain": [
       "0.9429411764705883"
      ]
     },
     "execution_count": 220,
     "metadata": {},
     "output_type": "execute_result"
    }
   ],
   "source": [
    "cross_val_score(RfFinal, Xtrain, Ytrain).mean()"
   ]
  },
  {
   "cell_type": "code",
   "execution_count": 221,
   "id": "6e479279",
   "metadata": {},
   "outputs": [
    {
     "name": "stdout",
     "output_type": "stream",
     "text": [
      "0.9272300469483568\n"
     ]
    }
   ],
   "source": [
    "RfFinal.fit(Xtrain, Ytrain)\n",
    "Yguess = RfFinal.predict(Xtest)\n",
    "print(accuracy_score(Ytest, Yguess))"
   ]
  },
  {
   "cell_type": "markdown",
   "id": "071f12bc",
   "metadata": {},
   "source": [
    "## Gradient Boosting Classifier"
   ]
  },
  {
   "cell_type": "code",
   "execution_count": 222,
   "id": "4b393508",
   "metadata": {},
   "outputs": [],
   "source": [
    "from sklearn.ensemble import GradientBoostingClassifier"
   ]
  },
  {
   "cell_type": "code",
   "execution_count": 223,
   "id": "7d32e996",
   "metadata": {},
   "outputs": [],
   "source": [
    "GBC = GradientBoostingClassifier(random_state=0)"
   ]
  },
  {
   "cell_type": "code",
   "execution_count": 224,
   "id": "e7312757",
   "metadata": {},
   "outputs": [
    {
     "data": {
      "text/plain": [
       "0.9494117647058824"
      ]
     },
     "execution_count": 224,
     "metadata": {},
     "output_type": "execute_result"
    }
   ],
   "source": [
    "cross_val_score(GBC, Xtrain, Ytrain).mean()"
   ]
  },
  {
   "cell_type": "code",
   "execution_count": 225,
   "id": "866f96e7",
   "metadata": {},
   "outputs": [
    {
     "name": "stdout",
     "output_type": "stream",
     "text": [
      "0.9295774647887324\n"
     ]
    }
   ],
   "source": [
    "GBC.fit(Xtrain, Ytrain)\n",
    "Yguess = GBC.predict(Xtest)\n",
    "print(accuracy_score(Ytest, Yguess))"
   ]
  },
  {
   "cell_type": "markdown",
   "id": "1da541c7",
   "metadata": {},
   "source": [
    "### max_depth in depth"
   ]
  },
  {
   "cell_type": "markdown",
   "id": "faa30e4e",
   "metadata": {},
   "source": [
    "plot to verify the determine the max_depth hyperparameter"
   ]
  },
  {
   "cell_type": "code",
   "execution_count": 226,
   "id": "a3fc55dd",
   "metadata": {
    "scrolled": true
   },
   "outputs": [
    {
     "data": {
      "image/png": "[encoded data removed]",
      "text/plain": [
       "<Figure size 432x288 with 1 Axes>"
      ]
     },
     "metadata": {
      "needs_background": "light"
     },
     "output_type": "display_data"
    }
   ],
   "source": [
    "max_depths = np.linspace(1, 10, 10, endpoint=True)\n",
    "\n",
    "train_results = []\n",
    "test_results = []\n",
    "\n",
    "for max_depth in max_depths:\n",
    "    GBC = GradientBoostingClassifier(max_depth=max_depth,random_state=0)\n",
    "    GBC.fit(Xtrain, Ytrain)\n",
    "    Ypred = GBC.predict(Xtest)\n",
    "    accuracyTemp = cross_val_score(GBC, Xtrain, Ytrain).mean()\n",
    "    # Add auc score to previous test results\n",
    "    test_results.append(accuracyTemp)\n",
    "    \n",
    "plt.plot(max_depths, test_results, label='Test accuracy')\n",
    "# plt.ylim(bottom=0)\n",
    "plt.ylabel('Accuracy')\n",
    "plt.xlabel('Tree depth')\n",
    "plt.show()"
   ]
  },
  {
   "cell_type": "markdown",
   "id": "40fcc5a9",
   "metadata": {},
   "source": [
    "# Linear Classifiers"
   ]
  },
  {
   "cell_type": "markdown",
   "id": "ae8a7444",
   "metadata": {},
   "source": [
    "## Perceptron Classifier"
   ]
  },
  {
   "cell_type": "code",
   "execution_count": 227,
   "id": "ad4066f9",
   "metadata": {},
   "outputs": [],
   "source": [
    "from sklearn.linear_model import Perceptron"
   ]
  },
  {
   "cell_type": "code",
   "execution_count": 228,
   "id": "b844c627",
   "metadata": {},
   "outputs": [
    {
     "data": {
      "text/plain": [
       "0.825294117647059"
      ]
     },
     "execution_count": 228,
     "metadata": {},
     "output_type": "execute_result"
    }
   ],
   "source": [
    "perceptron = Perceptron()\n",
    "cross_val_score(perceptron, Xtrain, Ytrain).mean()"
   ]
  },
  {
   "cell_type": "markdown",
   "id": "5d5a219c",
   "metadata": {},
   "source": [
    "### Hyperparameter tuning with sklearn grid search"
   ]
  },
  {
   "cell_type": "code",
   "execution_count": 229,
   "id": "9efbc2c4",
   "metadata": {},
   "outputs": [],
   "source": [
    "from sklearn.model_selection import RepeatedStratifiedKFold, cross_val_score"
   ]
  },
  {
   "cell_type": "markdown",
   "id": "f3034c74",
   "metadata": {},
   "source": [
    "we tune the perceptron model based on the learning rate (alpha) and number of epochs as they are the most parameters having effect on the model's accuracy"
   ]
  },
  {
   "cell_type": "code",
   "execution_count": 230,
   "id": "f8eb548b",
   "metadata": {},
   "outputs": [
    {
     "data": {
      "text/plain": [
       "GridSearchCV(cv=5, estimator=Perceptron(), n_jobs=-1,\n",
       "             param_grid={'alpha': [1e-05, 0.0001, 0.0003, 0.001, 0.003, 0.01,\n",
       "                                   0.03, 0.1, 0.3],\n",
       "                         'max_iter': [3, 5, 10, 15, 20, 50]})"
      ]
     },
     "execution_count": 230,
     "metadata": {},
     "output_type": "execute_result"
    }
   ],
   "source": [
    "perceptron = Perceptron(random_state=0)\n",
    "parameter_space = {'alpha': [0.00001,0.0001, 0.0003, 0.001, 0.003, 0.01, 0.03, 0.1, 0.3],\n",
    "                'max_iter': [3,5, 10, 15, 20, 50]}\n",
    "perceptronTuned = GridSearchCV(perceptron, parameter_space, n_jobs=-1, cv=5)\n",
    "perceptronTuned.fit(Xtrain, Ytrain) # X is train samples and y is the corresponding labels"
   ]
  },
  {
   "cell_type": "code",
   "execution_count": 231,
   "id": "280ff33c",
   "metadata": {},
   "outputs": [
    {
     "data": {
      "text/plain": [
       "{'alpha': 1e-05, 'max_iter': 5}"
      ]
     },
     "execution_count": 231,
     "metadata": {},
     "output_type": "execute_result"
    }
   ],
   "source": [
    "perceptronTuned.best_params_"
   ]
  },
  {
   "cell_type": "code",
   "execution_count": 232,
   "id": "eeef5f77",
   "metadata": {},
   "outputs": [
    {
     "data": {
      "text/plain": [
       "0.8447058823529412"
      ]
     },
     "execution_count": 232,
     "metadata": {},
     "output_type": "execute_result"
    }
   ],
   "source": [
    "perceptronFinal = Perceptron(random_state=0,alpha= 0.00001, max_iter= 5)\n",
    "cross_val_score(perceptronFinal, Xtrain, Ytrain).mean()"
   ]
  },
  {
   "cell_type": "markdown",
   "id": "334c4f24",
   "metadata": {},
   "source": [
    "## Logistic Regression"
   ]
  },
  {
   "cell_type": "code",
   "execution_count": 233,
   "id": "48e76909",
   "metadata": {},
   "outputs": [],
   "source": [
    "from sklearn.linear_model import LogisticRegression"
   ]
  },
  {
   "cell_type": "code",
   "execution_count": 234,
   "id": "a2353198",
   "metadata": {},
   "outputs": [
    {
     "data": {
      "text/plain": [
       "0.8741176470588234"
      ]
     },
     "execution_count": 234,
     "metadata": {},
     "output_type": "execute_result"
    }
   ],
   "source": [
    "LogR = LogisticRegression()\n",
    "cross_val_score(LogR, Xtrain, Ytrain).mean()"
   ]
  },
  {
   "cell_type": "code",
   "execution_count": 235,
   "id": "13dac3e0",
   "metadata": {},
   "outputs": [
    {
     "name": "stdout",
     "output_type": "stream",
     "text": [
      "0.8685446009389671\n"
     ]
    }
   ],
   "source": [
    "LogR.fit(Xtrain, Ytrain)\n",
    "Yguess = LogR.predict(Xtest)\n",
    "print(accuracy_score(Ytest, Yguess))"
   ]
  },
  {
   "cell_type": "markdown",
   "id": "0b6773fe",
   "metadata": {},
   "source": [
    "### Tuning logistic regression"
   ]
  },
  {
   "cell_type": "code",
   "execution_count": null,
   "id": "88f6f3dc",
   "metadata": {},
   "outputs": [],
   "source": [
    "LogRgridTuned = LogisticRegression()\n",
    "\n",
    "param_grid = {'C': [0.01, 0.1, 1, 10, 100,1000], 'penalty': ['l1', 'l2']}\n",
    "\n",
    "LogRTuned = GridSearchCV(clf, param_grid)\n",
    "\n",
    "LogRTuned.fit(Xtrain, Ytrain);"
   ]
  },
  {
   "cell_type": "code",
   "execution_count": null,
   "id": "4d3739a4",
   "metadata": {},
   "outputs": [],
   "source": [
    "LogRTuned.best_params_\n",
    "LogRTuned.best_score_"
   ]
  },
  {
   "cell_type": "markdown",
   "id": "898d2a91",
   "metadata": {},
   "source": [
    "## Linear Support Vector Classifier"
   ]
  },
  {
   "cell_type": "code",
   "execution_count": 236,
   "id": "cf814d35",
   "metadata": {},
   "outputs": [],
   "source": [
    "from sklearn.svm import LinearSVC"
   ]
  },
  {
   "cell_type": "code",
   "execution_count": 237,
   "id": "54b25fa7",
   "metadata": {
    "scrolled": true
   },
   "outputs": [
    {
     "data": {
      "text/plain": [
       "0.8452941176470589"
      ]
     },
     "execution_count": 237,
     "metadata": {},
     "output_type": "execute_result"
    }
   ],
   "source": [
    "lsvc = LinearSVC(random_state=0)\n",
    "cross_val_score(lsvc, Xtrain, Ytrain).mean()"
   ]
  },
  {
   "cell_type": "code",
   "execution_count": 238,
   "id": "751ee659",
   "metadata": {},
   "outputs": [
    {
     "data": {
      "text/plain": [
       "0.8403755868544601"
      ]
     },
     "execution_count": 238,
     "metadata": {},
     "output_type": "execute_result"
    }
   ],
   "source": [
    "lsvc.fit(Xtrain, Ytrain)\n",
    "Yguess = lsvc.predict(Xtest)\n",
    "(accuracy_score(Ytest, Yguess))"
   ]
  },
  {
   "cell_type": "markdown",
   "id": "35e4716c",
   "metadata": {},
   "source": [
    "# Neural network classifier"
   ]
  },
  {
   "cell_type": "code",
   "execution_count": 239,
   "id": "16471557",
   "metadata": {},
   "outputs": [],
   "source": [
    "from sklearn.neural_network import MLPClassifier"
   ]
  },
  {
   "cell_type": "code",
   "execution_count": 240,
   "id": "74c0f797",
   "metadata": {
    "scrolled": true
   },
   "outputs": [
    {
     "data": {
      "text/plain": [
       "0.8847058823529412"
      ]
     },
     "execution_count": 240,
     "metadata": {},
     "output_type": "execute_result"
    }
   ],
   "source": [
    "NNC = MLPClassifier(random_state=0)\n",
    "cross_val_score(NNC, Xtrain, Ytrain).mean()"
   ]
  },
  {
   "cell_type": "code",
   "execution_count": 241,
   "id": "44bf8c75",
   "metadata": {},
   "outputs": [
    {
     "data": {
      "text/plain": [
       "0.8826291079812206"
      ]
     },
     "execution_count": 241,
     "metadata": {},
     "output_type": "execute_result"
    }
   ],
   "source": [
    "NNC.fit(Xtrain, Ytrain)\n",
    "Yguess = NNC.predict(Xtest)\n",
    "(accuracy_score(Ytest, Yguess))"
   ]
  },
  {
   "cell_type": "markdown",
   "id": "f05f5746",
   "metadata": {},
   "source": [
    "### Hyperparameter tuning for NN"
   ]
  },
  {
   "cell_type": "code",
   "execution_count": 242,
   "id": "1ecdd993",
   "metadata": {},
   "outputs": [],
   "source": [
    "mlp_gs = MLPClassifier(max_iter=100)\n",
    "parameter_space = {\n",
    "    'hidden_layer_sizes': [(40,),(100,)],\n",
    "    'activation': ['tanh', 'relu','logistic'],\n",
    "    'solver': ['sgd', 'adam','lbfgs'],\n",
    "    'alpha': [0.00005,0.0001, 0.05,0.1],\n",
    "    'learning_rate': ['invscaling', 'adaptive'],\n",
    "}"
   ]
  },
  {
   "cell_type": "code",
   "execution_count": 243,
   "id": "d714dc06",
   "metadata": {},
   "outputs": [
    {
     "data": {
      "text/plain": [
       "GridSearchCV(cv=5, estimator=MLPClassifier(max_iter=100), n_jobs=-1,\n",
       "             param_grid={'activation': ['tanh', 'relu', 'logistic'],\n",
       "                         'alpha': [5e-05, 0.0001, 0.05, 0.1],\n",
       "                         'hidden_layer_sizes': [(40,), (100,)],\n",
       "                         'learning_rate': ['invscaling', 'adaptive'],\n",
       "                         'solver': ['sgd', 'adam', 'lbfgs']})"
      ]
     },
     "execution_count": 243,
     "metadata": {},
     "output_type": "execute_result"
    }
   ],
   "source": [
    "from sklearn.model_selection import GridSearchCV\n",
    "clf = GridSearchCV(mlp_gs, parameter_space, n_jobs=-1, cv=5)\n",
    "clf.fit(Xtrain, Ytrain) # X is train samples and y is the corresponding labels"
   ]
  },
  {
   "cell_type": "code",
   "execution_count": 244,
   "id": "3290c9b7",
   "metadata": {},
   "outputs": [
    {
     "data": {
      "text/plain": [
       "{'activation': 'tanh',\n",
       " 'alpha': 0.05,\n",
       " 'hidden_layer_sizes': (100,),\n",
       " 'learning_rate': 'adaptive',\n",
       " 'solver': 'adam'}"
      ]
     },
     "execution_count": 244,
     "metadata": {},
     "output_type": "execute_result"
    }
   ],
   "source": [
    "clf.best_params_"
   ]
  },
  {
   "cell_type": "code",
   "execution_count": 245,
   "id": "54ae3a01",
   "metadata": {},
   "outputs": [
    {
     "data": {
      "text/plain": [
       "0.8896713615023474"
      ]
     },
     "execution_count": 245,
     "metadata": {},
     "output_type": "execute_result"
    }
   ],
   "source": [
    "Yguess = clf.predict(Xtest)\n",
    "(accuracy_score(Ytest, Yguess))"
   ]
  },
  {
   "cell_type": "markdown",
   "id": "31695189",
   "metadata": {},
   "source": [
    "we can observe through previous testing with lower number of layer that the higher the number of layers the better the accuracy, and the best learning rate is 0.0001 and best solver is adam through the trial of many combinations of parameters. So, we fix those parameters to decrease the search space of the grid"
   ]
  },
  {
   "cell_type": "code",
   "execution_count": 246,
   "id": "0c8bec30",
   "metadata": {
    "scrolled": true
   },
   "outputs": [
    {
     "data": {
      "text/plain": [
       "GridSearchCV(cv=5, estimator=MLPClassifier(max_iter=100), n_jobs=-1,\n",
       "             param_grid={'activation': ['tanh', 'relu', 'logistic'],\n",
       "                         'alpha': [0.0001],\n",
       "                         'hidden_layer_sizes': [(1000,), (5000,)],\n",
       "                         'learning_rate': ['invscaling', 'adaptive'],\n",
       "                         'solver': ['adam']})"
      ]
     },
     "execution_count": 246,
     "metadata": {},
     "output_type": "execute_result"
    }
   ],
   "source": [
    "mlp_gs = MLPClassifier(max_iter=100)\n",
    "parameter_space = {\n",
    "    'hidden_layer_sizes': [(1000,),(5000,)],\n",
    "    'activation': ['tanh', 'relu','logistic'],\n",
    "    'solver': ['adam'],\n",
    "    'alpha': [0.0001],\n",
    "    'learning_rate': ['invscaling', 'adaptive'],\n",
    "}\n",
    "clf = GridSearchCV(mlp_gs, parameter_space, n_jobs=-1, cv=5)\n",
    "clf.fit(Xtrain, Ytrain) # X is train samples and y is the corresponding labels"
   ]
  },
  {
   "cell_type": "code",
   "execution_count": 247,
   "id": "22169a78",
   "metadata": {},
   "outputs": [
    {
     "data": {
      "text/plain": [
       "{'activation': 'tanh',\n",
       " 'alpha': 0.0001,\n",
       " 'hidden_layer_sizes': (1000,),\n",
       " 'learning_rate': 'invscaling',\n",
       " 'solver': 'adam'}"
      ]
     },
     "execution_count": 247,
     "metadata": {},
     "output_type": "execute_result"
    }
   ],
   "source": [
    "clf.best_params_"
   ]
  },
  {
   "cell_type": "code",
   "execution_count": 248,
   "id": "7e2d2918",
   "metadata": {},
   "outputs": [
    {
     "data": {
      "text/plain": [
       "0.8849765258215962"
      ]
     },
     "execution_count": 248,
     "metadata": {},
     "output_type": "execute_result"
    }
   ],
   "source": [
    "Yguess = clf.predict(Xtest)\n",
    "(accuracy_score(Ytest, Yguess))"
   ]
  },
  {
   "cell_type": "markdown",
   "id": "7ad9d6a5",
   "metadata": {},
   "source": [
    "we can see that increasing the number of layers from 100 to 1000 didn't give any increase in the test accuracy maintaing the same grid search space, so we use the neural network with 100 layers for further steps."
   ]
  },
  {
   "cell_type": "markdown",
   "id": "1a0c6c24",
   "metadata": {},
   "source": [
    "### Final Neural Network"
   ]
  },
  {
   "cell_type": "code",
   "execution_count": 249,
   "id": "a5b1d387",
   "metadata": {},
   "outputs": [
    {
     "data": {
      "text/plain": [
       "0.8864705882352941"
      ]
     },
     "execution_count": 249,
     "metadata": {},
     "output_type": "execute_result"
    }
   ],
   "source": [
    "NNfinal = MLPClassifier(max_iter=100,hidden_layer_sizes=100,alpha=0.0001,\n",
    "                        solver='adam',learning_rate=\"adaptive\",random_state=0)\n",
    "cross_val_score(NNfinal, Xtrain, Ytrain).mean()"
   ]
  },
  {
   "cell_type": "code",
   "execution_count": 250,
   "id": "1ba0bf23",
   "metadata": {},
   "outputs": [
    {
     "data": {
      "text/plain": [
       "MLPClassifier(hidden_layer_sizes=100, learning_rate='adaptive', max_iter=100,\n",
       "              random_state=0)"
      ]
     },
     "execution_count": 250,
     "metadata": {},
     "output_type": "execute_result"
    }
   ],
   "source": [
    "NNfinal.fit(Xtrain, Ytrain) # X is train samples and y is the corresponding labels"
   ]
  },
  {
   "cell_type": "code",
   "execution_count": 251,
   "id": "2af16e3a",
   "metadata": {},
   "outputs": [
    {
     "data": {
      "text/plain": [
       "0.8826291079812206"
      ]
     },
     "execution_count": 251,
     "metadata": {},
     "output_type": "execute_result"
    }
   ],
   "source": [
    "Yguess = NNfinal.predict(Xtest)\n",
    "(accuracy_score(Ytest, Yguess))"
   ]
  },
  {
   "cell_type": "markdown",
   "id": "7a9580a7",
   "metadata": {},
   "source": [
    "# Final evaluation"
   ]
  },
  {
   "cell_type": "markdown",
   "id": "a9f7a1fd",
   "metadata": {},
   "source": [
    "### cross validation accuracies"
   ]
  },
  {
   "cell_type": "code",
   "execution_count": 252,
   "id": "244d0cfd",
   "metadata": {},
   "outputs": [
    {
     "name": "stdout",
     "output_type": "stream",
     "text": [
      "The cross-validation accuarcy of the Dummy Classifier is :0.781\n",
      "The cross-validation accuarcy of the Decision Tree Classifier is :0.932\n",
      "The cross-validation accuarcy of the Random Forset Classifier is :0.943\n",
      "The cross-validation accuarcy of the Logistic Regression Classifier is :0.874\n",
      "The cross-validation accuarcy of the Linear support vector classifier is :0.845\n",
      "The cross-validation accuarcy of the Multi layer perceptron (MLP) Neural Network Classifier is :0.886\n"
     ]
    }
   ],
   "source": [
    "# Dummy Classifier\n",
    "print(\"The cross-validation accuarcy of the Dummy Classifier is :\"+str(round(cross_val_score(dummy, Xtrain, Ytrain).mean(),3)))\n",
    "# Decision Tree\n",
    "print(\"The cross-validation accuarcy of the Decision Tree Classifier is :\"+str(round(cross_val_score(skDTFinal, Xtrain, Ytrain).mean(),3)))\n",
    "# Random Forset\n",
    "print(\"The cross-validation accuarcy of the Random Forset Classifier is :\"+str(round(cross_val_score(RfFinal, Xtrain, Ytrain).mean(),3)))\n",
    "# Logistic Regression\n",
    "print(\"The cross-validation accuarcy of the Logistic Regression Classifier is :\"+str(round(cross_val_score(LogR, Xtrain, Ytrain).mean(),3)))\n",
    "# LinearSVC\n",
    "print(\"The cross-validation accuarcy of the Linear support vector classifier is :\"+str(round(cross_val_score(lsvc, Xtrain, Ytrain).mean(),3)))\n",
    "# Multi layer perceptron (MLP) Neural Network Classifier\n",
    "print(\"The cross-validation accuarcy of the Multi layer perceptron (MLP) Neural Network Classifier is :\"+str(round(cross_val_score(NNfinal, Xtrain, Ytrain).mean(),3)))\n"
   ]
  },
  {
   "cell_type": "markdown",
   "id": "497e2e83",
   "metadata": {},
   "source": [
    "we can see that the best Random Forest Classifier performed the best within the used classifiers in classification of the <b>  fetal states </b> into the three class <i>Normal<i>, <i>Suspicious<i>, or <i>Pathological<i> with a validation accuracy of 94% with a difference of 1% validation accuracy than the validation accuracy of the best Decision Tree classifier, and 5.5% difference than the MLP neural network classifier, so we use the Random Forest classifier and the Decision Tree classifiers to predict the testing data, and compare which of them predicts better the testing data."
   ]
  },
  {
   "cell_type": "markdown",
   "id": "a7c9006a",
   "metadata": {},
   "source": [
    "## Test data prediction"
   ]
  },
  {
   "cell_type": "markdown",
   "id": "a4da7fb2",
   "metadata": {},
   "source": [
    "### Final Random Forest classifier predicitions and accuracy"
   ]
  },
  {
   "cell_type": "code",
   "execution_count": 253,
   "id": "98492efb",
   "metadata": {},
   "outputs": [
    {
     "name": "stdout",
     "output_type": "stream",
     "text": [
      "First tuples 10 of test-predicted data (Actual value, predicted value)\n",
      "('normal', 'normal')\n",
      "('normal', 'normal')\n",
      "('normal', 'normal')\n",
      "('suspect', 'normal')\n",
      "('normal', 'normal')\n",
      "('normal', 'normal')\n",
      "('normal', 'normal')\n",
      "('normal', 'normal')\n",
      "('normal', 'normal')\n",
      "('normal', 'normal')\n"
     ]
    }
   ],
   "source": [
    "RfFinal.fit(Xtrain, Ytrain)\n",
    "Yguess = RfFinal.predict(Xtest)\n",
    "print('First tuples 10 of test-predicted data (Actual value, predicted value)')\n",
    "cpt=0\n",
    "for i in zip(Ytest,Yguess):\n",
    "    cpt+=1\n",
    "    if cpt <11:\n",
    "        print(i)"
   ]
  },
  {
   "cell_type": "code",
   "execution_count": 254,
   "id": "928cd159",
   "metadata": {},
   "outputs": [
    {
     "name": "stdout",
     "output_type": "stream",
     "text": [
      "testing accuracy:0.927\n"
     ]
    }
   ],
   "source": [
    "print('testing accuracy:'+str(round( accuracy_score(Ytest, Yguess),3)))"
   ]
  },
  {
   "cell_type": "markdown",
   "id": "51d3799a",
   "metadata": {},
   "source": [
    "### Final Decision Tree classifier predicitions and accuracy"
   ]
  },
  {
   "cell_type": "code",
   "execution_count": 255,
   "id": "587a10ad",
   "metadata": {},
   "outputs": [
    {
     "name": "stdout",
     "output_type": "stream",
     "text": [
      "First 10 tuples of test-predicted data (Actual value, predicted value)\n",
      "('normal', 'normal')\n",
      "('normal', 'normal')\n",
      "('normal', 'normal')\n",
      "('suspect', 'normal')\n",
      "('normal', 'normal')\n",
      "('normal', 'normal')\n",
      "('normal', 'normal')\n",
      "('normal', 'normal')\n",
      "('normal', 'normal')\n",
      "('normal', 'normal')\n"
     ]
    }
   ],
   "source": [
    "skDTFinal.fit(Xtrain, Ytrain)\n",
    "Yguess = skDTFinal.predict(Xtest)\n",
    "print('First 10 tuples of test-predicted data (Actual value, predicted value)')\n",
    "cpt=0\n",
    "for i in zip(Ytest,Yguess):\n",
    "    cpt+=1\n",
    "    if cpt <11:\n",
    "        print(i)"
   ]
  },
  {
   "cell_type": "code",
   "execution_count": 256,
   "id": "2ab977b3",
   "metadata": {},
   "outputs": [
    {
     "name": "stdout",
     "output_type": "stream",
     "text": [
      "testing accuracy:0.915\n"
     ]
    }
   ],
   "source": [
    "print('testing accuracy:'+str(round( accuracy_score(Ytest, Yguess),3)))"
   ]
  },
  {
   "cell_type": "markdown",
   "id": "7dfa7512",
   "metadata": {},
   "source": [
    "As we can see the best implemented random forest classifier performed better than the best implemented decision tree classifier with 1.12% accuracy on the testing set, while both classifiers didn't show any signs of overfitting due to the tiny difference between their validation and testing accuracy."
   ]
  },
  {
   "cell_type": "markdown",
   "id": "98b37eaa",
   "metadata": {},
   "source": [
    "# Task 2"
   ]
  },
  {
   "cell_type": "code",
   "execution_count": 257,
   "id": "8ccae40f",
   "metadata": {},
   "outputs": [],
   "source": [
    "class DecisionTreeLeaf:\n",
    "\n",
    "    def __init__(self, value):\n",
    "        self.value = value\n",
    "\n",
    "    # This method computes the prediction for this leaf node. This will just return a constant value.\n",
    "    def predict(self, x):\n",
    "        return self.value\n",
    "\n",
    "    # Utility function to draw a tree visually using graphviz.\n",
    "    def draw_tree(self, graph, node_counter, names):\n",
    "        node_id = str(node_counter)\n",
    "        val_str = f'{self.value:.4g}' if isinstance(self.value, float) else str(self.value)\n",
    "        graph.node(node_id, val_str, style='filled')\n",
    "        return node_counter+1, node_id\n",
    "        \n",
    "    def __eq__(self, other):\n",
    "        if isinstance(other, DecisionTreeLeaf):\n",
    "            return self.value == other.value\n",
    "        else:\n",
    "            return False"
   ]
  },
  {
   "cell_type": "code",
   "execution_count": 258,
   "id": "f1162fb7",
   "metadata": {},
   "outputs": [],
   "source": [
    "class DecisionTreeBranch:\n",
    "\n",
    "    def __init__(self, feature, threshold, low_subtree, high_subtree):\n",
    "        self.feature = feature\n",
    "        self.threshold = threshold\n",
    "        self.low_subtree = low_subtree\n",
    "        self.high_subtree = high_subtree\n",
    "\n",
    "    # For a branch node, we compute the prediction by first considering the feature, and then \n",
    "    # calling the upper or lower subtree, depending on whether the feature is or isn't greater\n",
    "    # than the threshold.\n",
    "    def predict(self, x):\n",
    "        if x[self.feature] <= self.threshold:\n",
    "            return self.low_subtree.predict(x)\n",
    "        else:\n",
    "            return self.high_subtree.predict(x)\n",
    "\n",
    "    # Utility function to draw a tree visually using graphviz.\n",
    "    def draw_tree(self, graph, node_counter, names):\n",
    "        node_counter, low_id = self.low_subtree.draw_tree(graph, node_counter, names)\n",
    "        node_counter, high_id = self.high_subtree.draw_tree(graph, node_counter, names)\n",
    "        node_id = str(node_counter)\n",
    "        fname = f'F{self.feature}' if names is None else names[self.feature]\n",
    "        lbl = f'{fname} > {self.threshold:.4g}?'\n",
    "        graph.node(node_id, lbl, shape='box', fillcolor='yellow', style='filled, rounded')\n",
    "        graph.edge(node_id, low_id, 'False')\n",
    "        graph.edge(node_id, high_id, 'True')\n",
    "        return node_counter+1, node_id\n",
    "        "
   ]
  },
  {
   "cell_type": "code",
   "execution_count": 259,
   "id": "fe6360e1",
   "metadata": {
    "scrolled": false
   },
   "outputs": [],
   "source": [
    "from graphviz import Digraph\n",
    "from sklearn.base import BaseEstimator, ClassifierMixin\n",
    "from abc import ABC, abstractmethod\n",
    "\n",
    "class DecisionTree(ABC, BaseEstimator):\n",
    "\n",
    "    def __init__(self, max_depth):\n",
    "        super().__init__()\n",
    "        self.max_depth = max_depth\n",
    "        \n",
    "    # As usual in scikit-learn, the training method is called *fit*. We first process the dataset so that\n",
    "    # we're sure that it's represented as a NumPy matrix. Then we call the recursive tree-building method\n",
    "    # called make_tree (see below).\n",
    "    def fit(self, X, Y):\n",
    "        if isinstance(X, pd.DataFrame):\n",
    "            self.names = X.columns\n",
    "            X = X.to_numpy()\n",
    "        elif isinstance(X, list):\n",
    "            self.names = None\n",
    "            X = np.array(X)\n",
    "        else:\n",
    "            self.names = None\n",
    "        Y = np.array(Y)        \n",
    "        self.root = self.make_tree(X, Y, self.max_depth)\n",
    "        \n",
    "    def draw_tree(self):\n",
    "        graph = Digraph()\n",
    "        self.root.draw_tree(graph, 0, self.names)\n",
    "        return graph\n",
    "    \n",
    "    # By scikit-learn convention, the method *predict* computes the classification or regression output\n",
    "    # for a set of instances.\n",
    "    # To implement it, we call a separate method that carries out the prediction for one instance.\n",
    "    def predict(self, X):\n",
    "        if isinstance(X, pd.DataFrame):\n",
    "            X = X.to_numpy()\n",
    "        return [self.predict_one(x) for x in X]\n",
    "\n",
    "    # Predicting the output for one instance.\n",
    "    def predict_one(self, x):\n",
    "        return self.root.predict(x)        \n",
    "\n",
    "    # This is the recursive training \n",
    "    def make_tree(self, X, Y, max_depth):\n",
    "\n",
    "        # We start by computing the default value that will be used if we'll return a leaf node.\n",
    "        # For classifiers, this will be the most common value in Y.\n",
    "        default_value = self.get_default_value(Y)\n",
    "\n",
    "        # First the two base cases in the recursion: is the training set completely\n",
    "        # homogeneous, or have we reached the maximum depth? Then we need to return a leaf.\n",
    "\n",
    "        # If we have reached the maximum depth, return a leaf with the majority value.\n",
    "        if max_depth == 0:\n",
    "            return DecisionTreeLeaf(default_value)\n",
    "\n",
    "        # If all the instances in the remaining training set have the same output value,\n",
    "        # return a leaf with this value.\n",
    "        if self.is_homogeneous(Y):\n",
    "            return DecisionTreeLeaf(default_value)\n",
    "\n",
    "        # Select the \"most useful\" feature and split threshold. To rank the \"usefulness\" of features,\n",
    "        # we use one of the classification or regression criteria.\n",
    "        # For each feature, we call best_split (defined in a subclass). We then maximize over the features.\n",
    "        n_features = X.shape[1]\n",
    "        _, best_feature, best_threshold = max(self.best_split(X, Y, feature) for feature in range(n_features))\n",
    "        \n",
    "        if best_feature is None:\n",
    "            return DecisionTreeLeaf(default_value)\n",
    "\n",
    "        # Split the training set into subgroups, based on whether the selected feature is greater than\n",
    "        # the threshold or not\n",
    "        X_low, X_high, Y_low, Y_high = self.split_by_feature(X, Y, best_feature, best_threshold)\n",
    "\n",
    "        # Build the subtrees using a recursive call. Each subtree is associated\n",
    "        # with a value of the feature.\n",
    "        low_subtree = self.make_tree(X_low, Y_low, max_depth-1)\n",
    "        high_subtree = self.make_tree(X_high, Y_high, max_depth-1)\n",
    "\n",
    "        if low_subtree == high_subtree:\n",
    "            return low_subtree\n",
    "\n",
    "        # Return a decision tree branch containing the result.\n",
    "        return DecisionTreeBranch(best_feature, best_threshold, low_subtree, high_subtree)\n",
    "    \n",
    "    # Utility method that splits the data into the \"upper\" and \"lower\" part, based on a feature\n",
    "    # and a threshold.\n",
    "    def split_by_feature(self, X, Y, feature, threshold):\n",
    "        low = X[:,feature] <= threshold\n",
    "        high = ~low\n",
    "        return X[low], X[high], Y[low], Y[high]\n",
    "    \n",
    "    # The following three methods need to be implemented by the classification and regression subclasses.\n",
    "    \n",
    "    @abstractmethod\n",
    "    def get_default_value(self, Y):\n",
    "        pass\n",
    "\n",
    "    @abstractmethod\n",
    "    def is_homogeneous(self, Y):\n",
    "        pass\n",
    "\n",
    "    @abstractmethod\n",
    "    def best_split(self, X, Y, feature):\n",
    "        pass"
   ]
  },
  {
   "cell_type": "code",
   "execution_count": 260,
   "id": "39db81d9",
   "metadata": {},
   "outputs": [],
   "source": [
    "from collections import Counter\n",
    "\n",
    "class TreeClassifier(DecisionTree, ClassifierMixin):\n",
    "\n",
    "    def __init__(self, max_depth=10, criterion='maj_sum'):\n",
    "        super().__init__(max_depth)\n",
    "        self.criterion = criterion\n",
    "        \n",
    "    def fit(self, X, Y):\n",
    "        # For decision tree classifiers, there are some different ways to measure\n",
    "        # the homogeneity of subsets.\n",
    "        if self.criterion == 'maj_sum':\n",
    "            self.criterion_function = majority_sum_scorer\n",
    "        elif self.criterion == 'info_gain':\n",
    "            self.criterion_function = info_gain_scorer\n",
    "        elif self.criterion == 'gini':\n",
    "            self.criterion_function = gini_scorer\n",
    "        else:\n",
    "            raise Exception(f'Unknown criterion: {self.criterion}')\n",
    "        super().fit(X, Y)\n",
    "        self.classes_ = sorted(set(Y))\n",
    "\n",
    "    # Select a default value that is going to be used if we decide to make a leaf.\n",
    "    # We will select the most common value.\n",
    "    def get_default_value(self, Y):\n",
    "        self.class_distribution = Counter(Y)\n",
    "        return self.class_distribution.most_common(1)[0][0]\n",
    "    \n",
    "    # Checks whether a set of output values is homogeneous. In the classification case, \n",
    "    # this means that all output values are identical.\n",
    "    # We assume that we called get_default_value just before, so that we can access\n",
    "    # the class_distribution attribute. If the class distribution contains just one item,\n",
    "    # this means that the set is homogeneous.\n",
    "    def is_homogeneous(self, Y):\n",
    "        return len(self.class_distribution) == 1\n",
    "        \n",
    "    # Finds the best splitting point for a given feature. We'll keep frequency tables (Counters)\n",
    "    # for the upper and lower parts, and then compute the impurity criterion using these tables.\n",
    "    # In the end, we return a triple consisting of\n",
    "    # - the best score we found, according to the criterion we're using\n",
    "    # - the id of the feature\n",
    "    # - the threshold for the best split\n",
    "    def best_split(self, X, Y, feature):\n",
    "\n",
    "        # Create a list of input-output pairs, where we have sorted\n",
    "        # in ascending order by the input feature we're considering.\n",
    "        sorted_indices = np.argsort(X[:, feature])        \n",
    "        X_sorted = list(X[sorted_indices, feature])\n",
    "        Y_sorted = list(Y[sorted_indices])\n",
    "\n",
    "        n = len(Y)\n",
    "\n",
    "        # The frequency tables corresponding to the parts *before and including*\n",
    "        # and *after* the current element.\n",
    "        low_distr = Counter()\n",
    "        high_distr = Counter(Y)\n",
    "\n",
    "        # Keep track of the best result we've seen so far.\n",
    "        max_score = -np.inf\n",
    "        max_i = None\n",
    "\n",
    "        # Go through all the positions (excluding the last position).\n",
    "        for i in range(0, n-1):\n",
    "\n",
    "            # Input and output at the current position.\n",
    "            x_i = X_sorted[i]\n",
    "            y_i = Y_sorted[i]\n",
    "            \n",
    "            # Update the frequency tables.\n",
    "            low_distr[y_i] += 1\n",
    "            high_distr[y_i] -= 1\n",
    "\n",
    "            # If the input is equal to the input at the next position, we will\n",
    "            # not consider a split here.\n",
    "            #x_next = XY[i+1][0]\n",
    "            x_next = X_sorted[i+1]\n",
    "            if x_i == x_next:\n",
    "                continue\n",
    "\n",
    "            # Compute the homogeneity criterion for a split at this position.\n",
    "            score = self.criterion_function(i+1, low_distr, n-i-1, high_distr)\n",
    "\n",
    "            # If this is the best split, remember it.\n",
    "            if score > max_score:\n",
    "                max_score = score\n",
    "                max_i = i\n",
    "\n",
    "        # If we didn't find any split (meaning that all inputs are identical), return\n",
    "        # a dummy value.\n",
    "        if max_i is None:\n",
    "            return -np.inf, None, None\n",
    "\n",
    "        # Otherwise, return the best split we found and its score.\n",
    "        split_point = 0.5*(X_sorted[max_i] + X_sorted[max_i+1])\n",
    "        return max_score, feature, split_point\n"
   ]
  },
  {
   "cell_type": "code",
   "execution_count": 261,
   "id": "87b3ee2b",
   "metadata": {},
   "outputs": [],
   "source": [
    "def majority_sum_scorer(n_low, low_distr, n_high, high_distr):\n",
    "    maj_sum_low = low_distr.most_common(1)[0][1]\n",
    "    maj_sum_high = high_distr.most_common(1)[0][1]\n",
    "    return maj_sum_low + maj_sum_high\n",
    "    \n",
    "def entropy(distr):\n",
    "    n = sum(distr.values())\n",
    "    ps = [n_i/n for n_i in distr.values()]\n",
    "    return -sum(p*np.log2(p) if p > 0 else 0 for p in ps)\n",
    "\n",
    "def info_gain_scorer(n_low, low_distr, n_high, high_distr):\n",
    "    return -(n_low*entropy(low_distr)+n_high*entropy(high_distr))/(n_low+n_high)\n",
    "\n",
    "def gini_impurity(distr):\n",
    "    n = sum(distr.values())\n",
    "    ps = [n_i/n for n_i in distr.values()]\n",
    "    return 1-sum(p**2 for p in ps)\n",
    "    \n",
    "def gini_scorer(n_low, low_distr, n_high, high_distr):\n",
    "    return -(n_low*gini_impurity(low_distr)+n_high*gini_impurity(high_distr))/(n_low+n_high)"
   ]
  },
  {
   "cell_type": "code",
   "execution_count": 262,
   "id": "e11dd5cb",
   "metadata": {
    "scrolled": true
   },
   "outputs": [
    {
     "data": {
      "image/svg+xml": [
       "<?xml version=\"1.0\" encoding=\"UTF-8\" standalone=\"no\"?>\r\n",
       "<!DOCTYPE svg PUBLIC \"-//W3C//DTD SVG 1.1//EN\"\r\n",
       " \"http://www.w3.org/Graphics/SVG/1.1/DTD/svg11.dtd\">\r\n",
       "<!-- Generated by graphviz version 2.38.0 (20140413.2041)\r\n",
       " -->\r\n",
       "<!-- Title: %3 Pages: 1 -->\r\n",
       "<svg width=\"405pt\" height=\"218pt\"\r\n",
       " viewBox=\"0.00 0.00 405.09 218.00\" xmlns=\"http://www.w3.org/2000/svg\" xmlns:xlink=\"http://www.w3.org/1999/xlink\">\r\n",
       "<g id=\"graph0\" class=\"graph\" transform=\"scale(1 1) rotate(0) translate(4 214)\">\r\n",
       "<title>%3</title>\r\n",
       "<polygon fill=\"white\" stroke=\"none\" points=\"-4,4 -4,-214 401.093,-214 401.093,4 -4,4\"/>\r\n",
       "<!-- 0 -->\r\n",
       "<g id=\"node1\" class=\"node\"><title>0</title>\r\n",
       "<ellipse fill=\"lightgrey\" stroke=\"black\" cx=\"38.3466\" cy=\"-18\" rx=\"38.1938\" ry=\"18\"/>\r\n",
       "<text text-anchor=\"middle\" x=\"38.3466\" y=\"-14.3\" font-family=\"Times New Roman,serif\" font-size=\"14.00\">suspect</text>\r\n",
       "</g>\r\n",
       "<!-- 1 -->\r\n",
       "<g id=\"node2\" class=\"node\"><title>1</title>\r\n",
       "<ellipse fill=\"lightgrey\" stroke=\"black\" cx=\"143.347\" cy=\"-18\" rx=\"48.9926\" ry=\"18\"/>\r\n",
       "<text text-anchor=\"middle\" x=\"143.347\" y=\"-14.3\" font-family=\"Times New Roman,serif\" font-size=\"14.00\">pathologic</text>\r\n",
       "</g>\r\n",
       "<!-- 2 -->\r\n",
       "<g id=\"node3\" class=\"node\"><title>2</title>\r\n",
       "<path fill=\"yellow\" stroke=\"black\" d=\"M179.847,-123C179.847,-123 104.847,-123 104.847,-123 98.8466,-123 92.8466,-117 92.8466,-111 92.8466,-111 92.8466,-99 92.8466,-99 92.8466,-93 98.8466,-87 104.847,-87 104.847,-87 179.847,-87 179.847,-87 185.847,-87 191.847,-93 191.847,-99 191.847,-99 191.847,-111 191.847,-111 191.847,-117 185.847,-123 179.847,-123\"/>\r\n",
       "<text text-anchor=\"middle\" x=\"142.347\" y=\"-101.3\" font-family=\"Times New Roman,serif\" font-size=\"14.00\">ALTV &gt; 68.5?</text>\r\n",
       "</g>\r\n",
       "<!-- 2&#45;&gt;0 -->\r\n",
       "<g id=\"edge1\" class=\"edge\"><title>2&#45;&gt;0</title>\r\n",
       "<path fill=\"none\" stroke=\"black\" d=\"M121.301,-86.799C104.978,-73.4587 82.2587,-54.8897 64.7225,-40.5573\"/>\r\n",
       "<polygon fill=\"black\" stroke=\"black\" points=\"66.5389,-37.5215 56.581,-33.9031 62.109,-42.9415 66.5389,-37.5215\"/>\r\n",
       "<text text-anchor=\"middle\" x=\"112.347\" y=\"-57.8\" font-family=\"Times New Roman,serif\" font-size=\"14.00\">False</text>\r\n",
       "</g>\r\n",
       "<!-- 2&#45;&gt;1 -->\r\n",
       "<g id=\"edge2\" class=\"edge\"><title>2&#45;&gt;1</title>\r\n",
       "<path fill=\"none\" stroke=\"black\" d=\"M142.549,-86.799C142.686,-75.1626 142.87,-59.5479 143.026,-46.2368\"/>\r\n",
       "<polygon fill=\"black\" stroke=\"black\" points=\"146.527,-46.216 143.145,-36.1754 139.527,-46.1335 146.527,-46.216\"/>\r\n",
       "<text text-anchor=\"middle\" x=\"156.847\" y=\"-57.8\" font-family=\"Times New Roman,serif\" font-size=\"14.00\">True</text>\r\n",
       "</g>\r\n",
       "<!-- 3 -->\r\n",
       "<g id=\"node4\" class=\"node\"><title>3</title>\r\n",
       "<ellipse fill=\"lightgrey\" stroke=\"black\" cx=\"259.347\" cy=\"-18\" rx=\"48.9926\" ry=\"18\"/>\r\n",
       "<text text-anchor=\"middle\" x=\"259.347\" y=\"-14.3\" font-family=\"Times New Roman,serif\" font-size=\"14.00\">pathologic</text>\r\n",
       "</g>\r\n",
       "<!-- 4 -->\r\n",
       "<g id=\"node5\" class=\"node\"><title>4</title>\r\n",
       "<ellipse fill=\"lightgrey\" stroke=\"black\" cx=\"361.347\" cy=\"-18\" rx=\"35.9954\" ry=\"18\"/>\r\n",
       "<text text-anchor=\"middle\" x=\"361.347\" y=\"-14.3\" font-family=\"Times New Roman,serif\" font-size=\"14.00\">normal</text>\r\n",
       "</g>\r\n",
       "<!-- 5 -->\r\n",
       "<g id=\"node6\" class=\"node\"><title>5</title>\r\n",
       "<path fill=\"yellow\" stroke=\"black\" d=\"M298.347,-123C298.347,-123 222.347,-123 222.347,-123 216.347,-123 210.347,-117 210.347,-111 210.347,-111 210.347,-99 210.347,-99 210.347,-93 216.347,-87 222.347,-87 222.347,-87 298.347,-87 298.347,-87 304.347,-87 310.347,-93 310.347,-99 310.347,-99 310.347,-111 310.347,-111 310.347,-117 304.347,-123 298.347,-123\"/>\r\n",
       "<text text-anchor=\"middle\" x=\"260.347\" y=\"-101.3\" font-family=\"Times New Roman,serif\" font-size=\"14.00\">Mean &gt; 107.5?</text>\r\n",
       "</g>\r\n",
       "<!-- 5&#45;&gt;3 -->\r\n",
       "<g id=\"edge3\" class=\"edge\"><title>5&#45;&gt;3</title>\r\n",
       "<path fill=\"none\" stroke=\"black\" d=\"M260.144,-86.799C260.007,-75.1626 259.824,-59.5479 259.667,-46.2368\"/>\r\n",
       "<polygon fill=\"black\" stroke=\"black\" points=\"263.166,-46.1335 259.549,-36.1754 256.167,-46.216 263.166,-46.1335\"/>\r\n",
       "<text text-anchor=\"middle\" x=\"275.347\" y=\"-57.8\" font-family=\"Times New Roman,serif\" font-size=\"14.00\">False</text>\r\n",
       "</g>\r\n",
       "<!-- 5&#45;&gt;4 -->\r\n",
       "<g id=\"edge4\" class=\"edge\"><title>5&#45;&gt;4</title>\r\n",
       "<path fill=\"none\" stroke=\"black\" d=\"M280.785,-86.799C296.637,-73.4587 318.701,-54.8897 335.732,-40.5573\"/>\r\n",
       "<polygon fill=\"black\" stroke=\"black\" points=\"338.241,-43.0201 343.638,-33.9031 333.733,-37.6643 338.241,-43.0201\"/>\r\n",
       "<text text-anchor=\"middle\" x=\"330.847\" y=\"-57.8\" font-family=\"Times New Roman,serif\" font-size=\"14.00\">True</text>\r\n",
       "</g>\r\n",
       "<!-- 6 -->\r\n",
       "<g id=\"node7\" class=\"node\"><title>6</title>\r\n",
       "<path fill=\"yellow\" stroke=\"black\" d=\"M246.847,-210C246.847,-210 169.847,-210 169.847,-210 163.847,-210 157.847,-204 157.847,-198 157.847,-198 157.847,-186 157.847,-186 157.847,-180 163.847,-174 169.847,-174 169.847,-174 246.847,-174 246.847,-174 252.847,-174 258.847,-180 258.847,-186 258.847,-186 258.847,-198 258.847,-198 258.847,-204 252.847,-210 246.847,-210\"/>\r\n",
       "<text text-anchor=\"middle\" x=\"208.347\" y=\"-188.3\" font-family=\"Times New Roman,serif\" font-size=\"14.00\">MSTV &gt; 0.45?</text>\r\n",
       "</g>\r\n",
       "<!-- 6&#45;&gt;2 -->\r\n",
       "<g id=\"edge5\" class=\"edge\"><title>6&#45;&gt;2</title>\r\n",
       "<path fill=\"none\" stroke=\"black\" d=\"M194.991,-173.799C185.508,-161.587 172.623,-144.992 161.974,-131.278\"/>\r\n",
       "<polygon fill=\"black\" stroke=\"black\" points=\"164.58,-128.927 155.683,-123.175 159.051,-133.221 164.58,-128.927\"/>\r\n",
       "<text text-anchor=\"middle\" x=\"194.347\" y=\"-144.8\" font-family=\"Times New Roman,serif\" font-size=\"14.00\">False</text>\r\n",
       "</g>\r\n",
       "<!-- 6&#45;&gt;5 -->\r\n",
       "<g id=\"edge6\" class=\"edge\"><title>6&#45;&gt;5</title>\r\n",
       "<path fill=\"none\" stroke=\"black\" d=\"M218.87,-173.799C226.2,-161.817 236.11,-145.617 244.406,-132.057\"/>\r\n",
       "<polygon fill=\"black\" stroke=\"black\" points=\"247.606,-133.532 249.839,-123.175 241.635,-129.879 247.606,-133.532\"/>\r\n",
       "<text text-anchor=\"middle\" x=\"251.847\" y=\"-144.8\" font-family=\"Times New Roman,serif\" font-size=\"14.00\">True</text>\r\n",
       "</g>\r\n",
       "</g>\r\n",
       "</svg>\r\n"
      ],
      "text/plain": [
       "<graphviz.dot.Digraph at 0x239d80de7f0>"
      ]
     },
     "execution_count": 262,
     "metadata": {},
     "output_type": "execute_result"
    }
   ],
   "source": [
    "cls = TreeClassifier(max_depth=2)\n",
    "cls.fit(Xtrain, Ytrain)\n",
    "cls.draw_tree()"
   ]
  },
  {
   "cell_type": "code",
   "execution_count": 263,
   "id": "237d1888",
   "metadata": {},
   "outputs": [
    {
     "name": "stdout",
     "output_type": "stream",
     "text": [
      "0.8685446009389671\n"
     ]
    }
   ],
   "source": [
    "Yguess= cls.predict(Xtest)\n",
    "print(accuracy_score(Ytest,Yguess))"
   ]
  },
  {
   "cell_type": "markdown",
   "id": "2a63b7ac",
   "metadata": {},
   "source": [
    "# TreeClassifier model max_depth hyperparameter tuning"
   ]
  },
  {
   "cell_type": "markdown",
   "id": "f76b77b1",
   "metadata": {
    "scrolled": true
   },
   "source": [
    "### Tuning using the method using above (max_depth plot vs acuracy)"
   ]
  },
  {
   "cell_type": "code",
   "execution_count": 10,
   "id": "3ea3a85d",
   "metadata": {
    "scrolled": true
   },
   "outputs": [
    {
     "ename": "NameError",
     "evalue": "name 'TreeClassifier' is not defined",
     "output_type": "error",
     "traceback": [
      "\u001b[1;31m---------------------------------------------------------------------------\u001b[0m",
      "\u001b[1;31mNameError\u001b[0m                                 Traceback (most recent call last)",
      "\u001b[1;32mC:\\Users\\ADMINI~1\\AppData\\Local\\Temp/ipykernel_16248/3728322791.py\u001b[0m in \u001b[0;36m<module>\u001b[1;34m\u001b[0m\n\u001b[0;32m      7\u001b[0m \u001b[1;33m\u001b[0m\u001b[0m\n\u001b[0;32m      8\u001b[0m \u001b[1;32mfor\u001b[0m \u001b[0mmax_depth\u001b[0m \u001b[1;32min\u001b[0m \u001b[0mmax_depths\u001b[0m\u001b[1;33m:\u001b[0m\u001b[1;33m\u001b[0m\u001b[1;33m\u001b[0m\u001b[0m\n\u001b[1;32m----> 9\u001b[1;33m     \u001b[0mdt\u001b[0m \u001b[1;33m=\u001b[0m \u001b[0mTreeClassifier\u001b[0m\u001b[1;33m(\u001b[0m\u001b[0mmax_depth\u001b[0m\u001b[1;33m=\u001b[0m\u001b[0mmax_depth\u001b[0m\u001b[1;33m)\u001b[0m\u001b[1;33m\u001b[0m\u001b[1;33m\u001b[0m\u001b[0m\n\u001b[0m\u001b[0;32m     10\u001b[0m     \u001b[0mdt\u001b[0m\u001b[1;33m.\u001b[0m\u001b[0mfit\u001b[0m\u001b[1;33m(\u001b[0m\u001b[0mXtrain\u001b[0m\u001b[1;33m,\u001b[0m \u001b[0mYtrain\u001b[0m\u001b[1;33m)\u001b[0m\u001b[1;33m\u001b[0m\u001b[1;33m\u001b[0m\u001b[0m\n\u001b[0;32m     11\u001b[0m     \u001b[0mYpred\u001b[0m \u001b[1;33m=\u001b[0m \u001b[0mdt\u001b[0m\u001b[1;33m.\u001b[0m\u001b[0mpredict\u001b[0m\u001b[1;33m(\u001b[0m\u001b[0mXtest\u001b[0m\u001b[1;33m)\u001b[0m\u001b[1;33m\u001b[0m\u001b[1;33m\u001b[0m\u001b[0m\n",
      "\u001b[1;31mNameError\u001b[0m: name 'TreeClassifier' is not defined"
     ]
    }
   ],
   "source": [
    "import numpy as np\n",
    "\n",
    "max_depths = np.linspace(1, 100, 100, endpoint=True)\n",
    "\n",
    "train_results = []\n",
    "test_results = []\n",
    "\n",
    "for max_depth in max_depths:\n",
    "    dt = TreeClassifier(max_depth=max_depth)\n",
    "    dt.fit(Xtrain, Ytrain)\n",
    "    Ypred = dt.predict(Xtest)\n",
    "    accuracyTemp = accuracy_score(Ytest, Ypred)\n",
    "    # Add auc score to previous test results\n",
    "    test_results.append(accuracyTemp)\n",
    "    \n",
    "import matplotlib.pyplot as plt   \n",
    "from matplotlib.legend_handler import HandlerLine2D\n",
    "line2 = plt.plot(max_depths, test_results, label='Test accuracy')\n",
    "\n",
    "plt.ylabel('Accuracy')\n",
    "plt.xlabel('Tree depth')\n",
    "plt.show()"
   ]
  },
  {
   "cell_type": "markdown",
   "id": "30a97bc0",
   "metadata": {},
   "source": [
    "by searching the space of [1,50] max_depth we found that max_depth = 5 maximizes the accuracy of the TreeClassifier when the only used parameter is max_depth"
   ]
  },
  {
   "cell_type": "markdown",
   "id": "50500514",
   "metadata": {},
   "source": [
    "### Tuning using sklearn gridsearch"
   ]
  },
  {
   "cell_type": "code",
   "execution_count": 265,
   "id": "cebc7a37",
   "metadata": {},
   "outputs": [
    {
     "data": {
      "text/plain": [
       "GridSearchCV(cv=5, estimator=TreeClassifier(), n_jobs=-1,\n",
       "             param_grid={'criterion': ['gini', 'maj_sum', 'info_gain'],\n",
       "                         'max_depth': [3, 5, 10, 40, 70, 100]})"
      ]
     },
     "execution_count": 265,
     "metadata": {},
     "output_type": "execute_result"
    }
   ],
   "source": [
    "dTgridTuned = TreeClassifier()\n",
    "parameter_space = {'max_depth': [3,5,10,40,70,100],\n",
    "                'criterion': ['gini','maj_sum','info_gain']}\n",
    "DtTuned = GridSearchCV(dTgridTuned, parameter_space, n_jobs=-1, cv=5)\n",
    "DtTuned.fit(Xtrain, Ytrain) # X is train samples and y is the corresponding labels"
   ]
  },
  {
   "cell_type": "code",
   "execution_count": 266,
   "id": "3e01e741",
   "metadata": {},
   "outputs": [
    {
     "data": {
      "text/plain": [
       "{'criterion': 'gini', 'max_depth': 5}"
      ]
     },
     "execution_count": 266,
     "metadata": {},
     "output_type": "execute_result"
    }
   ],
   "source": [
    "DtTuned.best_params_"
   ]
  },
  {
   "cell_type": "code",
   "execution_count": 267,
   "id": "320c7bbd",
   "metadata": {
    "scrolled": true
   },
   "outputs": [
    {
     "data": {
      "text/plain": [
       "0.93"
      ]
     },
     "execution_count": 267,
     "metadata": {},
     "output_type": "execute_result"
    }
   ],
   "source": [
    "DTFinal = TreeClassifier(max_depth=5,criterion='gini')\n",
    "cross_val_score(DTFinal, Xtrain, Ytrain).mean()"
   ]
  },
  {
   "cell_type": "markdown",
   "id": "06e1280e",
   "metadata": {},
   "source": [
    "by tuning the model TreeClassifier with a range of different values for max_depth and different types of splitting criterion, we found that the parameters that maximizes the classifier's accuracy are max_depth=5 and criterion = gini impurity which gives us a cross validation accuracy of 93% "
   ]
  },
  {
   "cell_type": "markdown",
   "id": "ef1246fb",
   "metadata": {},
   "source": [
    "## TreeClassifier evaluation on the test set"
   ]
  },
  {
   "cell_type": "code",
   "execution_count": 271,
   "id": "12a8b8d4",
   "metadata": {},
   "outputs": [
    {
     "name": "stdout",
     "output_type": "stream",
     "text": [
      "The testing accuracy of the TreeClassifier model is:  0.906\n"
     ]
    }
   ],
   "source": [
    "DTFinal = TreeClassifier(max_depth=5,criterion='gini')\n",
    "DTFinal.fit(Xtrain, Ytrain)\n",
    "Yguess = DTFinal.predict(Xtest)\n",
    "print('The testing accuracy of the TreeClassifier model is: ',round(accuracy_score(Ytest, Yguess),3))"
   ]
  },
  {
   "cell_type": "markdown",
   "id": "888448c7",
   "metadata": {},
   "source": [
    "By testing the classifier, we got a testing accuracy of approximately 91% by using the hyperparameter <b>max_depth = 5</b> and <b>criterion = 'gini'</b>"
   ]
  },
  {
   "cell_type": "markdown",
   "id": "31b10853",
   "metadata": {},
   "source": [
    "# Task 3"
   ]
  },
  {
   "cell_type": "code",
   "execution_count": 13,
   "id": "979af9a3",
   "metadata": {},
   "outputs": [
    {
     "data": {
      "text/html": [
       "<div>\n",
       "<style scoped>\n",
       "    .dataframe tbody tr th:only-of-type {\n",
       "        vertical-align: middle;\n",
       "    }\n",
       "\n",
       "    .dataframe tbody tr th {\n",
       "        vertical-align: top;\n",
       "    }\n",
       "\n",
       "    .dataframe thead th {\n",
       "        text-align: right;\n",
       "    }\n",
       "</style>\n",
       "<table border=\"1\" class=\"dataframe\">\n",
       "  <thead>\n",
       "    <tr style=\"text-align: right;\">\n",
       "      <th></th>\n",
       "      <th>id</th>\n",
       "      <th>timestamp</th>\n",
       "      <th>full_sq</th>\n",
       "      <th>life_sq</th>\n",
       "      <th>floor</th>\n",
       "      <th>max_floor</th>\n",
       "      <th>material</th>\n",
       "      <th>build_year</th>\n",
       "      <th>num_room</th>\n",
       "      <th>kitch_sq</th>\n",
       "      <th>...</th>\n",
       "      <th>cafe_count_5000_price_2500</th>\n",
       "      <th>cafe_count_5000_price_4000</th>\n",
       "      <th>cafe_count_5000_price_high</th>\n",
       "      <th>big_church_count_5000</th>\n",
       "      <th>church_count_5000</th>\n",
       "      <th>mosque_count_5000</th>\n",
       "      <th>leisure_count_5000</th>\n",
       "      <th>sport_count_5000</th>\n",
       "      <th>market_count_5000</th>\n",
       "      <th>price_doc</th>\n",
       "    </tr>\n",
       "  </thead>\n",
       "  <tbody>\n",
       "    <tr>\n",
       "      <th>0</th>\n",
       "      <td>1</td>\n",
       "      <td>2011-08-20</td>\n",
       "      <td>43</td>\n",
       "      <td>27.0</td>\n",
       "      <td>4.0</td>\n",
       "      <td>NaN</td>\n",
       "      <td>NaN</td>\n",
       "      <td>NaN</td>\n",
       "      <td>NaN</td>\n",
       "      <td>NaN</td>\n",
       "      <td>...</td>\n",
       "      <td>9</td>\n",
       "      <td>4</td>\n",
       "      <td>0</td>\n",
       "      <td>13</td>\n",
       "      <td>22</td>\n",
       "      <td>1</td>\n",
       "      <td>0</td>\n",
       "      <td>52</td>\n",
       "      <td>4</td>\n",
       "      <td>5850000</td>\n",
       "    </tr>\n",
       "    <tr>\n",
       "      <th>1</th>\n",
       "      <td>2</td>\n",
       "      <td>2011-08-23</td>\n",
       "      <td>34</td>\n",
       "      <td>19.0</td>\n",
       "      <td>3.0</td>\n",
       "      <td>NaN</td>\n",
       "      <td>NaN</td>\n",
       "      <td>NaN</td>\n",
       "      <td>NaN</td>\n",
       "      <td>NaN</td>\n",
       "      <td>...</td>\n",
       "      <td>15</td>\n",
       "      <td>3</td>\n",
       "      <td>0</td>\n",
       "      <td>15</td>\n",
       "      <td>29</td>\n",
       "      <td>1</td>\n",
       "      <td>10</td>\n",
       "      <td>66</td>\n",
       "      <td>14</td>\n",
       "      <td>6000000</td>\n",
       "    </tr>\n",
       "    <tr>\n",
       "      <th>2</th>\n",
       "      <td>3</td>\n",
       "      <td>2011-08-27</td>\n",
       "      <td>43</td>\n",
       "      <td>29.0</td>\n",
       "      <td>2.0</td>\n",
       "      <td>NaN</td>\n",
       "      <td>NaN</td>\n",
       "      <td>NaN</td>\n",
       "      <td>NaN</td>\n",
       "      <td>NaN</td>\n",
       "      <td>...</td>\n",
       "      <td>10</td>\n",
       "      <td>3</td>\n",
       "      <td>0</td>\n",
       "      <td>11</td>\n",
       "      <td>27</td>\n",
       "      <td>0</td>\n",
       "      <td>4</td>\n",
       "      <td>67</td>\n",
       "      <td>10</td>\n",
       "      <td>5700000</td>\n",
       "    </tr>\n",
       "    <tr>\n",
       "      <th>3</th>\n",
       "      <td>4</td>\n",
       "      <td>2011-09-01</td>\n",
       "      <td>89</td>\n",
       "      <td>50.0</td>\n",
       "      <td>9.0</td>\n",
       "      <td>NaN</td>\n",
       "      <td>NaN</td>\n",
       "      <td>NaN</td>\n",
       "      <td>NaN</td>\n",
       "      <td>NaN</td>\n",
       "      <td>...</td>\n",
       "      <td>11</td>\n",
       "      <td>2</td>\n",
       "      <td>1</td>\n",
       "      <td>4</td>\n",
       "      <td>4</td>\n",
       "      <td>0</td>\n",
       "      <td>0</td>\n",
       "      <td>26</td>\n",
       "      <td>3</td>\n",
       "      <td>13100000</td>\n",
       "    </tr>\n",
       "    <tr>\n",
       "      <th>4</th>\n",
       "      <td>5</td>\n",
       "      <td>2011-09-05</td>\n",
       "      <td>77</td>\n",
       "      <td>77.0</td>\n",
       "      <td>4.0</td>\n",
       "      <td>NaN</td>\n",
       "      <td>NaN</td>\n",
       "      <td>NaN</td>\n",
       "      <td>NaN</td>\n",
       "      <td>NaN</td>\n",
       "      <td>...</td>\n",
       "      <td>319</td>\n",
       "      <td>108</td>\n",
       "      <td>17</td>\n",
       "      <td>135</td>\n",
       "      <td>236</td>\n",
       "      <td>2</td>\n",
       "      <td>91</td>\n",
       "      <td>195</td>\n",
       "      <td>14</td>\n",
       "      <td>16331452</td>\n",
       "    </tr>\n",
       "  </tbody>\n",
       "</table>\n",
       "<p>5 rows × 292 columns</p>\n",
       "</div>"
      ],
      "text/plain": [
       "   id   timestamp  full_sq  life_sq  floor  max_floor  material  build_year  \\\n",
       "0   1  2011-08-20       43     27.0    4.0        NaN       NaN         NaN   \n",
       "1   2  2011-08-23       34     19.0    3.0        NaN       NaN         NaN   \n",
       "2   3  2011-08-27       43     29.0    2.0        NaN       NaN         NaN   \n",
       "3   4  2011-09-01       89     50.0    9.0        NaN       NaN         NaN   \n",
       "4   5  2011-09-05       77     77.0    4.0        NaN       NaN         NaN   \n",
       "\n",
       "   num_room  kitch_sq  ...  cafe_count_5000_price_2500  \\\n",
       "0       NaN       NaN  ...                           9   \n",
       "1       NaN       NaN  ...                          15   \n",
       "2       NaN       NaN  ...                          10   \n",
       "3       NaN       NaN  ...                          11   \n",
       "4       NaN       NaN  ...                         319   \n",
       "\n",
       "  cafe_count_5000_price_4000 cafe_count_5000_price_high  \\\n",
       "0                          4                          0   \n",
       "1                          3                          0   \n",
       "2                          3                          0   \n",
       "3                          2                          1   \n",
       "4                        108                         17   \n",
       "\n",
       "   big_church_count_5000  church_count_5000  mosque_count_5000  \\\n",
       "0                     13                 22                  1   \n",
       "1                     15                 29                  1   \n",
       "2                     11                 27                  0   \n",
       "3                      4                  4                  0   \n",
       "4                    135                236                  2   \n",
       "\n",
       "   leisure_count_5000  sport_count_5000  market_count_5000  price_doc  \n",
       "0                   0                52                  4    5850000  \n",
       "1                  10                66                 14    6000000  \n",
       "2                   4                67                 10    5700000  \n",
       "3                   0                26                  3   13100000  \n",
       "4                  91               195                 14   16331452  \n",
       "\n",
       "[5 rows x 292 columns]"
      ]
     },
     "execution_count": 13,
     "metadata": {},
     "output_type": "execute_result"
    }
   ],
   "source": [
    "# Read the CSV file using Pandas.\n",
    "alldata = pd.read_csv('sberbank.csv')\n",
    "alldata.head()"
   ]
  },
  {
   "cell_type": "code",
   "execution_count": 14,
   "id": "2bb48f0e",
   "metadata": {
    "scrolled": true
   },
   "outputs": [],
   "source": [
    "# Convert the timestamp string to an integer representing the year.\n",
    "def get_year(timestamp):\n",
    "    return int(timestamp[:4])\n",
    "alldata['year'] = alldata.timestamp.apply(get_year)\n",
    "\n",
    "# Select the 9 input columns and the output column.\n",
    "selected_columns = ['price_doc', 'year', 'full_sq', 'life_sq', 'floor', 'num_room', 'kitch_sq', 'full_all']\n",
    "alldata = alldata[selected_columns]\n",
    "alldata = alldata.dropna()\n",
    "\n",
    "# Shuffle.\n",
    "alldata_shuffled = alldata.sample(frac=1.0, random_state=0)"
   ]
  },
  {
   "cell_type": "code",
   "execution_count": 15,
   "id": "71c1205f",
   "metadata": {},
   "outputs": [],
   "source": [
    "# Separate the input and output columns.\n",
    "X = alldata_shuffled.drop('price_doc', axis=1)\n",
    "# For the output, we'll use the log of the sales price.\n",
    "Y = alldata_shuffled['price_doc'].apply(np.log)\n",
    "\n",
    "# Split into training and test sets.\n",
    "Xtrain, Xtest, Ytrain, Ytest = train_test_split(X, Y, test_size=0.2, random_state=0)"
   ]
  },
  {
   "cell_type": "markdown",
   "id": "fdeb020b",
   "metadata": {},
   "source": [
    "# Dummy Regressor"
   ]
  },
  {
   "cell_type": "code",
   "execution_count": 9,
   "id": "7c252daa",
   "metadata": {},
   "outputs": [
    {
     "data": {
      "text/plain": [
       "0.38925247260237567"
      ]
     },
     "execution_count": 9,
     "metadata": {},
     "output_type": "execute_result"
    }
   ],
   "source": [
    "from sklearn.dummy import DummyRegressor\n",
    "from sklearn.model_selection import cross_validate\n",
    "m1 = DummyRegressor()\n",
    "cross_validate(m1, Xtrain, Ytrain, scoring='neg_mean_squared_error')['test_score'].mean()*-1"
   ]
  },
  {
   "cell_type": "markdown",
   "id": "ecabdded",
   "metadata": {},
   "source": [
    "# Linear models"
   ]
  },
  {
   "cell_type": "markdown",
   "id": "cb3701ea",
   "metadata": {},
   "source": [
    "### Linear Regression"
   ]
  },
  {
   "cell_type": "code",
   "execution_count": 10,
   "id": "9b99c043",
   "metadata": {},
   "outputs": [],
   "source": [
    "from sklearn.metrics import mean_squared_error"
   ]
  },
  {
   "cell_type": "code",
   "execution_count": 11,
   "id": "e8a7c92b",
   "metadata": {},
   "outputs": [
    {
     "data": {
      "text/plain": [
       "0.3013986588767239"
      ]
     },
     "execution_count": 11,
     "metadata": {},
     "output_type": "execute_result"
    }
   ],
   "source": [
    "from sklearn.linear_model import LinearRegression\n",
    "ligr = LinearRegression()\n",
    "cross_validate(ligr, Xtrain, Ytrain, scoring='neg_mean_squared_error')['test_score'].mean()*-1"
   ]
  },
  {
   "cell_type": "markdown",
   "id": "ab4f04dd",
   "metadata": {},
   "source": [
    "### Ridge"
   ]
  },
  {
   "cell_type": "code",
   "execution_count": 12,
   "id": "9f104908",
   "metadata": {},
   "outputs": [
    {
     "data": {
      "text/plain": [
       "0.3013978423217978"
      ]
     },
     "execution_count": 12,
     "metadata": {},
     "output_type": "execute_result"
    }
   ],
   "source": [
    "from sklearn.linear_model import Ridge\n",
    "rid = Ridge()\n",
    "cross_validate(rid, Xtrain, Ytrain, scoring='neg_mean_squared_error')['test_score'].mean()*-1"
   ]
  },
  {
   "cell_type": "code",
   "execution_count": 13,
   "id": "0ea9a0da",
   "metadata": {},
   "outputs": [
    {
     "data": {
      "text/plain": [
       "0.29862531719075025"
      ]
     },
     "execution_count": 13,
     "metadata": {},
     "output_type": "execute_result"
    }
   ],
   "source": [
    "rid = Ridge(alpha=100000)\n",
    "cross_validate(rid, Xtrain, Ytrain, scoring='neg_mean_squared_error')['test_score'].mean()*-1\n",
    "\n",
    "\n"
   ]
  },
  {
   "cell_type": "markdown",
   "id": "2371778d",
   "metadata": {},
   "source": [
    "### tuning Ridge model"
   ]
  },
  {
   "cell_type": "code",
   "execution_count": 14,
   "id": "32be3809",
   "metadata": {},
   "outputs": [],
   "source": [
    "from sklearn.model_selection import RepeatedKFold\n",
    "from sklearn.model_selection import GridSearchCV\n",
    "from numpy import arange\n"
   ]
  },
  {
   "cell_type": "code",
   "execution_count": 15,
   "id": "e8fa2c8b",
   "metadata": {},
   "outputs": [],
   "source": [
    "cv = RepeatedKFold(n_splits=10, n_repeats=3, random_state=1)\n",
    "# define grid\n",
    "model = Ridge()\n",
    "grid = dict()\n",
    "# grid['alpha'] = [0,0.1,0.5,0.9,1,1.5,10,100,10000,70000,100000,100500,1500000]\n",
    "grid['alpha'] = arange(0,1000000,1000)\n",
    "\n",
    "# define search\n",
    "search = GridSearchCV(model, grid, scoring='neg_mean_squared_error', cv=cv, n_jobs=-1)\n",
    "# perform the search\n",
    "results = search.fit(Xtrain, Ytrain)"
   ]
  },
  {
   "cell_type": "code",
   "execution_count": 16,
   "id": "f2a5c625",
   "metadata": {},
   "outputs": [
    {
     "name": "stdout",
     "output_type": "stream",
     "text": [
      "-0.2982146312909345\n",
      "{'alpha': 314000}\n"
     ]
    }
   ],
   "source": [
    "print(results.best_score_)\n",
    "print(results.best_params_)"
   ]
  },
  {
   "cell_type": "markdown",
   "id": "37fc8d94",
   "metadata": {},
   "source": [
    "by tuning Ridge model with L2 penalty lamda (alpha in the code) of different values in a sequence of values of [0,1000,...,1000000], we found that Rigde model with the value lambda (alpha) equal to 314000 had a lower (better) mean squared error than the rest of the values tried when tuning the model"
   ]
  },
  {
   "cell_type": "markdown",
   "id": "bb473f67",
   "metadata": {},
   "source": [
    "### Lasso"
   ]
  },
  {
   "cell_type": "code",
   "execution_count": 17,
   "id": "ee4a7433",
   "metadata": {},
   "outputs": [
    {
     "data": {
      "text/plain": [
       "0.30104706717488716"
      ]
     },
     "execution_count": 17,
     "metadata": {},
     "output_type": "execute_result"
    }
   ],
   "source": [
    "from sklearn.linear_model import Lasso\n",
    "lasso = Lasso()\n",
    "cross_validate(lasso, Xtrain, Ytrain, scoring='neg_mean_squared_error')['test_score'].mean()*-1"
   ]
  },
  {
   "cell_type": "markdown",
   "id": "654a8510",
   "metadata": {},
   "source": [
    "#### Lasso tuning"
   ]
  },
  {
   "cell_type": "code",
   "execution_count": 18,
   "id": "d3f0dba7",
   "metadata": {},
   "outputs": [],
   "source": [
    "cv = RepeatedKFold(n_splits=10, n_repeats=3, random_state=1)\n",
    "lasso_alphas = arange(0, 0.1,10)\n",
    "lasso = Lasso()\n",
    "grid = dict()\n",
    "grid['alpha'] = lasso_alphas\n",
    "\n",
    "gscv = GridSearchCV(lasso, grid, scoring='neg_mean_squared_error',cv=cv, n_jobs=-1)\n",
    "results = gscv.fit(Xtrain, Ytrain)\n",
    "\n",
    "# print('MAE: %.5f' % results.best_score_)\n",
    "# print('Config: %s' % results.best_params_)"
   ]
  },
  {
   "cell_type": "code",
   "execution_count": 19,
   "id": "e34869b8",
   "metadata": {},
   "outputs": [
    {
     "name": "stdout",
     "output_type": "stream",
     "text": [
      "0.3089324957581782\n",
      "{'alpha': 0.0}\n"
     ]
    }
   ],
   "source": [
    "print(results.best_score_*-1)\n",
    "print(results.best_params_)"
   ]
  },
  {
   "cell_type": "code",
   "execution_count": 20,
   "id": "a3c93914",
   "metadata": {},
   "outputs": [
    {
     "data": {
      "text/plain": [
       "0.30139865887671535"
      ]
     },
     "execution_count": 20,
     "metadata": {},
     "output_type": "execute_result"
    }
   ],
   "source": [
    "lasso = Lasso(alpha=0)\n",
    "cross_validate(lasso, Xtrain, Ytrain, scoring='neg_mean_squared_error')['test_score'].mean()*-1"
   ]
  },
  {
   "cell_type": "markdown",
   "id": "ff02621c",
   "metadata": {},
   "source": [
    "By tuning the model using a gridsearch, we found that the gridsearch found that the best L1 penalty lambda (alpha) = 0"
   ]
  },
  {
   "cell_type": "markdown",
   "id": "9bd658ad",
   "metadata": {},
   "source": [
    "# Tree regressors"
   ]
  },
  {
   "cell_type": "markdown",
   "id": "26e33f90",
   "metadata": {},
   "source": [
    "### Decision Tree Regressor"
   ]
  },
  {
   "cell_type": "code",
   "execution_count": 94,
   "id": "6f95d33b",
   "metadata": {},
   "outputs": [
    {
     "data": {
      "text/plain": [
       "0.5283362484582721"
      ]
     },
     "execution_count": 94,
     "metadata": {},
     "output_type": "execute_result"
    }
   ],
   "source": [
    "from sklearn.tree import DecisionTreeRegressor\n",
    "dtr = DecisionTreeRegressor()\n",
    "cross_validate(dtr, Xtrain, Ytrain, scoring='neg_mean_squared_error')['test_score'].mean()*-1"
   ]
  },
  {
   "cell_type": "markdown",
   "id": "9d7cb430",
   "metadata": {},
   "source": [
    "### Tuning decision tree regressor"
   ]
  },
  {
   "cell_type": "code",
   "execution_count": 103,
   "id": "63f137f7",
   "metadata": {},
   "outputs": [
    {
     "data": {
      "text/plain": [
       "GridSearchCV(cv=5, estimator=DecisionTreeRegressor(), n_jobs=-1,\n",
       "             param_grid={'criterion': ['squared_error', 'friedman_mse',\n",
       "                                       'absolute_error', 'poisson'],\n",
       "                         'max_depth': [3, 5, 10, 40, 70, 100]})"
      ]
     },
     "execution_count": 103,
     "metadata": {},
     "output_type": "execute_result"
    }
   ],
   "source": [
    "### Tuning using sklearn gridsearch\n",
    "dTrgridTuned = DecisionTreeRegressor()\n",
    "parameter_space = {'max_depth': [3,5,10,40,70,100],\n",
    "                'criterion': ['squared_error', 'friedman_mse', 'absolute_error', 'poisson']\n",
    "                  }\n",
    "DtTuned = GridSearchCV(dTrgridTuned, parameter_space, n_jobs=-1, cv=5)\n",
    "DtTuned.fit(Xtrain, Ytrain) # X is train samples and y is the corresponding labels"
   ]
  },
  {
   "cell_type": "code",
   "execution_count": 104,
   "id": "1dfd37bf",
   "metadata": {},
   "outputs": [
    {
     "data": {
      "text/plain": [
       "0.27328343498174"
      ]
     },
     "execution_count": 104,
     "metadata": {},
     "output_type": "execute_result"
    }
   ],
   "source": [
    "DtTuned.best_params_\n",
    "DtTuned.best_score_\n"
   ]
  },
  {
   "cell_type": "markdown",
   "id": "19549b68",
   "metadata": {},
   "source": [
    "By tuning the Decision tree regressor model on the parameters<b> max_depth</b> and <b> criterion</b>, we found that the hyperparameters values that minimizes the model's MSE are <b> max_depth = 5</b> and <b> creterion = 'friedman_mse'</b> which resulted in a MSE value of 0.27 "
   ]
  },
  {
   "cell_type": "markdown",
   "id": "4dd7a339",
   "metadata": {},
   "source": [
    "### Random Forest Regressor"
   ]
  },
  {
   "cell_type": "code",
   "execution_count": 21,
   "id": "901c9761",
   "metadata": {},
   "outputs": [
    {
     "data": {
      "text/plain": [
       "0.29733581591151304"
      ]
     },
     "execution_count": 21,
     "metadata": {},
     "output_type": "execute_result"
    }
   ],
   "source": [
    "from sklearn.ensemble import RandomForestRegressor\n",
    "regr = RandomForestRegressor(max_depth=2, random_state=0)\n",
    "cross_validate(regr, Xtrain, Ytrain, scoring='neg_mean_squared_error')['test_score'].mean()*-1### Tuning decision tree regressor"
   ]
  },
  {
   "cell_type": "markdown",
   "id": "f3e43b31",
   "metadata": {},
   "source": [
    "### Tuning Random Forest regressor"
   ]
  },
  {
   "cell_type": "code",
   "execution_count": 22,
   "id": "f460d6c3",
   "metadata": {},
   "outputs": [],
   "source": [
    "# ### Tuning using sklearn gridsearch\n",
    "# RfRgridTuned = RandomForestRegressor()\n",
    "# parameter_space = {'max_depth': [0,2,3,5,10,40,70,100],\n",
    "#                 'criterion': ['squared_error', 'absolute_error', 'poisson'],\n",
    "#                   'n_estimators' : [1, 2, 4, 8, 16, 32, 64, 100, 200,500]}\n",
    "# RFRTuned = GridSearchCV(RfRgridTuned, parameter_space, n_jobs=-1, cv=5)\n",
    "# RFRTuned.fit(Xtrain, Ytrain) # X is train samples and y is the corresponding labels"
   ]
  },
  {
   "cell_type": "code",
   "execution_count": 23,
   "id": "1d610372",
   "metadata": {},
   "outputs": [],
   "source": [
    "# RFRTuned.best_params_\n",
    "# RFRTuned.best_score_"
   ]
  },
  {
   "cell_type": "markdown",
   "id": "0e8375b5",
   "metadata": {},
   "source": [
    "#### check result tutus laptop"
   ]
  },
  {
   "cell_type": "markdown",
   "id": "91e29a21",
   "metadata": {},
   "source": [
    "By tuning the Decision tree regressor model on the parameters<b> max_depth</b>, <b>n_estimators</b> and <b> criterion</b>, we found that the hyperparameters values that minimizes the model's MSE are <b> max_depth = 5</b> and <b> creterion = 'friedman_mse'</b> which resulted in a MSE value of 0.27 "
   ]
  },
  {
   "cell_type": "markdown",
   "id": "02632d11",
   "metadata": {},
   "source": [
    "### Gradient Boosting Regressor"
   ]
  },
  {
   "cell_type": "code",
   "execution_count": 299,
   "id": "072c63a9",
   "metadata": {},
   "outputs": [
    {
     "data": {
      "text/plain": [
       "0.2645277052173839"
      ]
     },
     "execution_count": 299,
     "metadata": {},
     "output_type": "execute_result"
    }
   ],
   "source": [
    "from sklearn.ensemble import GradientBoostingRegressor\n",
    "gbr = GradientBoostingRegressor()\n",
    "cross_validate(gbr, Xtrain, Ytrain, scoring='neg_mean_squared_error')['test_score'].mean()*-1"
   ]
  },
  {
   "cell_type": "markdown",
   "id": "b95064f7",
   "metadata": {},
   "source": [
    "### Gradient boosting tuning"
   ]
  },
  {
   "cell_type": "code",
   "execution_count": 26,
   "id": "5a653b31",
   "metadata": {
    "scrolled": true
   },
   "outputs": [],
   "source": [
    "# GBRgridTuned = RandomForestRegressor()\n",
    "# parameter_space = {'loss' : ['squared_error', 'absolute_error', 'huber', 'quantile'],\n",
    "#                 'criterion': ['squared_error', 'mae', 'mse','friedman_mse'],\n",
    "#                   'n_estimators' : [ 2, 4, 8, 16, 32, 64, 100, 200,500]\n",
    "#                   ,'alpha': 0.00001,0.0001,0.001,0.01,1}\n",
    "# GBRTuned = GridSearchCV(GBRgridTuned, parameter_space, n_jobs=-1, cv=5)\n",
    "# GBRTuned.fit(Xtrain, Ytrain) # X is train samples and y is the corresponding labels"
   ]
  },
  {
   "cell_type": "code",
   "execution_count": 25,
   "id": "2b5e097d",
   "metadata": {},
   "outputs": [],
   "source": [
    "# GBRTuned.best_params_\n",
    "# GBRTuned.best_score_"
   ]
  },
  {
   "cell_type": "markdown",
   "id": "515523c7",
   "metadata": {},
   "source": [
    "### MLP Regressor"
   ]
  },
  {
   "cell_type": "code",
   "execution_count": 29,
   "id": "c2039409",
   "metadata": {
    "scrolled": true
   },
   "outputs": [
    {
     "data": {
      "text/plain": [
       "433.82829359327917"
      ]
     },
     "execution_count": 29,
     "metadata": {},
     "output_type": "execute_result"
    }
   ],
   "source": [
    "from sklearn.neural_network import MLPRegressor\n",
    "mlp = MLPRegressor(max_iter=5)\n",
    "cross_validate(mlp, Xtrain, Ytrain, scoring='neg_mean_squared_error')['test_score'].mean()*-1"
   ]
  },
  {
   "cell_type": "markdown",
   "id": "6c4e03dd",
   "metadata": {},
   "source": [
    "### Tuning MLP regressor"
   ]
  },
  {
   "cell_type": "code",
   "execution_count": null,
   "id": "df1fa877",
   "metadata": {},
   "outputs": [],
   "source": [
    "# mlpRgridTuned = MLPRegressor()\n",
    "# parameter_space = {\n",
    "#     'hidden_layer_sizes': [(1000,),(5000,)],\n",
    "#     'activation': ['tanh', 'relu','logistic'],\n",
    "#     'solver': ['lbfgs', 'sgd','adam'],\n",
    "#     'alpha': [0.00001,0.0001,0.001,0.01,0.1,1],\n",
    "#     'learning_rate': ['constant','invscaling', 'adaptive'],\n",
    "# }\n",
    "# mlpTuned = GridSearchCV(mlpRgridTuned, parameter_space, n_jobs=-1, cv=5)\n",
    "# mlpTuned.fit(Xtrain, Ytrain) # X is train samples and y is the corresponding labels"
   ]
  },
  {
   "cell_type": "code",
   "execution_count": null,
   "id": "592463b1",
   "metadata": {},
   "outputs": [],
   "source": [
    "# mlpTuned.best_params_\n",
    "# mlpTuned.best_score_"
   ]
  },
  {
   "cell_type": "markdown",
   "id": "289bec93",
   "metadata": {},
   "source": [
    "# To Do: models evaluation on testing set"
   ]
  },
  {
   "cell_type": "markdown",
   "id": "67333629",
   "metadata": {},
   "source": [
    "# Task 4"
   ]
  },
  {
   "cell_type": "markdown",
   "id": "060f3436",
   "metadata": {},
   "source": [
    "## Step 1"
   ]
  },
  {
   "cell_type": "code",
   "execution_count": 16,
   "id": "637ebe35",
   "metadata": {},
   "outputs": [],
   "source": [
    "class DecisionTreeLeaf:\n",
    "\n",
    "    def __init__(self, value):\n",
    "        self.value = value\n",
    "\n",
    "    # This method computes the prediction for this leaf node. This will just return a constant value.\n",
    "    def predict(self, x):\n",
    "        return self.value\n",
    "\n",
    "    # Utility function to draw a tree visually using graphviz.\n",
    "    def draw_tree(self, graph, node_counter, names):\n",
    "        node_id = str(node_counter)\n",
    "        val_str = f'{self.value:.4g}' if isinstance(self.value, float) else str(self.value)\n",
    "        graph.node(node_id, val_str, style='filled')\n",
    "        return node_counter+1, node_id\n",
    "        \n",
    "    def __eq__(self, other):\n",
    "        if isinstance(other, DecisionTreeLeaf):\n",
    "            return self.value == other.value\n",
    "        else:\n",
    "            return False"
   ]
  },
  {
   "cell_type": "code",
   "execution_count": 17,
   "id": "5e4c75d2",
   "metadata": {},
   "outputs": [],
   "source": [
    "class DecisionTreeBranch:\n",
    "\n",
    "    def __init__(self, feature, threshold, low_subtree, high_subtree):\n",
    "        self.feature = feature\n",
    "        self.threshold = threshold\n",
    "        self.low_subtree = low_subtree\n",
    "        self.high_subtree = high_subtree\n",
    "\n",
    "    # For a branch node, we compute the prediction by first considering the feature, and then \n",
    "    # calling the upper or lower subtree, depending on whether the feature is or isn't greater\n",
    "    # than the threshold.\n",
    "    def predict(self, x):\n",
    "        if x[self.feature] <= self.threshold:\n",
    "            return self.low_subtree.predict(x)\n",
    "        else:\n",
    "            return self.high_subtree.predict(x)\n",
    "\n",
    "    # Utility function to draw a tree visually using graphviz.\n",
    "    def draw_tree(self, graph, node_counter, names):\n",
    "        node_counter, low_id = self.low_subtree.draw_tree(graph, node_counter, names)\n",
    "        node_counter, high_id = self.high_subtree.draw_tree(graph, node_counter, names)\n",
    "        node_id = str(node_counter)\n",
    "        fname = f'F{self.feature}' if names is None else names[self.feature]\n",
    "        lbl = f'{fname} > {self.threshold:.4g}?'\n",
    "        graph.node(node_id, lbl, shape='box', fillcolor='yellow', style='filled, rounded')\n",
    "        graph.edge(node_id, low_id, 'False')\n",
    "        graph.edge(node_id, high_id, 'True')\n",
    "        return node_counter+1, node_id\n",
    "        "
   ]
  },
  {
   "cell_type": "code",
   "execution_count": 18,
   "id": "524f179e",
   "metadata": {
    "scrolled": false
   },
   "outputs": [],
   "source": [
    "from graphviz import Digraph\n",
    "from sklearn.base import BaseEstimator, RegressorMixin\n",
    "from abc import ABC, abstractmethod\n",
    "\n",
    "class DecisionTree(ABC, BaseEstimator):\n",
    "\n",
    "    def __init__(self, max_depth):\n",
    "        super().__init__()\n",
    "        self.max_depth = max_depth\n",
    "        \n",
    "    # As usual in scikit-learn, the training method is called *fit*. We first process the dataset so that\n",
    "    # we're sure that it's represented as a NumPy matrix. Then we call the recursive tree-building method\n",
    "    # called make_tree (see below).\n",
    "    def fit(self, X, Y):\n",
    "        if isinstance(X, pd.DataFrame):\n",
    "            self.names = X.columns\n",
    "            X = X.to_numpy()\n",
    "        elif isinstance(X, list):\n",
    "            self.names = None\n",
    "            X = np.array(X)\n",
    "        else:\n",
    "            self.names = None\n",
    "        Y = np.array(Y)        \n",
    "        self.root = self.make_tree(X, Y, self.max_depth)\n",
    "        \n",
    "    def draw_tree(self):\n",
    "        graph = Digraph()\n",
    "        self.root.draw_tree(graph, 0, self.names)\n",
    "        return graph\n",
    "    \n",
    "    # By scikit-learn convention, the method *predict* computes the classification or regression output\n",
    "    # for a set of instances.\n",
    "    # To implement it, we call a separate method that carries out the prediction for one instance.\n",
    "    def predict(self, X):\n",
    "        if isinstance(X, pd.DataFrame):\n",
    "            X = X.to_numpy()\n",
    "        return [self.predict_one(x) for x in X]\n",
    "\n",
    "    # Predicting the output for one instance.\n",
    "    def predict_one(self, x):\n",
    "        return self.root.predict(x)        \n",
    "\n",
    "    # This is the recursive training \n",
    "    def make_tree(self, X, Y, max_depth):\n",
    "\n",
    "        # We start by computing the default value that will be used if we'll return a leaf node.\n",
    "        # For classifiers, this will be the most common value in Y.\n",
    "        default_value = self.get_default_value(Y)\n",
    "\n",
    "        # First the two base cases in the recursion: is the training set completely\n",
    "        # homogeneous, or have we reached the maximum depth? Then we need to return a leaf.\n",
    "\n",
    "        # If we have reached the maximum depth, return a leaf with the majority value.\n",
    "        if max_depth == 0:\n",
    "            return DecisionTreeLeaf(default_value)\n",
    "\n",
    "        # If all the instances in the remaining training set have the same output value,\n",
    "        # return a leaf with this value.\n",
    "        if self.is_homogeneous(Y):\n",
    "            return DecisionTreeLeaf(default_value)\n",
    "\n",
    "        # Select the \"most useful\" feature and split threshold. To rank the \"usefulness\" of features,\n",
    "        # we use one of the classification or regression criteria.\n",
    "        # For each feature, we call best_split (defined in a subclass). We then maximize over the features.\n",
    "        n_features = X.shape[1]\n",
    "        _, best_feature, best_threshold = max(self.best_split(X, Y, feature) for feature in range(n_features))\n",
    "        \n",
    "        if best_feature is None:\n",
    "            return DecisionTreeLeaf(default_value)\n",
    "\n",
    "        # Split the training set into subgroups, based on whether the selected feature is greater than\n",
    "        # the threshold or not\n",
    "        X_low, X_high, Y_low, Y_high = self.split_by_feature(X, Y, best_feature, best_threshold)\n",
    "\n",
    "        # Build the subtrees using a recursive call. Each subtree is associated\n",
    "        # with a value of the feature.\n",
    "        low_subtree = self.make_tree(X_low, Y_low, max_depth-1)\n",
    "        high_subtree = self.make_tree(X_high, Y_high, max_depth-1)\n",
    "\n",
    "        if low_subtree == high_subtree:\n",
    "            return low_subtree\n",
    "\n",
    "        # Return a decision tree branch containing the result.\n",
    "        return DecisionTreeBranch(best_feature, best_threshold, low_subtree, high_subtree)\n",
    "    \n",
    "    # Utility method that splits the data into the \"upper\" and \"lower\" part, based on a feature\n",
    "    # and a threshold.\n",
    "    def split_by_feature(self, X, Y, feature, threshold):\n",
    "        low = X[:,feature] <= threshold\n",
    "        high = ~low\n",
    "        return X[low], X[high], Y[low], Y[high]\n",
    "    \n",
    "    # The following three methods need to be implemented by the classification and regression subclasses.\n",
    "    \n",
    "    @abstractmethod\n",
    "    def get_default_value(self, Y):\n",
    "        pass\n",
    "\n",
    "    @abstractmethod\n",
    "    def is_homogeneous(self, Y):\n",
    "        pass\n",
    "\n",
    "    @abstractmethod\n",
    "    def best_split(self, X, Y, feature):\n",
    "        pass"
   ]
  },
  {
   "cell_type": "code",
   "execution_count": 159,
   "id": "d3fbe858",
   "metadata": {},
   "outputs": [],
   "source": [
    "from collections import Counter\n",
    "\n",
    "class TreeRegressor(DecisionTree, RegressorMixin):\n",
    "\n",
    "    def __init__(self, max_depth=10,  criterion='var_red'):\n",
    "        super().__init__(max_depth)\n",
    "        self.criterion = criterion\n",
    "        \n",
    "        \n",
    "    def fit(self, X, Y):\n",
    "        # For decision tree classifiers, there are some different ways to measure\n",
    "        # the homogeneity of subsets.\n",
    "        if self.criterion == 'var_red':\n",
    "            self.criterion_function = variance_reduction_scorer\n",
    "        else:\n",
    "            raise Exception(f'Unknown criterion: {self.criterion}')\n",
    "        super().fit(X, Y)\n",
    "        self.classes_ = sorted(set(Y))\n",
    "\n",
    "    # Select a default value that is going to be used if we decide to make a leaf.\n",
    "    # We will select the most common value.\n",
    "    def get_default_value(self, Y):\n",
    "        return np.mean(Y)\n",
    "    \n",
    "    # Checks whether a set of output values is homogeneous. In the classification case, \n",
    "    # this means that all output values are identical.\n",
    "    # We assume that we called get_default_value just before, so that we can access\n",
    "    # the class_distribution attribute. If the class distribution contains just one item,\n",
    "    # this means that the set is homogeneous.\n",
    "    def is_homogeneous(self, Y):\n",
    "        return np.var(Y) <= 0.2 #threshold (set to be 0.2 through trial and error to minimize the mse)\n",
    "        \n",
    "    # Finds the best splitting point for a given feature. We'll keep frequency tables (Counters)\n",
    "    # for the upper and lower parts, and then compute the impurity criterion using these tables.\n",
    "    # In the end, we return a triple consisting of\n",
    "    # - the best score we found, according to the criterion we're using\n",
    "    # - the id of the feature\n",
    "    # - the threshold for the best split\n",
    "    def best_split(self, X, Y, feature):\n",
    "\n",
    "        # Create a list of input-output pairs, where we have sorted\n",
    "        # in ascending order by the input feature we're considering.\n",
    "        sorted_indices = np.argsort(X[:, feature])        \n",
    "        X_sorted = list(X[sorted_indices, feature])\n",
    "        Y_sorted = list(Y[sorted_indices])\n",
    "\n",
    "        n = len(Y)\n",
    "        \n",
    "        \n",
    "        # declaring the 2 subsets of the feature as empty list and the full list before entering the loop\n",
    "        low_distr = []\n",
    "        high_distr = Y_sorted\n",
    "        \n",
    "        # Keep track of the best result we've seen so far.\n",
    "        max_score = -np.inf\n",
    "        max_i = None\n",
    "\n",
    "\n",
    "\n",
    "        # Go through all the positions (excluding the last position).\n",
    "        for i in range(0, n-1):\n",
    "\n",
    "            # Input and output at the current position.\n",
    "            x_i = X_sorted[i]\n",
    "            y_i = Y_sorted[i]\n",
    "\n",
    "            \n",
    "            # Update the frequency tables.\n",
    "#             low_distr[y_i] += 1\n",
    "#             high_distr[y_i] -= 1\n",
    "            \n",
    "            #low_distr subset is the output variable items before the current instance, and \n",
    "            #high_distr subset is the output variable items from and after the current instance, and \n",
    "            low_distr =  Y_sorted[0:i]    \n",
    "            high_distr = Y_sorted[i:]\n",
    "\n",
    "            # If the input is equal to the input at the next position, we will\n",
    "            # not consider a split here.\n",
    "            #x_next = XY[i+1][0]\n",
    "            x_next = X_sorted[i+1]\n",
    "            if x_i == x_next:\n",
    "                continue\n",
    "                \n",
    "\n",
    "            # Compute the homogeneity criterion for a split at this position.\n",
    "            score = self.criterion_function(i+1, low_distr, n-i-1, high_distr)\n",
    "\n",
    "            # If this is the best split, remember it.\n",
    "            if score > max_score:\n",
    "                max_score = score\n",
    "                max_i = i\n",
    "\n",
    "        # If we didn't find any split (meaning that all inputs are identical), return\n",
    "        # a dummy value.\n",
    "        if max_i is None:\n",
    "            return -np.inf, None, None\n",
    "\n",
    "        # Otherwise, return the best split we found and its score.\n",
    "        split_point = 0.5*(X_sorted[max_i] + X_sorted[max_i+1])\n",
    "        return max_score, feature, split_point\n"
   ]
  },
  {
   "cell_type": "code",
   "execution_count": 160,
   "id": "50438472",
   "metadata": {},
   "outputs": [],
   "source": [
    "def variance_reduction_scorer(n_low, low_distr, n_high, high_distr): \n",
    "    return np.var(low_distr + high_distr)-n_low/(n_low+n_high)*np.var(high_distr)-n_high/(n_low+n_high)*np.var(low_distr)\n",
    "\n",
    "def majority_sum_scorer(n_low, low_distr, n_high, high_distr):\n",
    "    maj_sum_low = low_distr.most_common(1)[0][1]\n",
    "    maj_sum_high = high_distr.most_common(1)[0][1]\n",
    "    return maj_sum_low + maj_sum_high\n",
    "    \n",
    "def entropy(distr):\n",
    "    n = sum(distr.values())\n",
    "    ps = [n_i/n for n_i in distr.values()]\n",
    "    return -sum(p*np.log2(p) if p > 0 else 0 for p in ps)\n",
    "\n",
    "def info_gain_scorer(n_low, low_distr, n_high, high_distr):\n",
    "    return -(n_low*entropy(low_distr)+n_high*entropy(high_distr))/(n_low+n_high)\n",
    "\n",
    "def gini_impurity(distr):\n",
    "    n = sum(distr.values())\n",
    "    ps = [n_i/n for n_i in distr.values()]\n",
    "    return 1-sum(p**2 for p in ps)\n",
    "    \n",
    "def gini_scorer(n_low, low_distr, n_high, high_distr):\n",
    "    return -(n_low*gini_impurity(low_distr)+n_high*gini_impurity(high_distr))/(n_low+n_high)"
   ]
  },
  {
   "cell_type": "code",
   "execution_count": 161,
   "id": "0695be74",
   "metadata": {},
   "outputs": [
    {
     "data": {
      "text/plain": [
       "0.3891468647585385"
      ]
     },
     "execution_count": 161,
     "metadata": {},
     "output_type": "execute_result"
    }
   ],
   "source": [
    "np.var(Ytrain)"
   ]
  },
  {
   "cell_type": "code",
   "execution_count": 162,
   "id": "c2b1bd66",
   "metadata": {},
   "outputs": [],
   "source": [
    "dtr = TreeRegressor(max_depth=5)\n",
    "dtr.fit(Xtrain, Ytrain)"
   ]
  },
  {
   "cell_type": "code",
   "execution_count": 163,
   "id": "2b58d624",
   "metadata": {},
   "outputs": [],
   "source": [
    "Yguess = dtr.predict(Xtest)"
   ]
  },
  {
   "cell_type": "code",
   "execution_count": 164,
   "id": "15ef52df",
   "metadata": {},
   "outputs": [
    {
     "data": {
      "text/plain": [
       "0.4027607081960747"
      ]
     },
     "execution_count": 164,
     "metadata": {},
     "output_type": "execute_result"
    }
   ],
   "source": [
    "from sklearn.metrics import mean_squared_error\n",
    "  \n",
    "mean_squared_error(Ytest,Yguess)"
   ]
  },
  {
   "cell_type": "markdown",
   "id": "deb14d51",
   "metadata": {},
   "source": [
    "### TreeRegressorer model max_depth hyperparameter tuning"
   ]
  },
  {
   "cell_type": "markdown",
   "id": "c682dddb",
   "metadata": {
    "scrolled": true
   },
   "source": [
    "### Tuning using the method using above (max_depth plot vs acuracy)"
   ]
  },
  {
   "cell_type": "code",
   "execution_count": 128,
   "id": "52881980",
   "metadata": {
    "scrolled": true
   },
   "outputs": [
    {
     "data": {
      "image/png": "[encoded data removed]",
      "text/plain": [
       "<Figure size 432x288 with 1 Axes>"
      ]
     },
     "metadata": {
      "needs_background": "light"
     },
     "output_type": "display_data"
    }
   ],
   "source": [
    "max_depths = np.linspace(1, 15, 15, endpoint=True)\n",
    "\n",
    "train_results = []\n",
    "test_results = []\n",
    "\n",
    "for max_depth in max_depths:\n",
    "    dt = TreeRegressor(max_depth=max_depth)\n",
    "    dt.fit(Xtrain, Ytrain)\n",
    "    Ypred = dt.predict(Xtest)\n",
    "    mseTemp = mean_squared_error(Ytest, Ypred)\n",
    "    test_results.append(mseTemp)\n",
    "    \n",
    "import matplotlib.pyplot as plt   \n",
    "from matplotlib.legend_handler import HandlerLine2D\n",
    "\n",
    "plt.plot(max_depths, test_results)\n",
    "plt.ylabel('MSE')\n",
    "plt.xlabel('Tree depth')\n",
    "plt.show()"
   ]
  },
  {
   "cell_type": "markdown",
   "id": "b088a1fa",
   "metadata": {},
   "source": [
    "### Tuning using sklearn gridsearch"
   ]
  },
  {
   "cell_type": "code",
   "execution_count": 265,
   "id": "afadefbf",
   "metadata": {},
   "outputs": [
    {
     "data": {
      "text/plain": [
       "GridSearchCV(cv=5, estimator=TreeClassifier(), n_jobs=-1,\n",
       "             param_grid={'criterion': ['gini', 'maj_sum', 'info_gain'],\n",
       "                         'max_depth': [3, 5, 10, 40, 70, 100]})"
      ]
     },
     "execution_count": 265,
     "metadata": {},
     "output_type": "execute_result"
    }
   ],
   "source": [
    "# dTgridTuned = TreeClassifier()\n",
    "# parameter_space = {'max_depth': [3,5,10,40,70,100]}\n",
    "# DtTuned = GridSearchCV(dTgridTuned, parameter_space, n_jobs=-1, cv=5)\n",
    "# DtTuned.fit(Xtrain, Ytrain) # X is train samples and y is the corresponding labels"
   ]
  },
  {
   "cell_type": "code",
   "execution_count": 266,
   "id": "7106aa68",
   "metadata": {},
   "outputs": [
    {
     "data": {
      "text/plain": [
       "{'criterion': 'gini', 'max_depth': 5}"
      ]
     },
     "execution_count": 266,
     "metadata": {},
     "output_type": "execute_result"
    }
   ],
   "source": [
    "# DtTuned.best_params_"
   ]
  },
  {
   "cell_type": "code",
   "execution_count": 267,
   "id": "1a35cbf8",
   "metadata": {
    "scrolled": true
   },
   "outputs": [
    {
     "data": {
      "text/plain": [
       "0.93"
      ]
     },
     "execution_count": 267,
     "metadata": {},
     "output_type": "execute_result"
    }
   ],
   "source": [
    "# DTFinal = TreeClassifier(max_depth=5,criterion='gini')\n",
    "# cross_val_score(DTFinal, Xtrain, Ytrain).mean()"
   ]
  },
  {
   "cell_type": "markdown",
   "id": "6933a41b",
   "metadata": {},
   "source": [
    "## Step 2"
   ]
  },
  {
   "cell_type": "code",
   "execution_count": 129,
   "id": "a76097df",
   "metadata": {},
   "outputs": [],
   "source": [
    "def make_some_data(n):\n",
    "    x = np.random.uniform(-5, 5, size=n)\n",
    "    Y = (x > 1) + 0.1*np.random.normal(size=n)\n",
    "    X = x.reshape(n, 1) # X needs to be a 2-dimensional matrix\n",
    "    return X, Y"
   ]
  },
  {
   "cell_type": "code",
   "execution_count": 131,
   "id": "6b32398b",
   "metadata": {
    "scrolled": true
   },
   "outputs": [
    {
     "data": {
      "image/png": "[encoded data removed]",
      "text/plain": [
       "<Figure size 360x360 with 1 Axes>"
      ]
     },
     "metadata": {
      "needs_background": "light"
     },
     "output_type": "display_data"
    }
   ],
   "source": [
    "dataTemp = make_some_data(100)\n",
    "\n",
    "plt.figure(figsize=(5,5))\n",
    "plt.scatter(dataTemp[0], dataTemp[1], cmap='tab10');"
   ]
  },
  {
   "cell_type": "code",
   "execution_count": 133,
   "id": "3882f15c",
   "metadata": {},
   "outputs": [],
   "source": [
    "dataTemp = make_some_data(1000)\n",
    "XtrainTemp, XtestTemp, YtrainTemp, YtestTemp = train_test_split(dataTemp[0], dataTemp[1], test_size=0.2, random_state=0)"
   ]
  },
  {
   "cell_type": "code",
   "execution_count": 134,
   "id": "0aa339e3",
   "metadata": {},
   "outputs": [],
   "source": [
    "dtrTemp = TreeRegressor(max_depth=5)\n",
    "dtrTemp.fit(XtrainTemp, YtrainTemp)"
   ]
  },
  {
   "cell_type": "code",
   "execution_count": 135,
   "id": "e7fa5068",
   "metadata": {},
   "outputs": [],
   "source": [
    "Yguess = dtrTemp.predict(Xtest)"
   ]
  },
  {
   "cell_type": "code",
   "execution_count": 136,
   "id": "c65a3c44",
   "metadata": {},
   "outputs": [
    {
     "data": {
      "text/plain": [
       "234.68069971256855"
      ]
     },
     "execution_count": 136,
     "metadata": {},
     "output_type": "execute_result"
    }
   ],
   "source": [
    "from sklearn.metrics import mean_squared_error\n",
    "  \n",
    "mean_squared_error(Ytest,Yguess)"
   ]
  },
  {
   "cell_type": "code",
   "execution_count": 137,
   "id": "d87addc6",
   "metadata": {},
   "outputs": [
    {
     "data": {
      "image/svg+xml": [
       "<?xml version=\"1.0\" encoding=\"UTF-8\" standalone=\"no\"?>\r\n",
       "<!DOCTYPE svg PUBLIC \"-//W3C//DTD SVG 1.1//EN\"\r\n",
       " \"http://www.w3.org/Graphics/SVG/1.1/DTD/svg11.dtd\">\r\n",
       "<!-- Generated by graphviz version 2.38.0 (20140413.2041)\r\n",
       " -->\r\n",
       "<!-- Title: %3 Pages: 1 -->\r\n",
       "<svg width=\"425pt\" height=\"479pt\"\r\n",
       " viewBox=\"0.00 0.00 424.74 479.00\" xmlns=\"http://www.w3.org/2000/svg\" xmlns:xlink=\"http://www.w3.org/1999/xlink\">\r\n",
       "<g id=\"graph0\" class=\"graph\" transform=\"scale(1 1) rotate(0) translate(4 475)\">\r\n",
       "<title>%3</title>\r\n",
       "<polygon fill=\"white\" stroke=\"none\" points=\"-4,4 -4,-475 420.743,-475 420.743,4 -4,4\"/>\r\n",
       "<!-- 0 -->\r\n",
       "<g id=\"node1\" class=\"node\"><title>0</title>\r\n",
       "<ellipse fill=\"lightgrey\" stroke=\"black\" cx=\"39.6465\" cy=\"-366\" rx=\"39.7935\" ry=\"18\"/>\r\n",
       "<text text-anchor=\"middle\" x=\"39.6465\" y=\"-362.3\" font-family=\"Times New Roman,serif\" font-size=\"14.00\">0.02828</text>\r\n",
       "</g>\r\n",
       "<!-- 1 -->\r\n",
       "<g id=\"node2\" class=\"node\"><title>1</title>\r\n",
       "<ellipse fill=\"lightgrey\" stroke=\"black\" cx=\"102.646\" cy=\"-279\" rx=\"39.7935\" ry=\"18\"/>\r\n",
       "<text text-anchor=\"middle\" x=\"102.646\" y=\"-275.3\" font-family=\"Times New Roman,serif\" font-size=\"14.00\">0.08811</text>\r\n",
       "</g>\r\n",
       "<!-- 2 -->\r\n",
       "<g id=\"node3\" class=\"node\"><title>2</title>\r\n",
       "<ellipse fill=\"lightgrey\" stroke=\"black\" cx=\"164.646\" cy=\"-192\" rx=\"42.4939\" ry=\"18\"/>\r\n",
       "<text text-anchor=\"middle\" x=\"164.646\" y=\"-188.3\" font-family=\"Times New Roman,serif\" font-size=\"14.00\">&#45;0.05822</text>\r\n",
       "</g>\r\n",
       "<!-- 3 -->\r\n",
       "<g id=\"node4\" class=\"node\"><title>3</title>\r\n",
       "<ellipse fill=\"lightgrey\" stroke=\"black\" cx=\"229.646\" cy=\"-105\" rx=\"42.4939\" ry=\"18\"/>\r\n",
       "<text text-anchor=\"middle\" x=\"229.646\" y=\"-101.3\" font-family=\"Times New Roman,serif\" font-size=\"14.00\">&#45;0.03029</text>\r\n",
       "</g>\r\n",
       "<!-- 4 -->\r\n",
       "<g id=\"node5\" class=\"node\"><title>4</title>\r\n",
       "<ellipse fill=\"lightgrey\" stroke=\"black\" cx=\"286.646\" cy=\"-18\" rx=\"42.4939\" ry=\"18\"/>\r\n",
       "<text text-anchor=\"middle\" x=\"286.646\" y=\"-14.3\" font-family=\"Times New Roman,serif\" font-size=\"14.00\">&#45;0.04035</text>\r\n",
       "</g>\r\n",
       "<!-- 5 -->\r\n",
       "<g id=\"node6\" class=\"node\"><title>5</title>\r\n",
       "<ellipse fill=\"lightgrey\" stroke=\"black\" cx=\"381.646\" cy=\"-18\" rx=\"35.194\" ry=\"18\"/>\r\n",
       "<text text-anchor=\"middle\" x=\"381.646\" y=\"-14.3\" font-family=\"Times New Roman,serif\" font-size=\"14.00\">0.3804</text>\r\n",
       "</g>\r\n",
       "<!-- 6 -->\r\n",
       "<g id=\"node7\" class=\"node\"><title>6</title>\r\n",
       "<path fill=\"yellow\" stroke=\"black\" d=\"M367.146,-123C367.146,-123 302.146,-123 302.146,-123 296.146,-123 290.146,-117 290.146,-111 290.146,-111 290.146,-99 290.146,-99 290.146,-93 296.146,-87 302.146,-87 302.146,-87 367.146,-87 367.146,-87 373.146,-87 379.146,-93 379.146,-99 379.146,-99 379.146,-111 379.146,-111 379.146,-117 373.146,-123 367.146,-123\"/>\r\n",
       "<text text-anchor=\"middle\" x=\"334.646\" y=\"-101.3\" font-family=\"Times New Roman,serif\" font-size=\"14.00\">F0 &gt; &#45;4.905?</text>\r\n",
       "</g>\r\n",
       "<!-- 6&#45;&gt;4 -->\r\n",
       "<g id=\"edge1\" class=\"edge\"><title>6&#45;&gt;4</title>\r\n",
       "<path fill=\"none\" stroke=\"black\" d=\"M324.933,-86.799C318.078,-74.6593 308.777,-58.1897 301.06,-44.5231\"/>\r\n",
       "<polygon fill=\"black\" stroke=\"black\" points=\"303.984,-42.5835 296.019,-35.597 297.888,-46.0255 303.984,-42.5835\"/>\r\n",
       "<text text-anchor=\"middle\" x=\"327.646\" y=\"-57.8\" font-family=\"Times New Roman,serif\" font-size=\"14.00\">False</text>\r\n",
       "</g>\r\n",
       "<!-- 6&#45;&gt;5 -->\r\n",
       "<g id=\"edge2\" class=\"edge\"><title>6&#45;&gt;5</title>\r\n",
       "<path fill=\"none\" stroke=\"black\" d=\"M344.158,-86.799C350.87,-74.6593 359.977,-58.1897 367.534,-44.5231\"/>\r\n",
       "<polygon fill=\"black\" stroke=\"black\" points=\"370.693,-46.0419 372.469,-35.597 364.567,-42.6546 370.693,-46.0419\"/>\r\n",
       "<text text-anchor=\"middle\" x=\"374.146\" y=\"-57.8\" font-family=\"Times New Roman,serif\" font-size=\"14.00\">True</text>\r\n",
       "</g>\r\n",
       "<!-- 7 -->\r\n",
       "<g id=\"node8\" class=\"node\"><title>7</title>\r\n",
       "<path fill=\"yellow\" stroke=\"black\" d=\"M302.146,-210C302.146,-210 237.146,-210 237.146,-210 231.146,-210 225.146,-204 225.146,-198 225.146,-198 225.146,-186 225.146,-186 225.146,-180 231.146,-174 237.146,-174 237.146,-174 302.146,-174 302.146,-174 308.146,-174 314.146,-180 314.146,-186 314.146,-186 314.146,-198 314.146,-198 314.146,-204 308.146,-210 302.146,-210\"/>\r\n",
       "<text text-anchor=\"middle\" x=\"269.646\" y=\"-188.3\" font-family=\"Times New Roman,serif\" font-size=\"14.00\">F0 &gt; &#45;4.928?</text>\r\n",
       "</g>\r\n",
       "<!-- 7&#45;&gt;3 -->\r\n",
       "<g id=\"edge3\" class=\"edge\"><title>7&#45;&gt;3</title>\r\n",
       "<path fill=\"none\" stroke=\"black\" d=\"M261.552,-173.799C255.931,-161.854 248.337,-145.717 241.968,-132.183\"/>\r\n",
       "<polygon fill=\"black\" stroke=\"black\" points=\"245.017,-130.443 237.593,-122.885 238.684,-133.424 245.017,-130.443\"/>\r\n",
       "<text text-anchor=\"middle\" x=\"266.646\" y=\"-144.8\" font-family=\"Times New Roman,serif\" font-size=\"14.00\">False</text>\r\n",
       "</g>\r\n",
       "<!-- 7&#45;&gt;6 -->\r\n",
       "<g id=\"edge4\" class=\"edge\"><title>7&#45;&gt;6</title>\r\n",
       "<path fill=\"none\" stroke=\"black\" d=\"M282.8,-173.799C292.139,-161.587 304.829,-144.992 315.317,-131.278\"/>\r\n",
       "<polygon fill=\"black\" stroke=\"black\" points=\"318.218,-133.245 321.512,-123.175 312.658,-128.993 318.218,-133.245\"/>\r\n",
       "<text text-anchor=\"middle\" x=\"319.146\" y=\"-144.8\" font-family=\"Times New Roman,serif\" font-size=\"14.00\">True</text>\r\n",
       "</g>\r\n",
       "<!-- 8 -->\r\n",
       "<g id=\"node9\" class=\"node\"><title>8</title>\r\n",
       "<path fill=\"yellow\" stroke=\"black\" d=\"M237.146,-297C237.146,-297 172.146,-297 172.146,-297 166.146,-297 160.146,-291 160.146,-285 160.146,-285 160.146,-273 160.146,-273 160.146,-267 166.146,-261 172.146,-261 172.146,-261 237.146,-261 237.146,-261 243.146,-261 249.146,-267 249.146,-273 249.146,-273 249.146,-285 249.146,-285 249.146,-291 243.146,-297 237.146,-297\"/>\r\n",
       "<text text-anchor=\"middle\" x=\"204.646\" y=\"-275.3\" font-family=\"Times New Roman,serif\" font-size=\"14.00\">F0 &gt; &#45;4.948?</text>\r\n",
       "</g>\r\n",
       "<!-- 8&#45;&gt;2 -->\r\n",
       "<g id=\"edge5\" class=\"edge\"><title>8&#45;&gt;2</title>\r\n",
       "<path fill=\"none\" stroke=\"black\" d=\"M196.552,-260.799C190.931,-248.854 183.337,-232.717 176.968,-219.183\"/>\r\n",
       "<polygon fill=\"black\" stroke=\"black\" points=\"180.017,-217.443 172.593,-209.885 173.684,-220.424 180.017,-217.443\"/>\r\n",
       "<text text-anchor=\"middle\" x=\"201.646\" y=\"-231.8\" font-family=\"Times New Roman,serif\" font-size=\"14.00\">False</text>\r\n",
       "</g>\r\n",
       "<!-- 8&#45;&gt;7 -->\r\n",
       "<g id=\"edge6\" class=\"edge\"><title>8&#45;&gt;7</title>\r\n",
       "<path fill=\"none\" stroke=\"black\" d=\"M217.8,-260.799C227.139,-248.587 239.829,-231.992 250.317,-218.278\"/>\r\n",
       "<polygon fill=\"black\" stroke=\"black\" points=\"253.218,-220.245 256.512,-210.175 247.658,-215.993 253.218,-220.245\"/>\r\n",
       "<text text-anchor=\"middle\" x=\"254.146\" y=\"-231.8\" font-family=\"Times New Roman,serif\" font-size=\"14.00\">True</text>\r\n",
       "</g>\r\n",
       "<!-- 9 -->\r\n",
       "<g id=\"node10\" class=\"node\"><title>9</title>\r\n",
       "<path fill=\"yellow\" stroke=\"black\" d=\"M174.146,-384C174.146,-384 109.146,-384 109.146,-384 103.146,-384 97.1465,-378 97.1465,-372 97.1465,-372 97.1465,-360 97.1465,-360 97.1465,-354 103.146,-348 109.146,-348 109.146,-348 174.146,-348 174.146,-348 180.146,-348 186.146,-354 186.146,-360 186.146,-360 186.146,-372 186.146,-372 186.146,-378 180.146,-384 174.146,-384\"/>\r\n",
       "<text text-anchor=\"middle\" x=\"141.646\" y=\"-362.3\" font-family=\"Times New Roman,serif\" font-size=\"14.00\">F0 &gt; &#45;4.965?</text>\r\n",
       "</g>\r\n",
       "<!-- 9&#45;&gt;1 -->\r\n",
       "<g id=\"edge7\" class=\"edge\"><title>9&#45;&gt;1</title>\r\n",
       "<path fill=\"none\" stroke=\"black\" d=\"M133.754,-347.799C128.274,-335.854 120.87,-319.717 114.66,-306.183\"/>\r\n",
       "<polygon fill=\"black\" stroke=\"black\" points=\"117.745,-304.515 110.394,-296.885 111.383,-307.434 117.745,-304.515\"/>\r\n",
       "<text text-anchor=\"middle\" x=\"139.646\" y=\"-318.8\" font-family=\"Times New Roman,serif\" font-size=\"14.00\">False</text>\r\n",
       "</g>\r\n",
       "<!-- 9&#45;&gt;8 -->\r\n",
       "<g id=\"edge8\" class=\"edge\"><title>9&#45;&gt;8</title>\r\n",
       "<path fill=\"none\" stroke=\"black\" d=\"M154.395,-347.799C163.447,-335.587 175.746,-318.992 185.911,-305.278\"/>\r\n",
       "<polygon fill=\"black\" stroke=\"black\" points=\"188.774,-307.293 191.916,-297.175 183.15,-303.125 188.774,-307.293\"/>\r\n",
       "<text text-anchor=\"middle\" x=\"191.146\" y=\"-318.8\" font-family=\"Times New Roman,serif\" font-size=\"14.00\">True</text>\r\n",
       "</g>\r\n",
       "<!-- 10 -->\r\n",
       "<g id=\"node11\" class=\"node\"><title>10</title>\r\n",
       "<path fill=\"yellow\" stroke=\"black\" d=\"M110.146,-471C110.146,-471 45.1465,-471 45.1465,-471 39.1465,-471 33.1465,-465 33.1465,-459 33.1465,-459 33.1465,-447 33.1465,-447 33.1465,-441 39.1465,-435 45.1465,-435 45.1465,-435 110.146,-435 110.146,-435 116.146,-435 122.146,-441 122.146,-447 122.146,-447 122.146,-459 122.146,-459 122.146,-465 116.146,-471 110.146,-471\"/>\r\n",
       "<text text-anchor=\"middle\" x=\"77.6465\" y=\"-449.3\" font-family=\"Times New Roman,serif\" font-size=\"14.00\">F0 &gt; &#45;4.983?</text>\r\n",
       "</g>\r\n",
       "<!-- 10&#45;&gt;0 -->\r\n",
       "<g id=\"edge9\" class=\"edge\"><title>10&#45;&gt;0</title>\r\n",
       "<path fill=\"none\" stroke=\"black\" d=\"M69.9566,-434.799C64.6165,-422.854 57.4024,-406.717 51.3519,-393.183\"/>\r\n",
       "<polygon fill=\"black\" stroke=\"black\" points=\"54.4718,-391.586 47.1952,-383.885 48.0814,-394.443 54.4718,-391.586\"/>\r\n",
       "<text text-anchor=\"middle\" x=\"76.6465\" y=\"-405.8\" font-family=\"Times New Roman,serif\" font-size=\"14.00\">False</text>\r\n",
       "</g>\r\n",
       "<!-- 10&#45;&gt;9 -->\r\n",
       "<g id=\"edge10\" class=\"edge\"><title>10&#45;&gt;9</title>\r\n",
       "<path fill=\"none\" stroke=\"black\" d=\"M90.5978,-434.799C99.7931,-422.587 112.288,-405.992 122.614,-392.278\"/>\r\n",
       "<polygon fill=\"black\" stroke=\"black\" points=\"125.495,-394.269 128.714,-384.175 119.903,-390.059 125.495,-394.269\"/>\r\n",
       "<text text-anchor=\"middle\" x=\"127.146\" y=\"-405.8\" font-family=\"Times New Roman,serif\" font-size=\"14.00\">True</text>\r\n",
       "</g>\r\n",
       "</g>\r\n",
       "</svg>\r\n"
      ],
      "text/plain": [
       "<graphviz.dot.Digraph at 0x24f3b26b550>"
      ]
     },
     "execution_count": 137,
     "metadata": {},
     "output_type": "execute_result"
    }
   ],
   "source": [
    "dtrTemp.draw_tree()"
   ]
  },
  {
   "cell_type": "markdown",
   "id": "c0e95418",
   "metadata": {},
   "source": [
    "## Step 3"
   ]
  },
  {
   "cell_type": "code",
   "execution_count": 138,
   "id": "21944b9f",
   "metadata": {},
   "outputs": [],
   "source": [
    "dtr = TreeRegressor(max_depth=5)\n",
    "dtr.fit(Xtrain, Ytrain)"
   ]
  },
  {
   "cell_type": "code",
   "execution_count": 139,
   "id": "dfe58853",
   "metadata": {},
   "outputs": [],
   "source": [
    "Yguess = dtr.predict(Xtest)"
   ]
  },
  {
   "cell_type": "code",
   "execution_count": 140,
   "id": "139ce700",
   "metadata": {},
   "outputs": [
    {
     "data": {
      "text/plain": [
       "0.40280502632742227"
      ]
     },
     "execution_count": 140,
     "metadata": {},
     "output_type": "execute_result"
    }
   ],
   "source": [
    "mean_squared_error(Ytest,Yguess)"
   ]
  },
  {
   "cell_type": "markdown",
   "id": "80b3799b",
   "metadata": {},
   "source": [
    "## Step 4"
   ]
  },
  {
   "cell_type": "code",
   "execution_count": 141,
   "id": "bc7fa0f0",
   "metadata": {},
   "outputs": [],
   "source": [
    "import matplotlib.pyplot as plt   \n",
    "from matplotlib.legend_handler import HandlerLine2D"
   ]
  },
  {
   "cell_type": "code",
   "execution_count": 144,
   "id": "ff54c7d7",
   "metadata": {
    "scrolled": true
   },
   "outputs": [
    {
     "data": {
      "image/png": "[encoded data removed]",
      "text/plain": [
       "<Figure size 432x288 with 1 Axes>"
      ]
     },
     "metadata": {
      "needs_background": "light"
     },
     "output_type": "display_data"
    }
   ],
   "source": [
    "max_depths = np.linspace(1, 12, 12, endpoint=True)\n",
    "\n",
    "train_results = []\n",
    "test_results = []\n",
    "\n",
    "for max_depth in max_depths:\n",
    "    dt = TreeRegressor(max_depth=max_depth)\n",
    "    dt.fit(Xtrain, Ytrain)\n",
    "    YpredTrain = dt.predict(Xtrain)\n",
    "    mseTrain = mean_squared_error(Ytrain, YpredTrain)\n",
    "    Ypredtest = dt.predict(Xtest)\n",
    "    mseTest = mean_squared_error(Ytest, Ypredtest)\n",
    "    train_results.append(mseTrain)\n",
    "    test_results.append(mseTest)\n",
    "\n",
    "    \n",
    "line1, = plt.plot(max_depths,train_results, 'b', label=\"Train MSE\")\n",
    "line2, = plt.plot(max_depths,test_results, 'r', label=\"Test MSE\")\n",
    "\n",
    "plt.legend(handler_map={line1: HandlerLine2D(numpoints=2)})\n",
    "plt.ylabel('MSE')\n",
    "plt.xlabel('Tree depth')\n",
    "plt.show()"
   ]
  },
  {
   "cell_type": "code",
   "execution_count": 145,
   "id": "09e5973b",
   "metadata": {},
   "outputs": [
    {
     "data": {
      "image/png": "[encoded data removed]",
      "text/plain": [
       "<Figure size 432x288 with 1 Axes>"
      ]
     },
     "metadata": {
      "needs_background": "light"
     },
     "output_type": "display_data"
    }
   ],
   "source": [
    "line1, = plt.plot(max_depths,train_results, 'b', label=\"Train MSE\")\n",
    "line2, = plt.plot(max_depths,test_results, 'r', label=\"Test MSE\")\n",
    "plt.ylim(bottom=0)\n",
    "plt.legend(handler_map={line1: HandlerLine2D(numpoints=2)})\n",
    "plt.ylabel('MSE')\n",
    "plt.xlabel('Tree depth')\n",
    "plt.show()"
   ]
  }
 ],
 "metadata": {
  "kernelspec": {
   "display_name": "Python 3 (ipykernel)",
   "language": "python",
   "name": "python3"
  },
  "language_info": {
   "codemirror_mode": {
    "name": "ipython",
    "version": 3
   },
   "file_extension": ".py",
   "mimetype": "text/x-python",
   "name": "python",
   "nbconvert_exporter": "python",
   "pygments_lexer": "ipython3",
   "version": "3.7.3"
  }
 },
 "nbformat": 4,
 "nbformat_minor": 5
}
