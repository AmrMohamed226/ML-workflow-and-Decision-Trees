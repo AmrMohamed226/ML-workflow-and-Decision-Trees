{
 "cells": [
  {
   "cell_type": "markdown",
   "id": "1a63507c",
   "metadata": {},
   "source": [
    "# Task 3: A regression example: predicting apartment prices"
   ]
  },
  {
   "cell_type": "code",
   "execution_count": 67,
   "id": "b1453f17",
   "metadata": {},
   "outputs": [],
   "source": [
    "import pandas as pd\n",
    "import numpy as np\n",
    "from sklearn.model_selection import train_test_split\n",
    "from sklearn.model_selection import cross_val_score\n",
    "from sklearn.metrics import accuracy_score\n",
    "\n",
    "import warnings \n",
    "warnings.filterwarnings('ignore')"
   ]
  },
  {
   "cell_type": "code",
   "execution_count": 68,
   "id": "aa61685f",
   "metadata": {},
   "outputs": [],
   "source": [
    "# Read the CSV file using Pandas.\n",
    "alldata = pd.read_csv('sberbank.csv')"
   ]
  },
  {
   "cell_type": "code",
   "execution_count": 69,
   "id": "cd6f5f37",
   "metadata": {},
   "outputs": [],
   "source": [
    "# Convert the timestamp string to an integer representing the year.\n",
    "def get_year(timestamp):\n",
    "    return int(timestamp[:4])\n",
    "alldata['year'] = alldata.timestamp.apply(get_year)\n",
    "\n",
    "# Select the 9 input columns and the output column.\n",
    "selected_columns = ['price_doc', 'year', 'full_sq', 'life_sq', 'floor', 'num_room', 'kitch_sq', 'full_all']\n",
    "alldata = alldata[selected_columns]\n",
    "alldata = alldata.dropna()\n",
    "\n",
    "# Shuffle.\n",
    "alldata_shuffled = alldata.sample(frac=1.0, random_state=0)"
   ]
  },
  {
   "cell_type": "code",
   "execution_count": 70,
   "id": "508a1ebd",
   "metadata": {},
   "outputs": [
    {
     "data": {
      "text/html": [
       "<div>\n",
       "<style scoped>\n",
       "    .dataframe tbody tr th:only-of-type {\n",
       "        vertical-align: middle;\n",
       "    }\n",
       "\n",
       "    .dataframe tbody tr th {\n",
       "        vertical-align: top;\n",
       "    }\n",
       "\n",
       "    .dataframe thead th {\n",
       "        text-align: right;\n",
       "    }\n",
       "</style>\n",
       "<table border=\"1\" class=\"dataframe\">\n",
       "  <thead>\n",
       "    <tr style=\"text-align: right;\">\n",
       "      <th></th>\n",
       "      <th>price_doc</th>\n",
       "      <th>year</th>\n",
       "      <th>full_sq</th>\n",
       "      <th>life_sq</th>\n",
       "      <th>floor</th>\n",
       "      <th>num_room</th>\n",
       "      <th>kitch_sq</th>\n",
       "      <th>full_all</th>\n",
       "    </tr>\n",
       "  </thead>\n",
       "  <tbody>\n",
       "    <tr>\n",
       "      <th>7672</th>\n",
       "      <td>10100000</td>\n",
       "      <td>2013</td>\n",
       "      <td>73</td>\n",
       "      <td>36.0</td>\n",
       "      <td>17.0</td>\n",
       "      <td>2.0</td>\n",
       "      <td>11.0</td>\n",
       "      <td>102828</td>\n",
       "    </tr>\n",
       "    <tr>\n",
       "      <th>8056</th>\n",
       "      <td>2750000</td>\n",
       "      <td>2013</td>\n",
       "      <td>11</td>\n",
       "      <td>11.0</td>\n",
       "      <td>2.0</td>\n",
       "      <td>1.0</td>\n",
       "      <td>12.0</td>\n",
       "      <td>75377</td>\n",
       "    </tr>\n",
       "    <tr>\n",
       "      <th>8135</th>\n",
       "      <td>9000000</td>\n",
       "      <td>2013</td>\n",
       "      <td>53</td>\n",
       "      <td>30.0</td>\n",
       "      <td>10.0</td>\n",
       "      <td>2.0</td>\n",
       "      <td>8.0</td>\n",
       "      <td>68630</td>\n",
       "    </tr>\n",
       "    <tr>\n",
       "      <th>8144</th>\n",
       "      <td>4457400</td>\n",
       "      <td>2013</td>\n",
       "      <td>41</td>\n",
       "      <td>37.0</td>\n",
       "      <td>13.0</td>\n",
       "      <td>1.0</td>\n",
       "      <td>1.0</td>\n",
       "      <td>9553</td>\n",
       "    </tr>\n",
       "    <tr>\n",
       "      <th>8153</th>\n",
       "      <td>7011550</td>\n",
       "      <td>2013</td>\n",
       "      <td>77</td>\n",
       "      <td>41.0</td>\n",
       "      <td>2.0</td>\n",
       "      <td>3.0</td>\n",
       "      <td>12.0</td>\n",
       "      <td>9553</td>\n",
       "    </tr>\n",
       "  </tbody>\n",
       "</table>\n",
       "</div>"
      ],
      "text/plain": [
       "      price_doc  year  full_sq  life_sq  floor  num_room  kitch_sq  full_all\n",
       "7672   10100000  2013       73     36.0   17.0       2.0      11.0    102828\n",
       "8056    2750000  2013       11     11.0    2.0       1.0      12.0     75377\n",
       "8135    9000000  2013       53     30.0   10.0       2.0       8.0     68630\n",
       "8144    4457400  2013       41     37.0   13.0       1.0       1.0      9553\n",
       "8153    7011550  2013       77     41.0    2.0       3.0      12.0      9553"
      ]
     },
     "execution_count": 70,
     "metadata": {},
     "output_type": "execute_result"
    }
   ],
   "source": [
    "alldata.head()"
   ]
  },
  {
   "cell_type": "code",
   "execution_count": 71,
   "id": "ce4e5778",
   "metadata": {},
   "outputs": [],
   "source": [
    "# Separate the input and output columns.\n",
    "X = alldata_shuffled.drop('price_doc', axis=1)\n",
    "# For the output, we'll use the log of the sales price.\n",
    "Y = alldata_shuffled['price_doc'].apply(np.log)\n",
    "\n",
    "# Split into training and test sets.\n",
    "Xtrain, Xtest, Ytrain, Ytest = train_test_split(X, Y, test_size=0.2, random_state=0)"
   ]
  },
  {
   "cell_type": "markdown",
   "id": "c48effa4",
   "metadata": {},
   "source": [
    "#### Accessing dictionary items as object attributes to calculate the mean."
   ]
  },
  {
   "cell_type": "code",
   "execution_count": 116,
   "id": "4517f423",
   "metadata": {},
   "outputs": [],
   "source": [
    "class objdict(dict):\n",
    "    def __getattr__(self, name):\n",
    "        if name in self:\n",
    "            return self[name]\n",
    "        else:\n",
    "            raise AttributeError(\"No such attribute: \" + name)"
   ]
  },
  {
   "cell_type": "markdown",
   "id": "bb84835d",
   "metadata": {},
   "source": [
    "### Dummy Regressor"
   ]
  },
  {
   "cell_type": "code",
   "execution_count": 120,
   "id": "8650716e",
   "metadata": {},
   "outputs": [
    {
     "data": {
      "text/plain": [
       "{'fit_time': array([0.01612806, 0.00987911, 0.00212312, 0.00094223, 0.00064588]),\n",
       " 'score_time': array([0.00239706, 0.00112295, 0.00036097, 0.00018501, 0.00015831]),\n",
       " 'test_score': array([-0.39897319, -0.37113485, -0.38083108, -0.39057156, -0.40475168])}"
      ]
     },
     "execution_count": 120,
     "metadata": {},
     "output_type": "execute_result"
    }
   ],
   "source": [
    "from sklearn.dummy import DummyRegressor\n",
    "from sklearn.model_selection import cross_validate\n",
    "m1 = DummyRegressor()\n",
    "cross_validate(dr, Xtrain, Ytrain, scoring='neg_mean_squared_error')"
   ]
  },
  {
   "cell_type": "code",
   "execution_count": 121,
   "id": "35d05044",
   "metadata": {},
   "outputs": [
    {
     "data": {
      "text/plain": [
       "0.4028398414133475"
      ]
     },
     "execution_count": 121,
     "metadata": {},
     "output_type": "execute_result"
    }
   ],
   "source": [
    "from sklearn.metrics import mean_squared_error\n",
    "  \n",
    "m1.fit(Xtrain, Ytrain)\n",
    "mean_squared_error(Ytest, m1.predict(Xtest))"
   ]
  },
  {
   "cell_type": "markdown",
   "id": "44651e78",
   "metadata": {},
   "source": [
    "### Linear Regression"
   ]
  },
  {
   "cell_type": "code",
   "execution_count": 127,
   "id": "78b3023f",
   "metadata": {},
   "outputs": [
    {
     "data": {
      "text/plain": [
       "{'fit_time': array([0.02741098, 0.00953984, 0.00361013, 0.00314689, 0.00640178]),\n",
       " 'score_time': array([0.00205898, 0.00125694, 0.00102592, 0.00109005, 0.00123906]),\n",
       " 'test_score': array([-0.30222063, -0.32537384, -0.29377903, -0.29296258, -0.29265721])}"
      ]
     },
     "execution_count": 127,
     "metadata": {},
     "output_type": "execute_result"
    }
   ],
   "source": [
    "from sklearn.linear_model import LinearRegression\n",
    "ligr = LinearRegression()\n",
    "cv1 = cross_validate(ligr, Xtrain, Ytrain, scoring='neg_mean_squared_error')\n",
    "cv1"
   ]
  },
  {
   "cell_type": "code",
   "execution_count": 128,
   "id": "44b4e3f5",
   "metadata": {},
   "outputs": [
    {
     "data": {
      "text/plain": [
       "-0.3013986588767175"
      ]
     },
     "execution_count": 128,
     "metadata": {},
     "output_type": "execute_result"
    }
   ],
   "source": [
    "result1 = objdict(cv1)\n",
    "result1.test_score.mean()"
   ]
  },
  {
   "cell_type": "code",
   "execution_count": 129,
   "id": "efe759c8",
   "metadata": {},
   "outputs": [
    {
     "data": {
      "text/plain": [
       "0.3155890397003767"
      ]
     },
     "execution_count": 129,
     "metadata": {},
     "output_type": "execute_result"
    }
   ],
   "source": [
    "ligr.fit(Xtrain, Ytrain)\n",
    "mean_squared_error(Ytest, ligr.predict(Xtest))"
   ]
  },
  {
   "cell_type": "markdown",
   "id": "ee2a689b",
   "metadata": {},
   "source": [
    "### Ridge"
   ]
  },
  {
   "cell_type": "code",
   "execution_count": 131,
   "id": "1e2f49d8",
   "metadata": {},
   "outputs": [
    {
     "data": {
      "text/plain": [
       "{'fit_time': array([0.01160002, 0.00558591, 0.00360775, 0.00371504, 0.00291491]),\n",
       " 'score_time': array([0.00380802, 0.00149393, 0.001719  , 0.00124693, 0.001122  ]),\n",
       " 'test_score': array([-0.30222063, -0.32537046, -0.29377831, -0.29296256, -0.29265724])}"
      ]
     },
     "execution_count": 131,
     "metadata": {},
     "output_type": "execute_result"
    }
   ],
   "source": [
    "from sklearn.linear_model import Ridge\n",
    "rid = Ridge()\n",
    "cv2 = cross_validate(rid, Xtrain, Ytrain, scoring='neg_mean_squared_error')\n",
    "cv2"
   ]
  },
  {
   "cell_type": "code",
   "execution_count": 132,
   "id": "4aee7912",
   "metadata": {},
   "outputs": [
    {
     "data": {
      "text/plain": [
       "-0.3013978423217976"
      ]
     },
     "execution_count": 132,
     "metadata": {},
     "output_type": "execute_result"
    }
   ],
   "source": [
    "result2 = objdict(cv2)\n",
    "result2.test_score.mean()"
   ]
  },
  {
   "cell_type": "code",
   "execution_count": 133,
   "id": "aad14311",
   "metadata": {},
   "outputs": [
    {
     "data": {
      "text/plain": [
       "0.3155902354580929"
      ]
     },
     "execution_count": 133,
     "metadata": {},
     "output_type": "execute_result"
    }
   ],
   "source": [
    "rid.fit(Xtrain, Ytrain)\n",
    "mean_squared_error(Ytest, rid.predict(Xtest))"
   ]
  },
  {
   "cell_type": "markdown",
   "id": "7c4c0533",
   "metadata": {},
   "source": [
    "### Lasso"
   ]
  },
  {
   "cell_type": "code",
   "execution_count": 138,
   "id": "922de616",
   "metadata": {},
   "outputs": [],
   "source": [
    "from sklearn import linear_model\n",
    "lasso = linear_model.Lasso(alpha=0.1)\n",
    "cv3 = cross_validate(lasso, Xtrain, Ytrain, scoring='neg_mean_squared_error')"
   ]
  },
  {
   "cell_type": "code",
   "execution_count": 139,
   "id": "33f14055",
   "metadata": {},
   "outputs": [
    {
     "data": {
      "text/plain": [
       "-0.29817864931315446"
      ]
     },
     "execution_count": 139,
     "metadata": {},
     "output_type": "execute_result"
    }
   ],
   "source": [
    "result3 = objdict(cv3)\n",
    "result3.test_score.mean()"
   ]
  },
  {
   "cell_type": "code",
   "execution_count": 140,
   "id": "f918d982",
   "metadata": {},
   "outputs": [
    {
     "data": {
      "text/plain": [
       "0.32604901387710894"
      ]
     },
     "execution_count": 140,
     "metadata": {},
     "output_type": "execute_result"
    }
   ],
   "source": [
    "lasso.fit(Xtrain, Ytrain)\n",
    "mean_squared_error(Ytest, lasso.predict(Xtest))"
   ]
  },
  {
   "cell_type": "markdown",
   "id": "b431eba2",
   "metadata": {},
   "source": [
    "### Decision Tree Regressor"
   ]
  },
  {
   "cell_type": "code",
   "execution_count": 142,
   "id": "c77c6a0d",
   "metadata": {},
   "outputs": [
    {
     "data": {
      "text/plain": [
       "{'fit_time': array([0.06072497, 0.0364871 , 0.03447795, 0.03521991, 0.03295279]),\n",
       " 'score_time': array([0.00181508, 0.00128889, 0.00133395, 0.00211835, 0.00109005]),\n",
       " 'test_score': array([-0.53718287, -0.5402739 , -0.50751788, -0.50755841, -0.54348065])}"
      ]
     },
     "execution_count": 142,
     "metadata": {},
     "output_type": "execute_result"
    }
   ],
   "source": [
    "from sklearn.tree import DecisionTreeRegressor\n",
    "dtr = DecisionTreeRegressor()\n",
    "cv4 = cross_validate(dtr, Xtrain, Ytrain, scoring='neg_mean_squared_error')\n",
    "cv4"
   ]
  },
  {
   "cell_type": "code",
   "execution_count": 143,
   "id": "17dd5cd3",
   "metadata": {},
   "outputs": [
    {
     "data": {
      "text/plain": [
       "-0.5272027400221437"
      ]
     },
     "execution_count": 143,
     "metadata": {},
     "output_type": "execute_result"
    }
   ],
   "source": [
    "result4 = objdict(cv4)\n",
    "result4.test_score.mean()"
   ]
  },
  {
   "cell_type": "code",
   "execution_count": 144,
   "id": "88b69e67",
   "metadata": {},
   "outputs": [
    {
     "data": {
      "text/plain": [
       "0.5669153128106166"
      ]
     },
     "execution_count": 144,
     "metadata": {},
     "output_type": "execute_result"
    }
   ],
   "source": [
    "dtr.fit(Xtrain, Ytrain)\n",
    "mean_squared_error(Ytest, dtr.predict(Xtest))"
   ]
  },
  {
   "cell_type": "markdown",
   "id": "2d79ddc6",
   "metadata": {},
   "source": [
    "### Random Forest Regressor"
   ]
  },
  {
   "cell_type": "code",
   "execution_count": 146,
   "id": "ca2cfc95",
   "metadata": {},
   "outputs": [
    {
     "data": {
      "text/plain": [
       "{'fit_time': array([0.32297707, 0.28441501, 0.28959799, 0.288095  , 0.29025316]),\n",
       " 'score_time': array([0.00840282, 0.00785303, 0.00805879, 0.00778699, 0.00820589]),\n",
       " 'test_score': array([-0.30660535, -0.28378306, -0.29688942, -0.30035284, -0.29904841])}"
      ]
     },
     "execution_count": 146,
     "metadata": {},
     "output_type": "execute_result"
    }
   ],
   "source": [
    "from sklearn.ensemble import RandomForestRegressor\n",
    "regr = RandomForestRegressor(max_depth=2, random_state=0)\n",
    "cv5 = cross_validate(regr, Xtrain, Ytrain, scoring='neg_mean_squared_error')\n",
    "cv5"
   ]
  },
  {
   "cell_type": "code",
   "execution_count": 147,
   "id": "efd83b5a",
   "metadata": {},
   "outputs": [
    {
     "data": {
      "text/plain": [
       "-0.29733581591151304"
      ]
     },
     "execution_count": 147,
     "metadata": {},
     "output_type": "execute_result"
    }
   ],
   "source": [
    "result5 = objdict(cv5)\n",
    "result5.test_score.mean()"
   ]
  },
  {
   "cell_type": "code",
   "execution_count": 148,
   "id": "3b3ff5da",
   "metadata": {},
   "outputs": [
    {
     "data": {
      "text/plain": [
       "0.30696994385672405"
      ]
     },
     "execution_count": 148,
     "metadata": {},
     "output_type": "execute_result"
    }
   ],
   "source": [
    "regr.fit(Xtrain, Ytrain)\n",
    "mean_squared_error(Ytest, regr.predict(Xtest))"
   ]
  },
  {
   "cell_type": "markdown",
   "id": "7f937ddf",
   "metadata": {},
   "source": [
    "### Gradient Boosting Regressor"
   ]
  },
  {
   "cell_type": "code",
   "execution_count": 149,
   "id": "9d120649",
   "metadata": {},
   "outputs": [
    {
     "data": {
      "text/plain": [
       "{'fit_time': array([0.54561305, 0.51106524, 0.51332998, 0.52311993, 0.5324049 ]),\n",
       " 'score_time': array([0.00727892, 0.00405097, 0.00356293, 0.0036149 , 0.00466585]),\n",
       " 'test_score': array([-0.27659396, -0.24923533, -0.26294343, -0.27079364, -0.26331716])}"
      ]
     },
     "execution_count": 149,
     "metadata": {},
     "output_type": "execute_result"
    }
   ],
   "source": [
    "from sklearn.ensemble import GradientBoostingRegressor\n",
    "gbr = GradientBoostingRegressor()\n",
    "cv6 = cross_validate(gbr, Xtrain, Ytrain, scoring='neg_mean_squared_error')\n",
    "cv6"
   ]
  },
  {
   "cell_type": "code",
   "execution_count": 150,
   "id": "f9f2bb1d",
   "metadata": {},
   "outputs": [
    {
     "data": {
      "text/plain": [
       "-0.26457670465511574"
      ]
     },
     "execution_count": 150,
     "metadata": {},
     "output_type": "execute_result"
    }
   ],
   "source": [
    "result6 = objdict(cv6)\n",
    "result6.test_score.mean()"
   ]
  },
  {
   "cell_type": "code",
   "execution_count": 151,
   "id": "de29dff2",
   "metadata": {},
   "outputs": [
    {
     "data": {
      "text/plain": [
       "0.27141267313163636"
      ]
     },
     "execution_count": 151,
     "metadata": {},
     "output_type": "execute_result"
    }
   ],
   "source": [
    "gbr.fit(Xtrain, Ytrain)\n",
    "mean_squared_error(Ytest, gbr.predict(Xtest))"
   ]
  },
  {
   "cell_type": "markdown",
   "id": "ff638538",
   "metadata": {},
   "source": [
    "### MLP Regressor"
   ]
  },
  {
   "cell_type": "code",
   "execution_count": 157,
   "id": "de13b1e1",
   "metadata": {},
   "outputs": [
    {
     "data": {
      "text/plain": [
       "{'fit_time': array([0.17657709, 0.1296711 , 0.09182572, 0.10353112, 0.12119484]),\n",
       " 'score_time': array([0.00693679, 0.00324798, 0.00312018, 0.00292897, 0.00188923]),\n",
       " 'test_score': array([-359.38983003, -113.49057253,  -32.58236138,  -34.29397325,\n",
       "         -61.27453223])}"
      ]
     },
     "execution_count": 157,
     "metadata": {},
     "output_type": "execute_result"
    }
   ],
   "source": [
    "from sklearn.neural_network import MLPRegressor\n",
    "mlp = MLPRegressor(max_iter=5)\n",
    "cv7 = cross_validate(mlp, Xtrain, Ytrain, scoring='neg_mean_squared_error')\n",
    "cv7"
   ]
  },
  {
   "cell_type": "code",
   "execution_count": 158,
   "id": "513a4066",
   "metadata": {},
   "outputs": [
    {
     "data": {
      "text/plain": [
       "-120.20625388395487"
      ]
     },
     "execution_count": 158,
     "metadata": {},
     "output_type": "execute_result"
    }
   ],
   "source": [
    "result7 = objdict(cv7)\n",
    "result7.test_score.mean()"
   ]
  },
  {
   "cell_type": "code",
   "execution_count": 159,
   "id": "546cdfed",
   "metadata": {},
   "outputs": [
    {
     "data": {
      "text/plain": [
       "9.046364683581881"
      ]
     },
     "execution_count": 159,
     "metadata": {},
     "output_type": "execute_result"
    }
   ],
   "source": [
    "mlp.fit(Xtrain, Ytrain)\n",
    "mean_squared_error(Ytest, mlp.predict(Xtest))"
   ]
  },
  {
   "cell_type": "markdown",
   "id": "f9cfa2b4",
   "metadata": {},
   "source": [
    "# Task 4: Decision trees for regression"
   ]
  },
  {
   "cell_type": "code",
   "execution_count": null,
   "id": "b33b72b0",
   "metadata": {},
   "outputs": [],
   "source": []
  }
 ],
 "metadata": {
  "kernelspec": {
   "display_name": "Python 3 (ipykernel)",
   "language": "python",
   "name": "python3"
  },
  "language_info": {
   "codemirror_mode": {
    "name": "ipython",
    "version": 3
   },
   "file_extension": ".py",
   "mimetype": "text/x-python",
   "name": "python",
   "nbconvert_exporter": "python",
   "pygments_lexer": "ipython3",
   "version": "3.7.3"
  }
 },
 "nbformat": 4,
 "nbformat_minor": 5
}
