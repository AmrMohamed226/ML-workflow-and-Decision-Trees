{
  "cells": [
    {
      "cell_type": "markdown",
      "id": "d6adbc7b",
      "metadata": {
        "id": "d6adbc7b"
      },
      "source": [
        "# ML workflow and decision trees"
      ]
    },
    {
      "cell_type": "markdown",
      "id": "af3e65b6",
      "metadata": {
        "id": "af3e65b6"
      },
      "source": [
        "by: Amr Mohamed and Anh Thu Doan "
      ]
    },
    {
      "cell_type": "markdown",
      "id": "159b640f",
      "metadata": {
        "id": "159b640f"
      },
      "source": [
        "# Data exploration and preparation to be used for training and predictions"
      ]
    },
    {
      "cell_type": "code",
      "execution_count": 1,
      "id": "df9fd728",
      "metadata": {
        "id": "df9fd728"
      },
      "outputs": [],
      "source": [
        "import pandas as pd\n",
        "import numpy as np\n",
        "import matplotlib.pyplot as plt   \n",
        "from matplotlib.legend_handler import HandlerLine2D\n",
        "from collections import Counter\n",
        "from graphviz import Digraph\n",
        "import matplotlib.pyplot as plt   \n",
        "from numpy import arange\n",
        "from abc import ABC, abstractmethod\n",
        "\n",
        "from sklearn.dummy import DummyClassifier,DummyRegressor\n",
        "from sklearn.metrics import accuracy_score,mean_squared_error,mean_squared_error\n",
        "from sklearn.tree import DecisionTreeClassifier\n",
        "from sklearn.ensemble import RandomForestClassifier,GradientBoostingClassifier,GradientBoostingRegressor,RandomForestRegressor\n",
        "from sklearn.model_selection import RepeatedStratifiedKFold, cross_val_score, GridSearchCV,train_test_split,cross_validate,RepeatedKFold\n",
        "from sklearn.linear_model import LogisticRegression,Perceptron,LinearRegression,Lasso, Ridge\n",
        "\n",
        "from sklearn.tree import DecisionTreeRegressor\n",
        "from sklearn.neural_network import MLPRegressor,MLPClassifier\n",
        "from sklearn.base import BaseEstimator, RegressorMixin\n",
        "\n",
        "import warnings\n",
        "warnings.filterwarnings('ignore')"
      ]
    },
    {
      "cell_type": "code",
      "source": [
        "from google.colab import drive\n",
        "drive.mount('/content/drive')"
      ],
      "metadata": {
        "colab": {
          "base_uri": "https://localhost:8080/"
        },
        "id": "ao8QQ2e9pVyj",
        "outputId": "fce626f6-3d84-4739-a8ec-d6f8c5afe71b"
      },
      "id": "ao8QQ2e9pVyj",
      "execution_count": 2,
      "outputs": [
        {
          "output_type": "stream",
          "name": "stdout",
          "text": [
            "Mounted at /content/drive\n"
          ]
        }
      ]
    },
    {
      "cell_type": "code",
      "execution_count": null,
      "id": "a98e9d8d",
      "metadata": {
        "id": "a98e9d8d"
      },
      "outputs": [],
      "source": [
        "# Read the CSV file.\n",
        "data = pd.read_csv('//content//drive//MyDrive//Data//CTG.csv', skiprows=1)"
      ]
    },
    {
      "cell_type": "code",
      "execution_count": null,
      "id": "0a3b3abc",
      "metadata": {
        "id": "0a3b3abc"
      },
      "outputs": [],
      "source": [
        "# Select the relevant numerical columns.\n",
        "selected_cols = ['LB', 'AC', 'FM', 'UC', 'DL', 'DS', 'DP', 'ASTV', 'MSTV', 'ALTV',\n",
        "                 'MLTV', 'Width', 'Min', 'Max', 'Nmax', 'Nzeros', 'Mode', 'Mean',\n",
        "                 'Median', 'Variance', 'Tendency', 'NSP']"
      ]
    },
    {
      "cell_type": "code",
      "execution_count": null,
      "id": "10eace4d",
      "metadata": {
        "id": "10eace4d"
      },
      "outputs": [],
      "source": [
        "data = data[selected_cols].dropna()\n"
      ]
    },
    {
      "cell_type": "code",
      "execution_count": null,
      "id": "3b66f552",
      "metadata": {
        "colab": {
          "base_uri": "https://localhost:8080/",
          "height": 236
        },
        "id": "3b66f552",
        "outputId": "fd0b40c6-85fd-4262-db0c-8d9ce2ce5ccb"
      },
      "outputs": [
        {
          "output_type": "execute_result",
          "data": {
            "text/plain": [
              "      LB   AC   FM   UC   DL   DS   DP  ASTV  MSTV  ALTV  ...   Min    Max  \\\n",
              "0  120.0  0.0  0.0  0.0  0.0  0.0  0.0  73.0   0.5  43.0  ...  62.0  126.0   \n",
              "1  132.0  4.0  0.0  4.0  2.0  0.0  0.0  17.0   2.1   0.0  ...  68.0  198.0   \n",
              "2  133.0  2.0  0.0  5.0  2.0  0.0  0.0  16.0   2.1   0.0  ...  68.0  198.0   \n",
              "3  134.0  2.0  0.0  6.0  2.0  0.0  0.0  16.0   2.4   0.0  ...  53.0  170.0   \n",
              "4  132.0  4.0  0.0  5.0  0.0  0.0  0.0  16.0   2.4   0.0  ...  53.0  170.0   \n",
              "\n",
              "   Nmax  Nzeros   Mode   Mean  Median  Variance  Tendency  NSP  \n",
              "0   2.0     0.0  120.0  137.0   121.0      73.0       1.0  2.0  \n",
              "1   6.0     1.0  141.0  136.0   140.0      12.0       0.0  1.0  \n",
              "2   5.0     1.0  141.0  135.0   138.0      13.0       0.0  1.0  \n",
              "3  11.0     0.0  137.0  134.0   137.0      13.0       1.0  1.0  \n",
              "4   9.0     0.0  137.0  136.0   138.0      11.0       1.0  1.0  \n",
              "\n",
              "[5 rows x 22 columns]"
            ],
            "text/html": [
              "\n",
              "  <div id=\"df-17568957-6fc9-49d7-8e2f-a979d213b5b6\">\n",
              "    <div class=\"colab-df-container\">\n",
              "      <div>\n",
              "<style scoped>\n",
              "    .dataframe tbody tr th:only-of-type {\n",
              "        vertical-align: middle;\n",
              "    }\n",
              "\n",
              "    .dataframe tbody tr th {\n",
              "        vertical-align: top;\n",
              "    }\n",
              "\n",
              "    .dataframe thead th {\n",
              "        text-align: right;\n",
              "    }\n",
              "</style>\n",
              "<table border=\"1\" class=\"dataframe\">\n",
              "  <thead>\n",
              "    <tr style=\"text-align: right;\">\n",
              "      <th></th>\n",
              "      <th>LB</th>\n",
              "      <th>AC</th>\n",
              "      <th>FM</th>\n",
              "      <th>UC</th>\n",
              "      <th>DL</th>\n",
              "      <th>DS</th>\n",
              "      <th>DP</th>\n",
              "      <th>ASTV</th>\n",
              "      <th>MSTV</th>\n",
              "      <th>ALTV</th>\n",
              "      <th>...</th>\n",
              "      <th>Min</th>\n",
              "      <th>Max</th>\n",
              "      <th>Nmax</th>\n",
              "      <th>Nzeros</th>\n",
              "      <th>Mode</th>\n",
              "      <th>Mean</th>\n",
              "      <th>Median</th>\n",
              "      <th>Variance</th>\n",
              "      <th>Tendency</th>\n",
              "      <th>NSP</th>\n",
              "    </tr>\n",
              "  </thead>\n",
              "  <tbody>\n",
              "    <tr>\n",
              "      <th>0</th>\n",
              "      <td>120.0</td>\n",
              "      <td>0.0</td>\n",
              "      <td>0.0</td>\n",
              "      <td>0.0</td>\n",
              "      <td>0.0</td>\n",
              "      <td>0.0</td>\n",
              "      <td>0.0</td>\n",
              "      <td>73.0</td>\n",
              "      <td>0.5</td>\n",
              "      <td>43.0</td>\n",
              "      <td>...</td>\n",
              "      <td>62.0</td>\n",
              "      <td>126.0</td>\n",
              "      <td>2.0</td>\n",
              "      <td>0.0</td>\n",
              "      <td>120.0</td>\n",
              "      <td>137.0</td>\n",
              "      <td>121.0</td>\n",
              "      <td>73.0</td>\n",
              "      <td>1.0</td>\n",
              "      <td>2.0</td>\n",
              "    </tr>\n",
              "    <tr>\n",
              "      <th>1</th>\n",
              "      <td>132.0</td>\n",
              "      <td>4.0</td>\n",
              "      <td>0.0</td>\n",
              "      <td>4.0</td>\n",
              "      <td>2.0</td>\n",
              "      <td>0.0</td>\n",
              "      <td>0.0</td>\n",
              "      <td>17.0</td>\n",
              "      <td>2.1</td>\n",
              "      <td>0.0</td>\n",
              "      <td>...</td>\n",
              "      <td>68.0</td>\n",
              "      <td>198.0</td>\n",
              "      <td>6.0</td>\n",
              "      <td>1.0</td>\n",
              "      <td>141.0</td>\n",
              "      <td>136.0</td>\n",
              "      <td>140.0</td>\n",
              "      <td>12.0</td>\n",
              "      <td>0.0</td>\n",
              "      <td>1.0</td>\n",
              "    </tr>\n",
              "    <tr>\n",
              "      <th>2</th>\n",
              "      <td>133.0</td>\n",
              "      <td>2.0</td>\n",
              "      <td>0.0</td>\n",
              "      <td>5.0</td>\n",
              "      <td>2.0</td>\n",
              "      <td>0.0</td>\n",
              "      <td>0.0</td>\n",
              "      <td>16.0</td>\n",
              "      <td>2.1</td>\n",
              "      <td>0.0</td>\n",
              "      <td>...</td>\n",
              "      <td>68.0</td>\n",
              "      <td>198.0</td>\n",
              "      <td>5.0</td>\n",
              "      <td>1.0</td>\n",
              "      <td>141.0</td>\n",
              "      <td>135.0</td>\n",
              "      <td>138.0</td>\n",
              "      <td>13.0</td>\n",
              "      <td>0.0</td>\n",
              "      <td>1.0</td>\n",
              "    </tr>\n",
              "    <tr>\n",
              "      <th>3</th>\n",
              "      <td>134.0</td>\n",
              "      <td>2.0</td>\n",
              "      <td>0.0</td>\n",
              "      <td>6.0</td>\n",
              "      <td>2.0</td>\n",
              "      <td>0.0</td>\n",
              "      <td>0.0</td>\n",
              "      <td>16.0</td>\n",
              "      <td>2.4</td>\n",
              "      <td>0.0</td>\n",
              "      <td>...</td>\n",
              "      <td>53.0</td>\n",
              "      <td>170.0</td>\n",
              "      <td>11.0</td>\n",
              "      <td>0.0</td>\n",
              "      <td>137.0</td>\n",
              "      <td>134.0</td>\n",
              "      <td>137.0</td>\n",
              "      <td>13.0</td>\n",
              "      <td>1.0</td>\n",
              "      <td>1.0</td>\n",
              "    </tr>\n",
              "    <tr>\n",
              "      <th>4</th>\n",
              "      <td>132.0</td>\n",
              "      <td>4.0</td>\n",
              "      <td>0.0</td>\n",
              "      <td>5.0</td>\n",
              "      <td>0.0</td>\n",
              "      <td>0.0</td>\n",
              "      <td>0.0</td>\n",
              "      <td>16.0</td>\n",
              "      <td>2.4</td>\n",
              "      <td>0.0</td>\n",
              "      <td>...</td>\n",
              "      <td>53.0</td>\n",
              "      <td>170.0</td>\n",
              "      <td>9.0</td>\n",
              "      <td>0.0</td>\n",
              "      <td>137.0</td>\n",
              "      <td>136.0</td>\n",
              "      <td>138.0</td>\n",
              "      <td>11.0</td>\n",
              "      <td>1.0</td>\n",
              "      <td>1.0</td>\n",
              "    </tr>\n",
              "  </tbody>\n",
              "</table>\n",
              "<p>5 rows × 22 columns</p>\n",
              "</div>\n",
              "      <button class=\"colab-df-convert\" onclick=\"convertToInteractive('df-17568957-6fc9-49d7-8e2f-a979d213b5b6')\"\n",
              "              title=\"Convert this dataframe to an interactive table.\"\n",
              "              style=\"display:none;\">\n",
              "        \n",
              "  <svg xmlns=\"http://www.w3.org/2000/svg\" height=\"24px\"viewBox=\"0 0 24 24\"\n",
              "       width=\"24px\">\n",
              "    <path d=\"M0 0h24v24H0V0z\" fill=\"none\"/>\n",
              "    <path d=\"M18.56 5.44l.94 2.06.94-2.06 2.06-.94-2.06-.94-.94-2.06-.94 2.06-2.06.94zm-11 1L8.5 8.5l.94-2.06 2.06-.94-2.06-.94L8.5 2.5l-.94 2.06-2.06.94zm10 10l.94 2.06.94-2.06 2.06-.94-2.06-.94-.94-2.06-.94 2.06-2.06.94z\"/><path d=\"M17.41 7.96l-1.37-1.37c-.4-.4-.92-.59-1.43-.59-.52 0-1.04.2-1.43.59L10.3 9.45l-7.72 7.72c-.78.78-.78 2.05 0 2.83L4 21.41c.39.39.9.59 1.41.59.51 0 1.02-.2 1.41-.59l7.78-7.78 2.81-2.81c.8-.78.8-2.07 0-2.86zM5.41 20L4 18.59l7.72-7.72 1.47 1.35L5.41 20z\"/>\n",
              "  </svg>\n",
              "      </button>\n",
              "      \n",
              "  <style>\n",
              "    .colab-df-container {\n",
              "      display:flex;\n",
              "      flex-wrap:wrap;\n",
              "      gap: 12px;\n",
              "    }\n",
              "\n",
              "    .colab-df-convert {\n",
              "      background-color: #E8F0FE;\n",
              "      border: none;\n",
              "      border-radius: 50%;\n",
              "      cursor: pointer;\n",
              "      display: none;\n",
              "      fill: #1967D2;\n",
              "      height: 32px;\n",
              "      padding: 0 0 0 0;\n",
              "      width: 32px;\n",
              "    }\n",
              "\n",
              "    .colab-df-convert:hover {\n",
              "      background-color: #E2EBFA;\n",
              "      box-shadow: 0px 1px 2px rgba(60, 64, 67, 0.3), 0px 1px 3px 1px rgba(60, 64, 67, 0.15);\n",
              "      fill: #174EA6;\n",
              "    }\n",
              "\n",
              "    [theme=dark] .colab-df-convert {\n",
              "      background-color: #3B4455;\n",
              "      fill: #D2E3FC;\n",
              "    }\n",
              "\n",
              "    [theme=dark] .colab-df-convert:hover {\n",
              "      background-color: #434B5C;\n",
              "      box-shadow: 0px 1px 3px 1px rgba(0, 0, 0, 0.15);\n",
              "      filter: drop-shadow(0px 1px 2px rgba(0, 0, 0, 0.3));\n",
              "      fill: #FFFFFF;\n",
              "    }\n",
              "  </style>\n",
              "\n",
              "      <script>\n",
              "        const buttonEl =\n",
              "          document.querySelector('#df-17568957-6fc9-49d7-8e2f-a979d213b5b6 button.colab-df-convert');\n",
              "        buttonEl.style.display =\n",
              "          google.colab.kernel.accessAllowed ? 'block' : 'none';\n",
              "\n",
              "        async function convertToInteractive(key) {\n",
              "          const element = document.querySelector('#df-17568957-6fc9-49d7-8e2f-a979d213b5b6');\n",
              "          const dataTable =\n",
              "            await google.colab.kernel.invokeFunction('convertToInteractive',\n",
              "                                                     [key], {});\n",
              "          if (!dataTable) return;\n",
              "\n",
              "          const docLinkHtml = 'Like what you see? Visit the ' +\n",
              "            '<a target=\"_blank\" href=https://colab.research.google.com/notebooks/data_table.ipynb>data table notebook</a>'\n",
              "            + ' to learn more about interactive tables.';\n",
              "          element.innerHTML = '';\n",
              "          dataTable['output_type'] = 'display_data';\n",
              "          await google.colab.output.renderOutput(dataTable, element);\n",
              "          const docLink = document.createElement('div');\n",
              "          docLink.innerHTML = docLinkHtml;\n",
              "          element.appendChild(docLink);\n",
              "        }\n",
              "      </script>\n",
              "    </div>\n",
              "  </div>\n",
              "  "
            ]
          },
          "metadata": {},
          "execution_count": 15
        }
      ],
      "source": [
        "data.head()"
      ]
    },
    {
      "cell_type": "code",
      "execution_count": null,
      "id": "0648208c",
      "metadata": {
        "id": "0648208c"
      },
      "outputs": [],
      "source": [
        "# Shuffle the dataset.\n",
        "data_shuffled = data.sample(frac=1.0, random_state=0)"
      ]
    },
    {
      "cell_type": "code",
      "execution_count": null,
      "id": "28cb83be",
      "metadata": {
        "id": "28cb83be"
      },
      "outputs": [],
      "source": [
        "# Split into input part X and output part Y.\n",
        "X = data_shuffled.drop('NSP', axis=1)\n"
      ]
    },
    {
      "cell_type": "code",
      "execution_count": null,
      "id": "6370b955",
      "metadata": {
        "id": "6370b955"
      },
      "outputs": [],
      "source": [
        "# Map the diagnosis code to a human-readable label.\n",
        "def to_label(y):\n",
        "    return [None, 'normal', 'suspect', 'pathologic'][(int(y))]\n"
      ]
    },
    {
      "cell_type": "code",
      "execution_count": null,
      "id": "dc63a48b",
      "metadata": {
        "id": "dc63a48b"
      },
      "outputs": [],
      "source": [
        "Y = data_shuffled['NSP'].apply(to_label)"
      ]
    },
    {
      "cell_type": "code",
      "execution_count": null,
      "id": "c2444ab8",
      "metadata": {
        "id": "c2444ab8"
      },
      "outputs": [],
      "source": [
        "# Partition the data into training and test sets.\n",
        "Xtrain, Xtest, Ytrain, Ytest = train_test_split(X, Y, test_size=0.2, random_state=0)"
      ]
    },
    {
      "cell_type": "markdown",
      "id": "b41fd7b7",
      "metadata": {
        "id": "b41fd7b7"
      },
      "source": [
        "# Baseline classifier"
      ]
    },
    {
      "cell_type": "markdown",
      "id": "de53d27d",
      "metadata": {
        "id": "de53d27d"
      },
      "source": [
        "# Dummy Classifier"
      ]
    },
    {
      "cell_type": "code",
      "execution_count": null,
      "id": "b967cf39",
      "metadata": {
        "id": "b967cf39"
      },
      "outputs": [],
      "source": [
        "dummy = DummyClassifier(strategy='most_frequent')"
      ]
    },
    {
      "cell_type": "code",
      "execution_count": null,
      "id": "8d403923",
      "metadata": {
        "colab": {
          "base_uri": "https://localhost:8080/"
        },
        "id": "8d403923",
        "outputId": "9362d871-f0b5-448f-a4af-ba112a6bd46a",
        "scrolled": true
      },
      "outputs": [
        {
          "output_type": "execute_result",
          "data": {
            "text/plain": [
              "0.7805882352941176"
            ]
          },
          "metadata": {},
          "execution_count": 22
        }
      ],
      "source": [
        "cross_val_score(dummy, Xtrain, Ytrain).mean()"
      ]
    },
    {
      "cell_type": "markdown",
      "id": "8a625604",
      "metadata": {
        "id": "8a625604"
      },
      "source": [
        "By cross-validating the dummy classifier on the training data's different fold, we get a mean accuracy of <b>78% </b> in predicting the classification of the fetal states into the three class Normal, Suspicious, or Pathological."
      ]
    },
    {
      "cell_type": "markdown",
      "id": "e362216b",
      "metadata": {
        "id": "e362216b"
      },
      "source": [
        "## Training and hyperparameter-tuning a set of different ML classifiers"
      ]
    },
    {
      "cell_type": "markdown",
      "id": "a5fbe024",
      "metadata": {
        "id": "a5fbe024"
      },
      "source": [
        "In this section we are going to expirement few different types of classifiers for the aim of finding the classifier with the highest accuracy in the differentiation task of the fetal states classification."
      ]
    },
    {
      "cell_type": "markdown",
      "id": "97d62b88",
      "metadata": {
        "id": "97d62b88"
      },
      "source": [
        "# Tree-based classifiers"
      ]
    },
    {
      "cell_type": "markdown",
      "id": "5725955f",
      "metadata": {
        "id": "5725955f"
      },
      "source": [
        "We firstly start by experimenting the Decision Tree classifier of sklearn on our training data"
      ]
    },
    {
      "cell_type": "markdown",
      "id": "ea90f924",
      "metadata": {
        "id": "ea90f924"
      },
      "source": [
        "## Decision Tree"
      ]
    },
    {
      "cell_type": "code",
      "execution_count": null,
      "id": "a4496f23",
      "metadata": {
        "colab": {
          "base_uri": "https://localhost:8080/"
        },
        "id": "a4496f23",
        "outputId": "07bff963-a590-4dc4-8228-76a0f6c4057e"
      },
      "outputs": [
        {
          "output_type": "execute_result",
          "data": {
            "text/plain": [
              "0.9199999999999999"
            ]
          },
          "metadata": {},
          "execution_count": 23
        }
      ],
      "source": [
        "skDT = DecisionTreeClassifier()\n",
        "cross_val_score(skDT, Xtrain, Ytrain).mean()"
      ]
    },
    {
      "cell_type": "markdown",
      "id": "388cf2ed",
      "metadata": {
        "id": "388cf2ed"
      },
      "source": [
        "As we can see, the DT classifier obtained a cross-validation accuracy of an average of <b>92.4%</b> on the different folds of the training data when being called with the default values of its parameters, so we proceed by tuning the classifier."
      ]
    },
    {
      "cell_type": "markdown",
      "id": "0030b8e2",
      "metadata": {
        "id": "0030b8e2"
      },
      "source": [
        "### DecisionTree hyperparameter (max_depth) tuning through a graph"
      ]
    },
    {
      "cell_type": "markdown",
      "id": "d9e99331",
      "metadata": {
        "id": "d9e99331"
      },
      "source": [
        "plot to verify the determine the max_depth hyperparameter"
      ]
    },
    {
      "cell_type": "code",
      "execution_count": null,
      "id": "92cd58c8",
      "metadata": {
        "colab": {
          "base_uri": "https://localhost:8080/",
          "height": 279
        },
        "id": "92cd58c8",
        "outputId": "db353d48-9d81-404d-ee36-d55a14a7c5da",
        "scrolled": false
      },
      "outputs": [
        {
          "output_type": "display_data",
          "data": {
            "text/plain": [
              "<Figure size 432x288 with 1 Axes>"
            ],
            "image/png": "[encoded data removed]"
          },
          "metadata": {
            "needs_background": "light"
          }
        }
      ],
      "source": [
        "max_depths = np.linspace(1, 50, 50, endpoint=True)\n",
        "\n",
        "train_results = []\n",
        "\n",
        "for max_depth in max_depths:\n",
        "    dt = DecisionTreeClassifier(max_depth=max_depth,random_state=0)\n",
        "    accuracyTemp = cross_val_score(dt, Xtrain, Ytrain).mean()\n",
        "    train_results.append(accuracyTemp)\n",
        "    \n",
        "line2 = plt.plot(max_depths, train_results, label='Train accuracy')\n",
        "\n",
        "plt.ylabel('Accuracy')\n",
        "plt.xlabel('Tree depth')\n",
        "plt.show()"
      ]
    },
    {
      "cell_type": "markdown",
      "id": "a5706ef3",
      "metadata": {
        "id": "a5706ef3"
      },
      "source": [
        "As we can see in the graph, the maximum depth maximizes the accuracy of the DT classifier when its maximimum depth is between 8-10 approximately and decreases to stay constant after the depth of 18. (This cv accuracy values are guaranteed when the max_depth is varying while the other parameters are held with their default values)"
      ]
    },
    {
      "cell_type": "markdown",
      "id": "46208e1e",
      "metadata": {
        "id": "46208e1e"
      },
      "source": [
        "### DecisionTree hyperparameter tuning using sklearn gridsearch"
      ]
    },
    {
      "cell_type": "markdown",
      "id": "8fa2feaa",
      "metadata": {
        "id": "8fa2feaa"
      },
      "source": [
        "Moving on, to tune the hyperparameters max_depth and criterion with different combinations of their values in order to find the best combination that maximizes the model's csv average accuracy, we use sklearn's gridsearch meathod"
      ]
    },
    {
      "cell_type": "code",
      "execution_count": null,
      "id": "fcea0ab7",
      "metadata": {
        "colab": {
          "base_uri": "https://localhost:8080/"
        },
        "id": "fcea0ab7",
        "outputId": "596c3f0e-32a0-49c1-93d9-3bf3a905af27"
      },
      "outputs": [
        {
          "output_type": "execute_result",
          "data": {
            "text/plain": [
              "GridSearchCV(cv=5, estimator=DecisionTreeClassifier(random_state=0), n_jobs=-1,\n",
              "             param_grid={'criterion': ['gini', 'entropy'],\n",
              "                         'max_depth': [3, 5, 6, 7, 8, 9, 10, 40, 70, 100]})"
            ]
          },
          "metadata": {},
          "execution_count": 25
        }
      ],
      "source": [
        "dTgridTuned = DecisionTreeClassifier(random_state=0)\n",
        "parameter_space = {'max_depth': [3,5,6,7,8,9,10,40,70,100],\n",
        "                'criterion': ['gini','entropy']}\n",
        "DtTuned = GridSearchCV(dTgridTuned, parameter_space, n_jobs=-1, cv=5)\n",
        "DtTuned.fit(Xtrain, Ytrain) # X is train samples and y is the corresponding labels"
      ]
    },
    {
      "cell_type": "code",
      "execution_count": null,
      "id": "4af814dc",
      "metadata": {
        "colab": {
          "base_uri": "https://localhost:8080/"
        },
        "id": "4af814dc",
        "outputId": "299ce3d8-8f00-4edb-d34e-670952980c4a"
      },
      "outputs": [
        {
          "output_type": "execute_result",
          "data": {
            "text/plain": [
              "{'criterion': 'entropy', 'max_depth': 40}"
            ]
          },
          "metadata": {},
          "execution_count": 26
        }
      ],
      "source": [
        "DtTuned.best_params_"
      ]
    },
    {
      "cell_type": "code",
      "execution_count": null,
      "id": "496487d3",
      "metadata": {
        "colab": {
          "base_uri": "https://localhost:8080/"
        },
        "id": "496487d3",
        "outputId": "e7fb650b-af51-464f-963b-b255fe9c2013",
        "scrolled": true
      },
      "outputs": [
        {
          "output_type": "execute_result",
          "data": {
            "text/plain": [
              "0.9341176470588234"
            ]
          },
          "metadata": {},
          "execution_count": 27
        }
      ],
      "source": [
        "DtTuned.best_score_"
      ]
    },
    {
      "cell_type": "markdown",
      "id": "b8b26160",
      "metadata": {
        "id": "b8b26160"
      },
      "source": [
        "By running searching the search space of the different combination of both parameters, the gridsearch found that when <b> criterion = 'entropy'</b> and <b> max_depth = 40</b>, the cv accuracy is maximized to <b>93.4% </b> in predicting the status of the fetus."
      ]
    },
    {
      "cell_type": "markdown",
      "id": "b0462e16",
      "metadata": {
        "id": "b0462e16"
      },
      "source": [
        "## Random Forest"
      ]
    },
    {
      "cell_type": "markdown",
      "id": "ffd5b0d0",
      "metadata": {
        "id": "ffd5b0d0"
      },
      "source": [
        "Afterwards, we moved forward to experiment the Random Forest classifier model, since the Decision tree classifier performed well compared to the baseline dummy classifier."
      ]
    },
    {
      "cell_type": "code",
      "execution_count": null,
      "id": "dba30d2c",
      "metadata": {
        "id": "dba30d2c",
        "scrolled": true,
        "colab": {
          "base_uri": "https://localhost:8080/"
        },
        "outputId": "fb84de0d-4078-4c9a-e041-5cbdbd4c1740"
      },
      "outputs": [
        {
          "output_type": "execute_result",
          "data": {
            "text/plain": [
              "0.9429411764705883"
            ]
          },
          "metadata": {},
          "execution_count": 28
        }
      ],
      "source": [
        "RF = RandomForestClassifier(random_state=0)\n",
        "cross_val_score(RF, Xtrain, Ytrain).mean()"
      ]
    },
    {
      "cell_type": "markdown",
      "id": "61e2d5ae",
      "metadata": {
        "id": "61e2d5ae"
      },
      "source": [
        "As we can see, the RF classifier obtained a cross-validation accuracy of an average of <b>94%</b> on the different folds of the training data when being called with the default values of its parameters, so we proceed by tuning the classifier."
      ]
    },
    {
      "cell_type": "markdown",
      "id": "d0225017",
      "metadata": {
        "id": "d0225017"
      },
      "source": [
        "### n_estimators hyperparameter tuning with graph"
      ]
    },
    {
      "cell_type": "code",
      "execution_count": null,
      "id": "5f458409",
      "metadata": {
        "colab": {
          "base_uri": "https://localhost:8080/",
          "height": 279
        },
        "id": "5f458409",
        "outputId": "f0f34084-11f6-4a71-b74d-38bf0bf91b97",
        "scrolled": false
      },
      "outputs": [
        {
          "output_type": "display_data",
          "data": {
            "text/plain": [
              "<Figure size 432x288 with 1 Axes>"
            ],
            "image/png": "[encoded data removed]"
          },
          "metadata": {
            "needs_background": "light"
          }
        }
      ],
      "source": [
        "n_estimators = [1, 2, 4, 8, 16, 32, 64, 100, 200,500]\n",
        "train_results = []\n",
        "for estimator in n_estimators:\n",
        "    RF = RandomForestClassifier(n_estimators=estimator,random_state=0)\n",
        "    accuracyTemp = cross_val_score(RF, Xtrain, Ytrain).mean()\n",
        "    train_results.append(accuracyTemp)\n",
        "    \n",
        "plt.plot(n_estimators, train_results, label='Train accuracy')\n",
        "\n",
        "plt.ylabel('Accuracy score')\n",
        "plt.xlabel('Number of estimators')\n",
        "plt.show()"
      ]
    },
    {
      "cell_type": "markdown",
      "id": "2447e42d",
      "metadata": {
        "id": "2447e42d"
      },
      "source": [
        "As we can see in the graph above, the number of estimator trees that maximizes the accuracy of the RF classifier when its n_estimators is 120 estimators approximately and the accuracy starts in decreasing slightly as the number of estimators increases. (This cv accuracy values are guaranteed when the n_estimators is varying while the other parameters are held with their default values)"
      ]
    },
    {
      "cell_type": "markdown",
      "id": "fce57757",
      "metadata": {
        "id": "fce57757"
      },
      "source": [
        "### Random Forest Classifier hyperparameter tuning with gridsearch"
      ]
    },
    {
      "cell_type": "code",
      "execution_count": null,
      "id": "8c852475",
      "metadata": {
        "colab": {
          "base_uri": "https://localhost:8080/"
        },
        "id": "8c852475",
        "outputId": "d7198b3a-7f0b-4a02-f649-286e1b8956ec"
      },
      "outputs": [
        {
          "output_type": "execute_result",
          "data": {
            "text/plain": [
              "GridSearchCV(cv=5, estimator=RandomForestClassifier(), n_jobs=-1,\n",
              "             param_grid={'criterion': ['gini', 'entropy'],\n",
              "                         'max_depth': [0, 2, 3, 5, 10, 40, 70, 100],\n",
              "                         'n_estimators': [1, 2, 4, 8, 16, 32, 64, 100, 200,\n",
              "                                          500]})"
            ]
          },
          "metadata": {},
          "execution_count": 30
        }
      ],
      "source": [
        "RfCgridTuned = RandomForestClassifier()\n",
        "parameter_space = {'max_depth': [0,2,3,5,10,40,70,100],\n",
        "                 'criterion': ['gini', 'entropy'],\n",
        "                   'n_estimators' : [1, 2, 4, 8, 16, 32, 64, 100, 200,500]}\n",
        "RFCTuned = GridSearchCV(RfCgridTuned, parameter_space, n_jobs=-1, cv=5)\n",
        "RFCTuned.fit(Xtrain, Ytrain) # X is train samples and y is the corresponding labels"
      ]
    },
    {
      "cell_type": "code",
      "execution_count": null,
      "id": "b1fbbbdb",
      "metadata": {
        "colab": {
          "base_uri": "https://localhost:8080/"
        },
        "id": "b1fbbbdb",
        "outputId": "6cbd9b0e-ece9-4a85-dd54-796a21edb7e4",
        "scrolled": true
      },
      "outputs": [
        {
          "output_type": "execute_result",
          "data": {
            "text/plain": [
              "{'criterion': 'gini', 'max_depth': 70, 'n_estimators': 200}"
            ]
          },
          "metadata": {},
          "execution_count": 31
        }
      ],
      "source": [
        "RFCTuned.best_params_"
      ]
    },
    {
      "cell_type": "code",
      "execution_count": null,
      "id": "2105a151",
      "metadata": {
        "colab": {
          "base_uri": "https://localhost:8080/"
        },
        "id": "2105a151",
        "outputId": "9c62e683-c317-4d35-a2f8-3b4090ea78af"
      },
      "outputs": [
        {
          "output_type": "execute_result",
          "data": {
            "text/plain": [
              "0.943529411764706"
            ]
          },
          "metadata": {},
          "execution_count": 32
        }
      ],
      "source": [
        "RFCTuned.best_score_"
      ]
    },
    {
      "cell_type": "markdown",
      "id": "8ee968be",
      "metadata": {
        "id": "8ee968be"
      },
      "source": [
        "As we can see, for the purpose of reaching a higher accuracy in the cross-validation phase, we tune the hyperparameter <i>maxdepth, criterion, and n_estimators </i> of the model using a gridsearch to find the the parameters that maximized the model's cv accuracy are <b>criterion = 'entropy', max_depth = 10, and n_estimators = 32</b> as by applying those parameters values on the model, the model acieved a cv accuracy of <b>94.4%</b>"
      ]
    },
    {
      "cell_type": "markdown",
      "id": "db41d00e",
      "metadata": {
        "id": "db41d00e"
      },
      "source": [
        "## Gradient Boosting Classifier"
      ]
    },
    {
      "cell_type": "markdown",
      "id": "8217748d",
      "metadata": {
        "id": "8217748d"
      },
      "source": [
        "We continue to repeat the steps carried out on the models above for more models"
      ]
    },
    {
      "cell_type": "code",
      "execution_count": null,
      "id": "e0c67c35",
      "metadata": {
        "colab": {
          "base_uri": "https://localhost:8080/"
        },
        "id": "e0c67c35",
        "outputId": "daaad787-61c1-4322-ec3e-186d9187fe21"
      },
      "outputs": [
        {
          "output_type": "execute_result",
          "data": {
            "text/plain": [
              "0.9494117647058824"
            ]
          },
          "metadata": {},
          "execution_count": 33
        }
      ],
      "source": [
        "GBC = GradientBoostingClassifier(random_state=0)\n",
        "cross_val_score(GBC, Xtrain, Ytrain).mean()"
      ]
    },
    {
      "cell_type": "markdown",
      "id": "7beebb52",
      "metadata": {
        "id": "7beebb52"
      },
      "source": [
        "We experiment the Gradient Boosting Classifier model on the training data, and we find that with the model's default parameters, the model achived an average cross validation accuracy on the different folds of the training set of approximately <b> 95% </b>."
      ]
    },
    {
      "cell_type": "markdown",
      "id": "97fe6cbc",
      "metadata": {
        "id": "97fe6cbc"
      },
      "source": [
        "### max_depth hyperparameter tuning through a graph"
      ]
    },
    {
      "cell_type": "markdown",
      "id": "0f7f3ed9",
      "metadata": {
        "id": "0f7f3ed9"
      },
      "source": [
        "plot to verify the determine the max_depth hyperparameter"
      ]
    },
    {
      "cell_type": "code",
      "execution_count": null,
      "id": "f63aef8d",
      "metadata": {
        "colab": {
          "base_uri": "https://localhost:8080/",
          "height": 279
        },
        "id": "f63aef8d",
        "outputId": "ed9cb9ca-6fc1-44ae-a7a5-92c617944aef",
        "scrolled": true
      },
      "outputs": [
        {
          "output_type": "display_data",
          "data": {
            "text/plain": [
              "<Figure size 432x288 with 1 Axes>"
            ],
            "image/png": "[encoded data removed]"
          },
          "metadata": {
            "needs_background": "light"
          }
        }
      ],
      "source": [
        "max_depths = np.linspace(1, 10, 10, endpoint=True)\n",
        "\n",
        "train_results = []\n",
        "\n",
        "for max_depth in max_depths:\n",
        "    GBC = GradientBoostingClassifier(max_depth=max_depth,random_state=0)\n",
        "    accuracyTemp = cross_val_score(GBC, Xtrain, Ytrain).mean()\n",
        "    train_results.append(accuracyTemp)\n",
        "    \n",
        "plt.plot(max_depths, train_results, label='Train accuracy')\n",
        "    \n",
        "# plt.ylim(bottom=0)\n",
        "plt.ylabel('Accuracy')\n",
        "plt.xlabel('Tree depth')\n",
        "plt.show()"
      ]
    },
    {
      "cell_type": "markdown",
      "id": "266d1b24",
      "metadata": {
        "id": "266d1b24"
      },
      "source": [
        "By tuning the model's hyperparameter <b> max_depth</b>, we can see from the graph aove that the value of <b> max_depth</b> that maximizes the models average cross validation accuracy on the different fold of the training set is <b> max_depth = 6</b> that results in an avergae cv accuracy of aprroximately <b>95.2%</b>"
      ]
    },
    {
      "cell_type": "markdown",
      "id": "a90d9312",
      "metadata": {
        "id": "a90d9312"
      },
      "source": [
        "### GradientBoosting Classifier hyperparameter tuning with gridsearch"
      ]
    },
    {
      "cell_type": "code",
      "execution_count": null,
      "id": "8332799e",
      "metadata": {
        "colab": {
          "base_uri": "https://localhost:8080/"
        },
        "id": "8332799e",
        "outputId": "9ac704f8-1279-4c8c-b834-3863fa7dea8b"
      },
      "outputs": [
        {
          "output_type": "execute_result",
          "data": {
            "text/plain": [
              "GridSearchCV(cv=5, estimator=GradientBoostingClassifier(), n_jobs=-1,\n",
              "             param_grid={'criterion': ['friedman_mse', 'squared_error', 'mse',\n",
              "                                       'mae'],\n",
              "                         'learning_rate': [0.001, 0.01, 1],\n",
              "                         'loss': ['deviance', 'exponential'],\n",
              "                         'n_estimators': [4, 8, 16, 64, 100]})"
            ]
          },
          "metadata": {},
          "execution_count": 35
        }
      ],
      "source": [
        "GBCgridTuned = GradientBoostingClassifier()\n",
        "parameter_space = {'loss' : ['deviance', 'exponential'],\n",
        "                'criterion': ['friedman_mse', 'squared_error', 'mse', 'mae'],\n",
        "                'n_estimators' : [4, 8, 16, 64, 100]\n",
        "                ,'learning_rate': [0.001,0.01,1]\n",
        "                  }\n",
        "GBCTuned = GridSearchCV(GBCgridTuned, parameter_space, n_jobs=-1, cv=5)\n",
        "GBCTuned.fit(Xtrain, Ytrain) # X is train samples and y is the corresponding labels"
      ]
    },
    {
      "cell_type": "code",
      "execution_count": null,
      "id": "5e50cd73",
      "metadata": {
        "colab": {
          "base_uri": "https://localhost:8080/"
        },
        "id": "5e50cd73",
        "outputId": "c0121735-393d-44e2-e1b9-ad9e8447fa26",
        "scrolled": true
      },
      "outputs": [
        {
          "output_type": "execute_result",
          "data": {
            "text/plain": [
              "{'criterion': 'friedman_mse',\n",
              " 'learning_rate': 1,\n",
              " 'loss': 'deviance',\n",
              " 'n_estimators': 64}"
            ]
          },
          "metadata": {},
          "execution_count": 36
        }
      ],
      "source": [
        "GBCTuned.best_params_"
      ]
    },
    {
      "cell_type": "code",
      "execution_count": null,
      "id": "6c4fc2ba",
      "metadata": {
        "colab": {
          "base_uri": "https://localhost:8080/"
        },
        "id": "6c4fc2ba",
        "outputId": "c47bec80-c94c-4db3-ae5b-bb1055add0d8",
        "scrolled": true
      },
      "outputs": [
        {
          "output_type": "execute_result",
          "data": {
            "text/plain": [
              "0.9441176470588235"
            ]
          },
          "metadata": {},
          "execution_count": 37
        }
      ],
      "source": [
        "GBCTuned.best_score_"
      ]
    },
    {
      "cell_type": "markdown",
      "id": "3aa8acd6",
      "metadata": {
        "id": "3aa8acd6"
      },
      "source": [
        "furthermore, we tuned the differen hyperparameters of the model <b> loss, criterion, n_estimators, and learning_rate </b> using a gridsearch to get a best score of the different combination of the gridsearch of <b> 94.2%</b>, which is less than the average cross validation accuracy obtained by max_depth=6 with the rest of the parameters set to their defaults, therefore for the GradientBoosting Classifier model we use the graphically tuned version with <b>max_depth = 6</b>"
      ]
    },
    {
      "cell_type": "code",
      "execution_count": null,
      "id": "mHwVqP2gafAY",
      "metadata": {
        "colab": {
          "base_uri": "https://localhost:8080/"
        },
        "id": "mHwVqP2gafAY",
        "outputId": "8c23bd56-4115-4597-a916-746219acb4f5",
        "scrolled": true
      },
      "outputs": [
        {
          "output_type": "execute_result",
          "data": {
            "text/plain": [
              "0.9476470588235294"
            ]
          },
          "metadata": {},
          "execution_count": 38
        }
      ],
      "source": [
        "GBCFinal = GradientBoostingClassifier(max_depth = 6)\n",
        "cross_val_score(GBCFinal, Xtrain, Ytrain).mean()"
      ]
    },
    {
      "cell_type": "markdown",
      "id": "167eda91",
      "metadata": {
        "id": "167eda91"
      },
      "source": [
        "# Linear Classifiers"
      ]
    },
    {
      "cell_type": "markdown",
      "id": "561a4ce6",
      "metadata": {
        "id": "561a4ce6"
      },
      "source": [
        "Afterwards, we moved forward to try a set of different linear classifiers"
      ]
    },
    {
      "cell_type": "markdown",
      "id": "645c3072",
      "metadata": {
        "id": "645c3072"
      },
      "source": [
        "## Perceptron Classifier"
      ]
    },
    {
      "cell_type": "code",
      "execution_count": null,
      "id": "537ef959",
      "metadata": {
        "colab": {
          "base_uri": "https://localhost:8080/"
        },
        "id": "537ef959",
        "outputId": "46775436-3d13-4326-9563-d36df3e2d8eb"
      },
      "outputs": [
        {
          "output_type": "execute_result",
          "data": {
            "text/plain": [
              "0.825294117647059"
            ]
          },
          "metadata": {},
          "execution_count": 39
        }
      ],
      "source": [
        "perceptron = Perceptron()\n",
        "cross_val_score(perceptron, Xtrain, Ytrain).mean()"
      ]
    },
    {
      "cell_type": "markdown",
      "id": "c065050f",
      "metadata": {
        "id": "c065050f"
      },
      "source": [
        "For perceptron linear model, we obtaind an average cross validation accuracy on the different folds of the training set of <b>82.5%</b>"
      ]
    },
    {
      "cell_type": "markdown",
      "id": "c8a07bce",
      "metadata": {
        "id": "c8a07bce"
      },
      "source": [
        "### Hyperparameter tuning with sklearn grid search"
      ]
    },
    {
      "cell_type": "markdown",
      "id": "da06bb6a",
      "metadata": {
        "id": "da06bb6a"
      },
      "source": [
        "we tune the perceptron model based on the learning rate (alpha), penalty, and number of epochs as they are the most parameters having effect on the model's accuracy"
      ]
    },
    {
      "cell_type": "code",
      "execution_count": null,
      "id": "cdc08700",
      "metadata": {
        "colab": {
          "base_uri": "https://localhost:8080/"
        },
        "id": "cdc08700",
        "outputId": "4274b610-814e-403d-a7ac-55e19201a1df"
      },
      "outputs": [
        {
          "output_type": "execute_result",
          "data": {
            "text/plain": [
              "GridSearchCV(cv=5, estimator=Perceptron(), n_jobs=-1,\n",
              "             param_grid={'alpha': [1e-05, 0.0001, 0.0003, 0.001, 0.003, 0.01,\n",
              "                                   0.03, 0.1, 0.3],\n",
              "                         'max_iter': [3, 5, 10, 15, 20, 50],\n",
              "                         'penalty': ['l2', 'l1', 'elasticnet']})"
            ]
          },
          "metadata": {},
          "execution_count": 40
        }
      ],
      "source": [
        "perceptron = Perceptron(random_state=0)\n",
        "parameter_space = {'alpha': [0.00001,0.0001, 0.0003, 0.001, 0.003, 0.01, 0.03, 0.1, 0.3],\n",
        "                   'penalty': ['l2', 'l1', 'elasticnet'],\n",
        "                'max_iter': [3,5, 10, 15, 20, 50]}\n",
        "perceptronTuned = GridSearchCV(perceptron, parameter_space, n_jobs=-1, cv=5)\n",
        "perceptronTuned.fit(Xtrain, Ytrain) # X is train samples and y is the corresponding labels"
      ]
    },
    {
      "cell_type": "code",
      "execution_count": null,
      "id": "99f65b1e",
      "metadata": {
        "colab": {
          "base_uri": "https://localhost:8080/"
        },
        "id": "99f65b1e",
        "outputId": "2568287d-5bdf-4b29-f3b3-75f334a6300d",
        "scrolled": false
      },
      "outputs": [
        {
          "output_type": "execute_result",
          "data": {
            "text/plain": [
              "{'alpha': 0.001, 'max_iter': 50, 'penalty': 'l1'}"
            ]
          },
          "metadata": {},
          "execution_count": 41
        }
      ],
      "source": [
        "perceptronTuned.best_params_"
      ]
    },
    {
      "cell_type": "code",
      "execution_count": null,
      "id": "61b2714a",
      "metadata": {
        "colab": {
          "base_uri": "https://localhost:8080/"
        },
        "id": "61b2714a",
        "outputId": "10533397-eb7b-4f9b-91a8-f7ac8aa02a07"
      },
      "outputs": [
        {
          "output_type": "execute_result",
          "data": {
            "text/plain": [
              "0.8505882352941176"
            ]
          },
          "metadata": {},
          "execution_count": 42
        }
      ],
      "source": [
        "perceptronTuned.best_score_"
      ]
    },
    {
      "cell_type": "markdown",
      "id": "e06cb600",
      "metadata": {
        "id": "e06cb600"
      },
      "source": [
        "By tuning the hyperparameters of the perceptron model using a grid search, the average cv accuracy on the different fold of the training set is raised to <b>85%</b>"
      ]
    },
    {
      "cell_type": "markdown",
      "id": "a5064cda",
      "metadata": {
        "id": "a5064cda"
      },
      "source": [
        "## Logistic Regression"
      ]
    },
    {
      "cell_type": "code",
      "execution_count": null,
      "id": "9be87666",
      "metadata": {
        "colab": {
          "base_uri": "https://localhost:8080/"
        },
        "id": "9be87666",
        "outputId": "d7192f44-b705-4929-ceea-5aa223cf3eaa"
      },
      "outputs": [
        {
          "output_type": "execute_result",
          "data": {
            "text/plain": [
              "0.8735294117647058"
            ]
          },
          "metadata": {},
          "execution_count": 43
        }
      ],
      "source": [
        "LogR = LogisticRegression()\n",
        "cross_val_score(LogR, Xtrain, Ytrain).mean()"
      ]
    },
    {
      "cell_type": "markdown",
      "id": "9cc5294b",
      "metadata": {
        "id": "9cc5294b"
      },
      "source": [
        "For the Logistic Regression model, we obtaind an average cross validation accuracy on the different folds of the training set of <b>87.4%</b>"
      ]
    },
    {
      "cell_type": "markdown",
      "id": "b8223ded",
      "metadata": {
        "id": "b8223ded"
      },
      "source": [
        "### Tuning logistic regression"
      ]
    },
    {
      "cell_type": "code",
      "execution_count": null,
      "id": "bcb7390d",
      "metadata": {
        "id": "bcb7390d"
      },
      "outputs": [],
      "source": [
        "LogRgridTuned = LogisticRegression()\n",
        "\n",
        "param_grid = {'C': [0.01, 0.1, 1, 10, 100,1000], 'penalty': ['l1', 'l2']}\n",
        "\n",
        "LogRTuned = GridSearchCV(LogRgridTuned, param_grid)\n",
        "\n",
        "LogRTuned.fit(Xtrain, Ytrain);"
      ]
    },
    {
      "cell_type": "code",
      "execution_count": null,
      "id": "945710ff",
      "metadata": {
        "colab": {
          "base_uri": "https://localhost:8080/"
        },
        "id": "945710ff",
        "outputId": "a7fe161e-98aa-43e4-d114-f9dfae4c14a2"
      },
      "outputs": [
        {
          "output_type": "execute_result",
          "data": {
            "text/plain": [
              "{'C': 0.01, 'penalty': 'l2'}"
            ]
          },
          "metadata": {},
          "execution_count": 45
        }
      ],
      "source": [
        "LogRTuned.best_params_"
      ]
    },
    {
      "cell_type": "code",
      "execution_count": null,
      "id": "187caec5",
      "metadata": {
        "colab": {
          "base_uri": "https://localhost:8080/"
        },
        "id": "187caec5",
        "outputId": "3a5c4571-24eb-410a-d67a-91b342820fcc"
      },
      "outputs": [
        {
          "output_type": "execute_result",
          "data": {
            "text/plain": [
              "0.8823529411764707"
            ]
          },
          "metadata": {},
          "execution_count": 46
        }
      ],
      "source": [
        "LogRTuned.best_score_"
      ]
    },
    {
      "cell_type": "markdown",
      "id": "fe14dcfc",
      "metadata": {
        "id": "fe14dcfc"
      },
      "source": [
        "By tuning the logistic regression model on the <b> Inverse of regularization strength (C) and the norm of the penalty </b>, we find that the hyperparameter combination that maximizes the average cv accuracy to approximately <b> 88%</b> is <b> C = 0.01 and penalty = L2</b>"
      ]
    },
    {
      "cell_type": "markdown",
      "id": "0aaf77a7",
      "metadata": {
        "id": "0aaf77a7"
      },
      "source": [
        "## Linear Support Vector Classifier"
      ]
    },
    {
      "cell_type": "code",
      "execution_count": null,
      "id": "63bbb589",
      "metadata": {
        "id": "63bbb589"
      },
      "outputs": [],
      "source": [
        "from sklearn.svm import LinearSVC"
      ]
    },
    {
      "cell_type": "code",
      "execution_count": null,
      "id": "56358b42",
      "metadata": {
        "colab": {
          "base_uri": "https://localhost:8080/"
        },
        "id": "56358b42",
        "outputId": "98c8ac60-e358-4a0d-b972-eb0bac1b33d4",
        "scrolled": true
      },
      "outputs": [
        {
          "output_type": "execute_result",
          "data": {
            "text/plain": [
              "0.8452941176470589"
            ]
          },
          "metadata": {},
          "execution_count": 48
        }
      ],
      "source": [
        "lsvc = LinearSVC(random_state=0)\n",
        "cross_val_score(lsvc, Xtrain, Ytrain).mean()"
      ]
    },
    {
      "cell_type": "markdown",
      "id": "1e9d7c1f",
      "metadata": {
        "id": "1e9d7c1f"
      },
      "source": [
        "For the Linear Support Vector Classifier model, we obtaind an average cross validation accuracy on the different folds of the training set of <b> 84.5%</b>"
      ]
    },
    {
      "cell_type": "markdown",
      "id": "985a6c0f",
      "metadata": {
        "id": "985a6c0f"
      },
      "source": [
        "### Linear SVC hyperparameter tuning with gridsearch"
      ]
    },
    {
      "cell_type": "code",
      "execution_count": null,
      "id": "f7d74eb7",
      "metadata": {
        "id": "f7d74eb7"
      },
      "outputs": [],
      "source": [
        "lsvcGridTuned = LinearSVC()\n",
        "\n",
        "param_grid = {'C': [0.01, 0.1, 1, 10, 100,1000], 'penalty': ['l1', 'l2'],'loss':['hinge', 'squared_hinge']}\n",
        "\n",
        "lsvcTuned = GridSearchCV(lsvcGridTuned, param_grid)\n",
        "\n",
        "lsvcTuned.fit(Xtrain, Ytrain);"
      ]
    },
    {
      "cell_type": "code",
      "execution_count": null,
      "id": "0909f035",
      "metadata": {
        "colab": {
          "base_uri": "https://localhost:8080/"
        },
        "id": "0909f035",
        "outputId": "68492159-8b7e-47df-92df-bc3cfe4c248b"
      },
      "outputs": [
        {
          "output_type": "execute_result",
          "data": {
            "text/plain": [
              "{'C': 0.01, 'loss': 'hinge', 'penalty': 'l2'}"
            ]
          },
          "metadata": {},
          "execution_count": 50
        }
      ],
      "source": [
        "lsvcTuned.best_params_"
      ]
    },
    {
      "cell_type": "code",
      "execution_count": null,
      "id": "f457495f",
      "metadata": {
        "colab": {
          "base_uri": "https://localhost:8080/"
        },
        "id": "f457495f",
        "outputId": "94ce151d-e29c-4950-aa68-3834275ded31"
      },
      "outputs": [
        {
          "output_type": "execute_result",
          "data": {
            "text/plain": [
              "0.8735294117647058"
            ]
          },
          "metadata": {},
          "execution_count": 51
        }
      ],
      "source": [
        "lsvcTuned.best_score_"
      ]
    },
    {
      "cell_type": "markdown",
      "id": "7924b252",
      "metadata": {
        "id": "7924b252"
      },
      "source": [
        "By tuning the Linear SVC model on the <b> the Regularization parameter (C), the loss function, and the norm of the penalty </b>, we find that the hyperparameter combination that maximizes the average cv accuracy to approximately <b> 88%</b> is <b> C = 100, loss = hinge,  and penalty = L2</b>"
      ]
    },
    {
      "cell_type": "markdown",
      "id": "749ee385",
      "metadata": {
        "id": "749ee385"
      },
      "source": [
        "# Neural network classifier"
      ]
    },
    {
      "cell_type": "markdown",
      "id": "29fc2af1",
      "metadata": {
        "id": "29fc2af1"
      },
      "source": [
        "Moreover, we experiment the neural network based model Multilayer perceptron from sklearn"
      ]
    },
    {
      "cell_type": "markdown",
      "id": "IOnFRpdMwGRS",
      "metadata": {
        "id": "IOnFRpdMwGRS"
      },
      "source": [
        "## MLP Classifier"
      ]
    },
    {
      "cell_type": "code",
      "execution_count": null,
      "id": "db704822",
      "metadata": {
        "colab": {
          "base_uri": "https://localhost:8080/"
        },
        "id": "db704822",
        "outputId": "eb208cb9-285e-4db6-c18f-1f63b124b88c",
        "scrolled": true
      },
      "outputs": [
        {
          "output_type": "execute_result",
          "data": {
            "text/plain": [
              "0.8847058823529412"
            ]
          },
          "metadata": {},
          "execution_count": 52
        }
      ],
      "source": [
        "NNC = MLPClassifier(random_state=0)\n",
        "cross_val_score(NNC, Xtrain, Ytrain).mean()"
      ]
    },
    {
      "cell_type": "markdown",
      "id": "53de310d",
      "metadata": {
        "id": "53de310d"
      },
      "source": [
        "For the MLP Classifier model, we obtaind an average cross validation accuracy on the different folds of the training set of <b>88.5%</b>"
      ]
    },
    {
      "cell_type": "markdown",
      "id": "9214b546",
      "metadata": {
        "id": "9214b546"
      },
      "source": [
        "### Hyperparameter tuning for NN"
      ]
    },
    {
      "cell_type": "code",
      "execution_count": null,
      "id": "GZVFwpKozAc3",
      "metadata": {
        "colab": {
          "base_uri": "https://localhost:8080/"
        },
        "id": "GZVFwpKozAc3",
        "outputId": "f8243a4e-6814-483d-dc9e-47319679e5dc"
      },
      "outputs": [
        {
          "output_type": "execute_result",
          "data": {
            "text/plain": [
              "GridSearchCV(cv=5, estimator=MLPClassifier(max_iter=100), n_jobs=-1,\n",
              "             param_grid={'activation': ['tanh', 'relu', 'logistic'],\n",
              "                         'alpha': [0.0001],\n",
              "                         'hidden_layer_sizes': [(1000,), (5000,)],\n",
              "                         'learning_rate': ['invscaling', 'adaptive'],\n",
              "                         'solver': ['adam']})"
            ]
          },
          "metadata": {},
          "execution_count": 53
        }
      ],
      "source": [
        "mlp_gs = MLPClassifier(max_iter=100)\n",
        "parameter_space = {\n",
        "    'hidden_layer_sizes': [(1000,),(5000,)],\n",
        "    'activation': ['tanh', 'relu','logistic'],\n",
        "    'solver': ['adam'],\n",
        "    'alpha': [0.0001],\n",
        "    'learning_rate': ['invscaling', 'adaptive'],\n",
        "}\n",
        "clf = GridSearchCV(mlp_gs, parameter_space, n_jobs=-1, cv=5)\n",
        "clf.fit(Xtrain, Ytrain) # X is train samples and y is the corresponding labels"
      ]
    },
    {
      "cell_type": "code",
      "execution_count": null,
      "id": "2rkNpdz0zLo6",
      "metadata": {
        "colab": {
          "base_uri": "https://localhost:8080/"
        },
        "id": "2rkNpdz0zLo6",
        "outputId": "15416f43-4f5f-41e2-b6ca-b2ac7b9048d8",
        "scrolled": false
      },
      "outputs": [
        {
          "output_type": "execute_result",
          "data": {
            "text/plain": [
              "{'activation': 'tanh',\n",
              " 'alpha': 0.0001,\n",
              " 'hidden_layer_sizes': (1000,),\n",
              " 'learning_rate': 'adaptive',\n",
              " 'solver': 'adam'}"
            ]
          },
          "metadata": {},
          "execution_count": 54
        }
      ],
      "source": [
        "clf.best_params_"
      ]
    },
    {
      "cell_type": "code",
      "execution_count": null,
      "id": "0ba75470",
      "metadata": {
        "colab": {
          "base_uri": "https://localhost:8080/"
        },
        "id": "0ba75470",
        "outputId": "55e8a66f-b093-41ad-93b1-0e59ecf4e355"
      },
      "outputs": [
        {
          "output_type": "execute_result",
          "data": {
            "text/plain": [
              "0.911764705882353"
            ]
          },
          "metadata": {},
          "execution_count": 55
        }
      ],
      "source": [
        "clf.best_score_"
      ]
    },
    {
      "cell_type": "markdown",
      "id": "6c4ead14",
      "metadata": {
        "id": "6c4ead14"
      },
      "source": [
        "By tuning the MLP classifier model on the parameter <b> number of hidden layers, activation function, solver, learning rate, and type of learning rate </b>, we obtained that the values of the parameters specified above resulted in an increase in the average cv accuracy to approximately <b> 91.2%</b>"
      ]
    },
    {
      "cell_type": "markdown",
      "id": "365ed689",
      "metadata": {
        "id": "365ed689"
      },
      "source": [
        "# Final evaluation"
      ]
    },
    {
      "cell_type": "markdown",
      "id": "4a446fb8",
      "metadata": {
        "id": "4a446fb8"
      },
      "source": [
        "Moving forward, we choose the highest models scoring average cross validation accuracies to predict with them the testing set and evaluate their prediction accuracy."
      ]
    },
    {
      "cell_type": "markdown",
      "id": "a48e8ae9",
      "metadata": {
        "id": "a48e8ae9"
      },
      "source": [
        "### Cross Validation Accuracies"
      ]
    },
    {
      "cell_type": "code",
      "execution_count": null,
      "id": "51816b47",
      "metadata": {
        "colab": {
          "base_uri": "https://localhost:8080/"
        },
        "id": "51816b47",
        "outputId": "c74ef325-311b-4e70-8a02-7ecbdb043fe4",
        "scrolled": false
      },
      "outputs": [
        {
          "output_type": "stream",
          "name": "stdout",
          "text": [
            "The cross-validation accuarcy of the Dummy Classifier is :0.781\n",
            "The cross-validation accuarcy of the Decision Tree Classifier is :0.934\n",
            "The cross-validation accuarcy of the Random Forest Classifier is :0.944\n",
            "The cross-validation accuarcy of the Gradient Boosting Classifier is :0.95\n",
            "The cross-validation accuarcy of the Perceptron Classifier is :0.851\n",
            "The cross-validation accuarcy of the Logistic Regression Classifier is :0.851\n",
            "The cross-validation accuarcy of the Linear support vector classifier is :0.874\n",
            "The cross-validation accuarcy of the Multi layer perceptron (MLP) Neural Network Classifier is :0.912\n"
          ]
        }
      ],
      "source": [
        "# Dummy Classifier\n",
        "print(\"The cross-validation accuarcy of the Dummy Classifier is :\"+str(round(cross_val_score(dummy, Xtrain, Ytrain).mean(),3)))\n",
        "# Decision Tree\n",
        "print(\"The cross-validation accuarcy of the Decision Tree Classifier is :\"+str(round(DtTuned.best_score_,3)))\n",
        "# Random Forset\n",
        "print(\"The cross-validation accuarcy of the Random Forest Classifier is :\"+str(round(RFCTuned.best_score_,3)))\n",
        "#Gradient Boosting\n",
        "print(\"The cross-validation accuarcy of the Gradient Boosting Classifier is :\"+str(round(cross_val_score(GBCFinal, Xtrain, Ytrain).mean(),3)))\n",
        "#Perceptron\n",
        "print(\"The cross-validation accuarcy of the Perceptron Classifier is :\"+str(round(perceptronTuned.best_score_,3)))\n",
        "# Logistic Regression\n",
        "print(\"The cross-validation accuarcy of the Logistic Regression Classifier is :\"+str(round(perceptronTuned.best_score_,3)))\n",
        "# LinearSVC\n",
        "print(\"The cross-validation accuarcy of the Linear support vector classifier is :\"+str(round(lsvcTuned.best_score_,3)))\n",
        "# Multi layer perceptron (MLP) Neural Network Classifier\n",
        "print(\"The cross-validation accuarcy of the Multi layer perceptron (MLP) Neural Network Classifier is :\"+str(round(clf.best_score_,3)))\n"
      ]
    },
    {
      "cell_type": "markdown",
      "id": "e5d16a4f",
      "metadata": {
        "id": "e5d16a4f"
      },
      "source": [
        "We can see that the Gradient Boosting Classifier performed the best within the used classifiers in classification of the <b>  fetal states </b> into the three class <i>Normal<i>, <i>Suspicious<i>, or <i>Pathological<i> with a average validation accuracy of <b>95%</b> with a difference of 0.4% average cross-validation accuracy than the validation accuracy of the Random Forest Tree classifier, and 1.5% difference than the Decision Tree classifier, we proceed forward to test the prediction accuracy of those 3 models on the testing set"
      ]
    },
    {
      "cell_type": "markdown",
      "id": "6085fa38",
      "metadata": {
        "id": "6085fa38"
      },
      "source": [
        "## Test data prediction"
      ]
    },
    {
      "cell_type": "markdown",
      "id": "2023108e",
      "metadata": {
        "id": "2023108e"
      },
      "source": [
        "###  Gradient Boosting Classifier predicitions and accuracy on the test set"
      ]
    },
    {
      "cell_type": "code",
      "execution_count": null,
      "id": "453f40fd",
      "metadata": {
        "colab": {
          "base_uri": "https://localhost:8080/"
        },
        "id": "453f40fd",
        "outputId": "138fdd60-0e0c-4ff0-bcbf-7e8d0ea48602"
      },
      "outputs": [
        {
          "output_type": "stream",
          "name": "stdout",
          "text": [
            "First 10 tuples of test-predicted data (Actual value, predicted value)\n",
            "('normal', 'normal')\n",
            "('normal', 'normal')\n",
            "('normal', 'normal')\n",
            "('suspect', 'suspect')\n",
            "('normal', 'normal')\n",
            "('normal', 'normal')\n",
            "('normal', 'normal')\n",
            "('normal', 'normal')\n",
            "('normal', 'normal')\n",
            "('normal', 'normal')\n"
          ]
        }
      ],
      "source": [
        "GBCFinal.fit(Xtrain, Ytrain)\n",
        "Yguess = GBCFinal.predict(Xtest)\n",
        "print('First 10 tuples of test-predicted data (Actual value, predicted value)')\n",
        "cpt=0\n",
        "for i in zip(Ytest,Yguess):\n",
        "    cpt+=1\n",
        "    if cpt <11:\n",
        "        print(i)"
      ]
    },
    {
      "cell_type": "code",
      "execution_count": null,
      "id": "87c6f0e3",
      "metadata": {
        "colab": {
          "base_uri": "https://localhost:8080/"
        },
        "id": "87c6f0e3",
        "outputId": "e1b49db7-4005-41df-f000-1fa788272bc2"
      },
      "outputs": [
        {
          "output_type": "stream",
          "name": "stdout",
          "text": [
            "Testing accuracy of Gradient Boosting: 0.93\n"
          ]
        }
      ],
      "source": [
        "print('Testing accuracy of Gradient Boosting: '+str(round(accuracy_score(Ytest, Yguess),3)))"
      ]
    },
    {
      "cell_type": "markdown",
      "id": "zJP-71AR9c4Q",
      "metadata": {
        "id": "zJP-71AR9c4Q"
      },
      "source": [
        "###  Random Forest Classifier predicitions and accuracy on the test set"
      ]
    },
    {
      "cell_type": "code",
      "execution_count": null,
      "id": "mrJU7zfl9X4f",
      "metadata": {
        "colab": {
          "base_uri": "https://localhost:8080/"
        },
        "id": "mrJU7zfl9X4f",
        "outputId": "3a0440db-b3f7-4c71-c0f1-194f6ae25b26"
      },
      "outputs": [
        {
          "output_type": "stream",
          "name": "stdout",
          "text": [
            "First tuples 10 of test-predicted data (Actual value, predicted value)\n",
            "('normal', 'normal')\n",
            "('normal', 'normal')\n",
            "('normal', 'normal')\n",
            "('suspect', 'normal')\n",
            "('normal', 'normal')\n",
            "('normal', 'normal')\n",
            "('normal', 'normal')\n",
            "('normal', 'normal')\n",
            "('normal', 'normal')\n",
            "('normal', 'normal')\n"
          ]
        }
      ],
      "source": [
        "Yguess = RFCTuned.predict(Xtest)\n",
        "print('First tuples 10 of test-predicted data (Actual value, predicted value)')\n",
        "cpt=0\n",
        "for i in zip(Ytest,Yguess):\n",
        "    cpt+=1\n",
        "    if cpt <11:\n",
        "        print(i)"
      ]
    },
    {
      "cell_type": "code",
      "execution_count": null,
      "id": "8juyD1x890Xq",
      "metadata": {
        "colab": {
          "base_uri": "https://localhost:8080/"
        },
        "id": "8juyD1x890Xq",
        "outputId": "8b7cb016-a7f5-4880-9409-136868639155"
      },
      "outputs": [
        {
          "output_type": "stream",
          "name": "stdout",
          "text": [
            "Testing accuracy of Random Forest: 0.925\n"
          ]
        }
      ],
      "source": [
        "print('Testing accuracy of Random Forest: '+str(round( accuracy_score(Ytest, Yguess),3)))"
      ]
    },
    {
      "cell_type": "markdown",
      "id": "XfmnhhLF-KJN",
      "metadata": {
        "id": "XfmnhhLF-KJN"
      },
      "source": [
        "###  Decision Tree classifier predicitions and accuracy on the test set"
      ]
    },
    {
      "cell_type": "code",
      "execution_count": null,
      "id": "1Is3Nh-_-Ni9",
      "metadata": {
        "colab": {
          "base_uri": "https://localhost:8080/"
        },
        "id": "1Is3Nh-_-Ni9",
        "outputId": "ca311672-20eb-4240-adaa-6feaab62b911"
      },
      "outputs": [
        {
          "output_type": "stream",
          "name": "stdout",
          "text": [
            "First 10 tuples of test-predicted data (Actual value, predicted value)\n",
            "('normal', 'normal')\n",
            "('normal', 'normal')\n",
            "('normal', 'normal')\n",
            "('suspect', 'suspect')\n",
            "('normal', 'normal')\n",
            "('normal', 'normal')\n",
            "('normal', 'normal')\n",
            "('normal', 'normal')\n",
            "('normal', 'normal')\n",
            "('normal', 'normal')\n"
          ]
        }
      ],
      "source": [
        "Yguess = DtTuned.predict(Xtest)\n",
        "print('First 10 tuples of test-predicted data (Actual value, predicted value)')\n",
        "cpt=0\n",
        "for i in zip(Ytest,Yguess):\n",
        "    cpt+=1\n",
        "    if cpt <11:\n",
        "        print(i)"
      ]
    },
    {
      "cell_type": "code",
      "execution_count": null,
      "id": "-R2zZ3oE-QvV",
      "metadata": {
        "colab": {
          "base_uri": "https://localhost:8080/"
        },
        "id": "-R2zZ3oE-QvV",
        "outputId": "8b09df91-7f2b-4066-8c3a-0a305edb5015",
        "scrolled": true
      },
      "outputs": [
        {
          "output_type": "stream",
          "name": "stdout",
          "text": [
            "Testing accuracy of Decision Tree: 0.913\n"
          ]
        }
      ],
      "source": [
        "print('Testing accuracy of Decision Tree: '+str(round( accuracy_score(Ytest, Yguess),3)))"
      ]
    },
    {
      "cell_type": "markdown",
      "id": "dbf3df91",
      "metadata": {
        "id": "dbf3df91"
      },
      "source": [
        "From the classifiers above, we can see that the highest scoring classifier is the Random Forest Classifier with a prediction accuracy of 93.7% accuracy on the test set, and a gap of 0.3% between the cv accuracy and the testing accuracy, therefore we know that the classifier is not overfitting the training data, and can be used for future predictions. Recall that a gridsearch was used to tune the hyperparameters of this model to find the values of the hyperparameters as <b>'criterion': 'entropy', 'max_depth': 10, 'n_estimators': 32</b>"
      ]
    },
    {
      "cell_type": "markdown",
      "id": "36f6a9fe",
      "metadata": {
        "id": "36f6a9fe"
      },
      "source": [
        "-----------------------------------------------"
      ]
    },
    {
      "cell_type": "markdown",
      "id": "60a1b992",
      "metadata": {
        "id": "60a1b992"
      },
      "source": [
        "# Implementing a Decision Tree class for classification"
      ]
    },
    {
      "cell_type": "code",
      "execution_count": null,
      "id": "cc168424",
      "metadata": {
        "id": "cc168424"
      },
      "outputs": [],
      "source": [
        "class DecisionTreeLeaf:\n",
        "\n",
        "    def __init__(self, value):\n",
        "        self.value = value\n",
        "\n",
        "    # This method computes the prediction for this leaf node. This will just return a constant value.\n",
        "    def predict(self, x):\n",
        "        return self.value\n",
        "\n",
        "    # Utility function to draw a tree visually using graphviz.\n",
        "    def draw_tree(self, graph, node_counter, names):\n",
        "        node_id = str(node_counter)\n",
        "        val_str = f'{self.value:.4g}' if isinstance(self.value, float) else str(self.value)\n",
        "        graph.node(node_id, val_str, style='filled')\n",
        "        return node_counter+1, node_id\n",
        "        \n",
        "    def __eq__(self, other):\n",
        "        if isinstance(other, DecisionTreeLeaf):\n",
        "            return self.value == other.value\n",
        "        else:\n",
        "            return False"
      ]
    },
    {
      "cell_type": "code",
      "execution_count": null,
      "id": "d8f3bd19",
      "metadata": {
        "id": "d8f3bd19"
      },
      "outputs": [],
      "source": [
        "class DecisionTreeBranch:\n",
        "\n",
        "    def __init__(self, feature, threshold, low_subtree, high_subtree):\n",
        "        self.feature = feature\n",
        "        self.threshold = threshold\n",
        "        self.low_subtree = low_subtree\n",
        "        self.high_subtree = high_subtree\n",
        "\n",
        "    # For a branch node, we compute the prediction by first considering the feature, and then \n",
        "    # calling the upper or lower subtree, depending on whether the feature is or isn't greater\n",
        "    # than the threshold.\n",
        "    def predict(self, x):\n",
        "        if x[self.feature] <= self.threshold:\n",
        "            return self.low_subtree.predict(x)\n",
        "        else:\n",
        "            return self.high_subtree.predict(x)\n",
        "\n",
        "    # Utility function to draw a tree visually using graphviz.\n",
        "    def draw_tree(self, graph, node_counter, names):\n",
        "        node_counter, low_id = self.low_subtree.draw_tree(graph, node_counter, names)\n",
        "        node_counter, high_id = self.high_subtree.draw_tree(graph, node_counter, names)\n",
        "        node_id = str(node_counter)\n",
        "        fname = f'F{self.feature}' if names is None else names[self.feature]\n",
        "        lbl = f'{fname} > {self.threshold:.4g}?'\n",
        "        graph.node(node_id, lbl, shape='box', fillcolor='yellow', style='filled, rounded')\n",
        "        graph.edge(node_id, low_id, 'False')\n",
        "        graph.edge(node_id, high_id, 'True')\n",
        "        return node_counter+1, node_id\n",
        "        "
      ]
    },
    {
      "cell_type": "code",
      "execution_count": null,
      "id": "3af38b08",
      "metadata": {
        "id": "3af38b08",
        "scrolled": false
      },
      "outputs": [],
      "source": [
        "from graphviz import Digraph\n",
        "from sklearn.base import BaseEstimator, ClassifierMixin\n",
        "from abc import ABC, abstractmethod\n",
        "\n",
        "class DecisionTree(ABC, BaseEstimator):\n",
        "\n",
        "    def __init__(self, max_depth):\n",
        "        super().__init__()\n",
        "        self.max_depth = max_depth\n",
        "        \n",
        "    # As usual in scikit-learn, the training method is called *fit*. We first process the dataset so that\n",
        "    # we're sure that it's represented as a NumPy matrix. Then we call the recursive tree-building method\n",
        "    # called make_tree (see below).\n",
        "    def fit(self, X, Y):\n",
        "        if isinstance(X, pd.DataFrame):\n",
        "            self.names = X.columns\n",
        "            X = X.to_numpy()\n",
        "        elif isinstance(X, list):\n",
        "            self.names = None\n",
        "            X = np.array(X)\n",
        "        else:\n",
        "            self.names = None\n",
        "        Y = np.array(Y)        \n",
        "        self.root = self.make_tree(X, Y, self.max_depth)\n",
        "        \n",
        "    def draw_tree(self):\n",
        "        graph = Digraph()\n",
        "        self.root.draw_tree(graph, 0, self.names)\n",
        "        return graph\n",
        "    \n",
        "    # By scikit-learn convention, the method *predict* computes the classification or regression output\n",
        "    # for a set of instances.\n",
        "    # To implement it, we call a separate method that carries out the prediction for one instance.\n",
        "    def predict(self, X):\n",
        "        if isinstance(X, pd.DataFrame):\n",
        "            X = X.to_numpy()\n",
        "        return [self.predict_one(x) for x in X]\n",
        "\n",
        "    # Predicting the output for one instance.\n",
        "    def predict_one(self, x):\n",
        "        return self.root.predict(x)        \n",
        "\n",
        "    # This is the recursive training \n",
        "    def make_tree(self, X, Y, max_depth):\n",
        "\n",
        "        # We start by computing the default value that will be used if we'll return a leaf node.\n",
        "        # For classifiers, this will be the most common value in Y.\n",
        "        default_value = self.get_default_value(Y)\n",
        "\n",
        "        # First the two base cases in the recursion: is the training set completely\n",
        "        # homogeneous, or have we reached the maximum depth? Then we need to return a leaf.\n",
        "\n",
        "        # If we have reached the maximum depth, return a leaf with the majority value.\n",
        "        if max_depth == 0:\n",
        "            return DecisionTreeLeaf(default_value)\n",
        "\n",
        "        # If all the instances in the remaining training set have the same output value,\n",
        "        # return a leaf with this value.\n",
        "        if self.is_homogeneous(Y):\n",
        "            return DecisionTreeLeaf(default_value)\n",
        "\n",
        "        # Select the \"most useful\" feature and split threshold. To rank the \"usefulness\" of features,\n",
        "        # we use one of the classification or regression criteria.\n",
        "        # For each feature, we call best_split (defined in a subclass). We then maximize over the features.\n",
        "        n_features = X.shape[1]\n",
        "        _, best_feature, best_threshold = max(self.best_split(X, Y, feature) for feature in range(n_features))\n",
        "        \n",
        "        if best_feature is None:\n",
        "            return DecisionTreeLeaf(default_value)\n",
        "\n",
        "        # Split the training set into subgroups, based on whether the selected feature is greater than\n",
        "        # the threshold or not\n",
        "        X_low, X_high, Y_low, Y_high = self.split_by_feature(X, Y, best_feature, best_threshold)\n",
        "\n",
        "        # Build the subtrees using a recursive call. Each subtree is associated\n",
        "        # with a value of the feature.\n",
        "        low_subtree = self.make_tree(X_low, Y_low, max_depth-1)\n",
        "        high_subtree = self.make_tree(X_high, Y_high, max_depth-1)\n",
        "\n",
        "        if low_subtree == high_subtree:\n",
        "            return low_subtree\n",
        "\n",
        "        # Return a decision tree branch containing the result.\n",
        "        return DecisionTreeBranch(best_feature, best_threshold, low_subtree, high_subtree)\n",
        "    \n",
        "    # Utility method that splits the data into the \"upper\" and \"lower\" part, based on a feature\n",
        "    # and a threshold.\n",
        "    def split_by_feature(self, X, Y, feature, threshold):\n",
        "        low = X[:,feature] <= threshold\n",
        "        high = ~low\n",
        "        return X[low], X[high], Y[low], Y[high]\n",
        "    \n",
        "    # The following three methods need to be implemented by the classification and regression subclasses.\n",
        "    \n",
        "    @abstractmethod\n",
        "    def get_default_value(self, Y):\n",
        "        pass\n",
        "\n",
        "    @abstractmethod\n",
        "    def is_homogeneous(self, Y):\n",
        "        pass\n",
        "\n",
        "    @abstractmethod\n",
        "    def best_split(self, X, Y, feature):\n",
        "        pass"
      ]
    },
    {
      "cell_type": "code",
      "execution_count": null,
      "id": "e18280bf",
      "metadata": {
        "id": "e18280bf"
      },
      "outputs": [],
      "source": [
        "from collections import Counter\n",
        "\n",
        "class TreeClassifier(DecisionTree, ClassifierMixin):\n",
        "\n",
        "    def __init__(self, max_depth=10, criterion='maj_sum'):\n",
        "        super().__init__(max_depth)\n",
        "        self.criterion = criterion\n",
        "        \n",
        "    def fit(self, X, Y):\n",
        "        # For decision tree classifiers, there are some different ways to measure\n",
        "        # the homogeneity of subsets.\n",
        "        if self.criterion == 'maj_sum':\n",
        "            self.criterion_function = majority_sum_scorer\n",
        "        elif self.criterion == 'info_gain':\n",
        "            self.criterion_function = info_gain_scorer\n",
        "        elif self.criterion == 'gini':\n",
        "            self.criterion_function = gini_scorer\n",
        "        else:\n",
        "            raise Exception(f'Unknown criterion: {self.criterion}')\n",
        "        super().fit(X, Y)\n",
        "        self.classes_ = sorted(set(Y))\n",
        "\n",
        "    # Select a default value that is going to be used if we decide to make a leaf.\n",
        "    # We will select the most common value.\n",
        "    def get_default_value(self, Y):\n",
        "        self.class_distribution = Counter(Y)\n",
        "        return self.class_distribution.most_common(1)[0][0]\n",
        "    \n",
        "    # Checks whether a set of output values is homogeneous. In the classification case, \n",
        "    # this means that all output values are identical.\n",
        "    # We assume that we called get_default_value just before, so that we can access\n",
        "    # the class_distribution attribute. If the class distribution contains just one item,\n",
        "    # this means that the set is homogeneous.\n",
        "    def is_homogeneous(self, Y):\n",
        "        return len(self.class_distribution) == 1\n",
        "        \n",
        "    # Finds the best splitting point for a given feature. We'll keep frequency tables (Counters)\n",
        "    # for the upper and lower parts, and then compute the impurity criterion using these tables.\n",
        "    # In the end, we return a triple consisting of\n",
        "    # - the best score we found, according to the criterion we're using\n",
        "    # - the id of the feature\n",
        "    # - the threshold for the best split\n",
        "    def best_split(self, X, Y, feature):\n",
        "\n",
        "        # Create a list of input-output pairs, where we have sorted\n",
        "        # in ascending order by the input feature we're considering.\n",
        "        sorted_indices = np.argsort(X[:, feature])        \n",
        "        X_sorted = list(X[sorted_indices, feature])\n",
        "        Y_sorted = list(Y[sorted_indices])\n",
        "\n",
        "        n = len(Y)\n",
        "\n",
        "        # The frequency tables corresponding to the parts *before and including*\n",
        "        # and *after* the current element.\n",
        "        low_distr = Counter()\n",
        "        high_distr = Counter(Y)\n",
        "\n",
        "        # Keep track of the best result we've seen so far.\n",
        "        max_score = -np.inf\n",
        "        max_i = None\n",
        "\n",
        "        # Go through all the positions (excluding the last position).\n",
        "        for i in range(0, n-1):\n",
        "\n",
        "            # Input and output at the current position.\n",
        "            x_i = X_sorted[i]\n",
        "            y_i = Y_sorted[i]\n",
        "            \n",
        "            # Update the frequency tables.\n",
        "            low_distr[y_i] += 1\n",
        "            high_distr[y_i] -= 1\n",
        "\n",
        "            # If the input is equal to the input at the next position, we will\n",
        "            # not consider a split here.\n",
        "            #x_next = XY[i+1][0]\n",
        "            x_next = X_sorted[i+1]\n",
        "            if x_i == x_next:\n",
        "                continue\n",
        "\n",
        "            # Compute the homogeneity criterion for a split at this position.\n",
        "            score = self.criterion_function(i+1, low_distr, n-i-1, high_distr)\n",
        "\n",
        "            # If this is the best split, remember it.\n",
        "            if score > max_score:\n",
        "                max_score = score\n",
        "                max_i = i\n",
        "\n",
        "        # If we didn't find any split (meaning that all inputs are identical), return\n",
        "        # a dummy value.\n",
        "        if max_i is None:\n",
        "            return -np.inf, None, None\n",
        "\n",
        "        # Otherwise, return the best split we found and its score.\n",
        "        split_point = 0.5*(X_sorted[max_i] + X_sorted[max_i+1])\n",
        "        return max_score, feature, split_point\n"
      ]
    },
    {
      "cell_type": "code",
      "execution_count": null,
      "id": "9349e229",
      "metadata": {
        "id": "9349e229"
      },
      "outputs": [],
      "source": [
        "def majority_sum_scorer(n_low, low_distr, n_high, high_distr):\n",
        "    maj_sum_low = low_distr.most_common(1)[0][1]\n",
        "    maj_sum_high = high_distr.most_common(1)[0][1]\n",
        "    return maj_sum_low + maj_sum_high\n",
        "    \n",
        "def entropy(distr):\n",
        "    n = sum(distr.values())\n",
        "    ps = [n_i/n for n_i in distr.values()]\n",
        "    return -sum(p*np.log2(p) if p > 0 else 0 for p in ps)\n",
        "\n",
        "def info_gain_scorer(n_low, low_distr, n_high, high_distr):\n",
        "    return -(n_low*entropy(low_distr)+n_high*entropy(high_distr))/(n_low+n_high)\n",
        "\n",
        "def gini_impurity(distr):\n",
        "    n = sum(distr.values())\n",
        "    ps = [n_i/n for n_i in distr.values()]\n",
        "    return 1-sum(p**2 for p in ps)\n",
        "    \n",
        "def gini_scorer(n_low, low_distr, n_high, high_distr):\n",
        "    return -(n_low*gini_impurity(low_distr)+n_high*gini_impurity(high_distr))/(n_low+n_high)"
      ]
    },
    {
      "cell_type": "markdown",
      "id": "18dfcd1f",
      "metadata": {
        "id": "18dfcd1f"
      },
      "source": [
        "### tree visualization with small max_depth"
      ]
    },
    {
      "cell_type": "code",
      "execution_count": null,
      "id": "6ef62f5f",
      "metadata": {
        "colab": {
          "base_uri": "https://localhost:8080/",
          "height": 312
        },
        "id": "6ef62f5f",
        "outputId": "89f9d5ef-e2d0-45b0-f222-cab155e9ab5f",
        "scrolled": true
      },
      "outputs": [
        {
          "output_type": "execute_result",
          "data": {
            "text/plain": [
              "<graphviz.dot.Digraph at 0x7f3194488290>"
            ],
            "image/svg+xml": "<?xml version=\"1.0\" encoding=\"UTF-8\" standalone=\"no\"?>\n<!DOCTYPE svg PUBLIC \"-//W3C//DTD SVG 1.1//EN\"\n \"http://www.w3.org/Graphics/SVG/1.1/DTD/svg11.dtd\">\n<!-- Generated by graphviz version 2.40.1 (20161225.0304)\n -->\n<!-- Title: %3 Pages: 1 -->\n<svg width=\"413pt\" height=\"218pt\"\n viewBox=\"0.00 0.00 412.74 218.00\" xmlns=\"http://www.w3.org/2000/svg\" xmlns:xlink=\"http://www.w3.org/1999/xlink\">\n<g id=\"graph0\" class=\"graph\" transform=\"scale(1 1) rotate(0) translate(4 214)\">\n<title>%3</title>\n<polygon fill=\"#ffffff\" stroke=\"transparent\" points=\"-4,4 -4,-214 408.7434,-214 408.7434,4 -4,4\"/>\n<!-- 0 -->\n<g id=\"node1\" class=\"node\">\n<title>0</title>\n<ellipse fill=\"#d3d3d3\" stroke=\"#000000\" cx=\"37.6967\" cy=\"-18\" rx=\"37.8943\" ry=\"18\"/>\n<text text-anchor=\"middle\" x=\"37.6967\" y=\"-14.3\" font-family=\"Times,serif\" font-size=\"14.00\" fill=\"#000000\">suspect</text>\n</g>\n<!-- 1 -->\n<g id=\"node2\" class=\"node\">\n<title>1</title>\n<ellipse fill=\"#d3d3d3\" stroke=\"#000000\" cx=\"143.6967\" cy=\"-18\" rx=\"50.0912\" ry=\"18\"/>\n<text text-anchor=\"middle\" x=\"143.6967\" y=\"-14.3\" font-family=\"Times,serif\" font-size=\"14.00\" fill=\"#000000\">pathologic</text>\n</g>\n<!-- 2 -->\n<g id=\"node3\" class=\"node\">\n<title>2</title>\n<path fill=\"#ffff00\" stroke=\"#000000\" d=\"M181.6967,-123C181.6967,-123 103.6967,-123 103.6967,-123 97.6967,-123 91.6967,-117 91.6967,-111 91.6967,-111 91.6967,-99 91.6967,-99 91.6967,-93 97.6967,-87 103.6967,-87 103.6967,-87 181.6967,-87 181.6967,-87 187.6967,-87 193.6967,-93 193.6967,-99 193.6967,-99 193.6967,-111 193.6967,-111 193.6967,-117 187.6967,-123 181.6967,-123\"/>\n<text text-anchor=\"middle\" x=\"142.6967\" y=\"-101.3\" font-family=\"Times,serif\" font-size=\"14.00\" fill=\"#000000\">ALTV &gt; 68.5?</text>\n</g>\n<!-- 2&#45;&gt;0 -->\n<g id=\"edge1\" class=\"edge\">\n<title>2&#45;&gt;0</title>\n<path fill=\"none\" stroke=\"#000000\" d=\"M120.9406,-86.9735C104.6282,-73.4576 82.2017,-54.8756 64.7359,-40.4039\"/>\n<polygon fill=\"#000000\" stroke=\"#000000\" points=\"66.5421,-37.3552 56.6088,-33.6701 62.076,-42.7454 66.5421,-37.3552\"/>\n<text text-anchor=\"middle\" x=\"111.6967\" y=\"-57.8\" font-family=\"Times,serif\" font-size=\"14.00\" fill=\"#000000\">False</text>\n</g>\n<!-- 2&#45;&gt;1 -->\n<g id=\"edge2\" class=\"edge\">\n<title>2&#45;&gt;1</title>\n<path fill=\"none\" stroke=\"#000000\" d=\"M142.9039,-86.9735C143.0393,-75.1918 143.2189,-59.5607 143.373,-46.1581\"/>\n<polygon fill=\"#000000\" stroke=\"#000000\" points=\"146.8745,-46.043 143.4897,-36.0034 139.8749,-45.9624 146.8745,-46.043\"/>\n<text text-anchor=\"middle\" x=\"157.1967\" y=\"-57.8\" font-family=\"Times,serif\" font-size=\"14.00\" fill=\"#000000\">True</text>\n</g>\n<!-- 3 -->\n<g id=\"node4\" class=\"node\">\n<title>3</title>\n<ellipse fill=\"#d3d3d3\" stroke=\"#000000\" cx=\"262.6967\" cy=\"-18\" rx=\"50.0912\" ry=\"18\"/>\n<text text-anchor=\"middle\" x=\"262.6967\" y=\"-14.3\" font-family=\"Times,serif\" font-size=\"14.00\" fill=\"#000000\">pathologic</text>\n</g>\n<!-- 4 -->\n<g id=\"node5\" class=\"node\">\n<title>4</title>\n<ellipse fill=\"#d3d3d3\" stroke=\"#000000\" cx=\"367.6967\" cy=\"-18\" rx=\"37.0935\" ry=\"18\"/>\n<text text-anchor=\"middle\" x=\"367.6967\" y=\"-14.3\" font-family=\"Times,serif\" font-size=\"14.00\" fill=\"#000000\">normal</text>\n</g>\n<!-- 5 -->\n<g id=\"node6\" class=\"node\">\n<title>5</title>\n<path fill=\"#ffff00\" stroke=\"#000000\" d=\"M303.6967,-123C303.6967,-123 223.6967,-123 223.6967,-123 217.6967,-123 211.6967,-117 211.6967,-111 211.6967,-111 211.6967,-99 211.6967,-99 211.6967,-93 217.6967,-87 223.6967,-87 223.6967,-87 303.6967,-87 303.6967,-87 309.6967,-87 315.6967,-93 315.6967,-99 315.6967,-99 315.6967,-111 315.6967,-111 315.6967,-117 309.6967,-123 303.6967,-123\"/>\n<text text-anchor=\"middle\" x=\"263.6967\" y=\"-101.3\" font-family=\"Times,serif\" font-size=\"14.00\" fill=\"#000000\">Mean &gt; 107.5?</text>\n</g>\n<!-- 5&#45;&gt;3 -->\n<g id=\"edge3\" class=\"edge\">\n<title>5&#45;&gt;3</title>\n<path fill=\"none\" stroke=\"#000000\" d=\"M263.4895,-86.9735C263.354,-75.1918 263.1744,-59.5607 263.0203,-46.1581\"/>\n<polygon fill=\"#000000\" stroke=\"#000000\" points=\"266.5184,-45.9624 262.9036,-36.0034 259.5189,-46.043 266.5184,-45.9624\"/>\n<text text-anchor=\"middle\" x=\"278.6967\" y=\"-57.8\" font-family=\"Times,serif\" font-size=\"14.00\" fill=\"#000000\">False</text>\n</g>\n<!-- 5&#45;&gt;4 -->\n<g id=\"edge4\" class=\"edge\">\n<title>5&#45;&gt;4</title>\n<path fill=\"none\" stroke=\"#000000\" d=\"M285.2455,-86.9735C301.4026,-73.4576 323.6155,-54.8756 340.9149,-40.4039\"/>\n<polygon fill=\"#000000\" stroke=\"#000000\" points=\"343.5402,-42.771 348.9646,-33.6701 339.0488,-37.4019 343.5402,-42.771\"/>\n<text text-anchor=\"middle\" x=\"335.1967\" y=\"-57.8\" font-family=\"Times,serif\" font-size=\"14.00\" fill=\"#000000\">True</text>\n</g>\n<!-- 6 -->\n<g id=\"node7\" class=\"node\">\n<title>6</title>\n<path fill=\"#ffff00\" stroke=\"#000000\" d=\"M243.1967,-210C243.1967,-210 162.1967,-210 162.1967,-210 156.1967,-210 150.1967,-204 150.1967,-198 150.1967,-198 150.1967,-186 150.1967,-186 150.1967,-180 156.1967,-174 162.1967,-174 162.1967,-174 243.1967,-174 243.1967,-174 249.1967,-174 255.1967,-180 255.1967,-186 255.1967,-186 255.1967,-198 255.1967,-198 255.1967,-204 249.1967,-210 243.1967,-210\"/>\n<text text-anchor=\"middle\" x=\"202.6967\" y=\"-188.3\" font-family=\"Times,serif\" font-size=\"14.00\" fill=\"#000000\">MSTV &gt; 0.45?</text>\n</g>\n<!-- 6&#45;&gt;2 -->\n<g id=\"edge5\" class=\"edge\">\n<title>6&#45;&gt;2</title>\n<path fill=\"none\" stroke=\"#000000\" d=\"M190.2646,-173.9735C181.8175,-161.7252 170.5011,-145.3165 161.0253,-131.5766\"/>\n<polygon fill=\"#000000\" stroke=\"#000000\" points=\"163.6714,-129.2484 155.1128,-123.0034 157.9089,-133.2226 163.6714,-129.2484\"/>\n<text text-anchor=\"middle\" x=\"191.6967\" y=\"-144.8\" font-family=\"Times,serif\" font-size=\"14.00\" fill=\"#000000\">False</text>\n</g>\n<!-- 6&#45;&gt;5 -->\n<g id=\"edge6\" class=\"edge\">\n<title>6&#45;&gt;5</title>\n<path fill=\"none\" stroke=\"#000000\" d=\"M215.3359,-173.9735C223.9238,-161.7252 235.4288,-145.3165 245.0625,-131.5766\"/>\n<polygon fill=\"#000000\" stroke=\"#000000\" points=\"248.1984,-133.2006 251.0736,-123.0034 242.4669,-129.1819 248.1984,-133.2006\"/>\n<text text-anchor=\"middle\" x=\"251.1967\" y=\"-144.8\" font-family=\"Times,serif\" font-size=\"14.00\" fill=\"#000000\">True</text>\n</g>\n</g>\n</svg>\n"
          },
          "metadata": {},
          "execution_count": 68
        }
      ],
      "source": [
        "cls = TreeClassifier(max_depth=2)\n",
        "cls.fit(Xtrain, Ytrain)\n",
        "cls.draw_tree()"
      ]
    },
    {
      "cell_type": "code",
      "execution_count": null,
      "id": "4db4a3e7",
      "metadata": {
        "colab": {
          "base_uri": "https://localhost:8080/"
        },
        "id": "4db4a3e7",
        "outputId": "efe40466-362f-487f-afa5-9e7c393f1f16"
      },
      "outputs": [
        {
          "output_type": "stream",
          "name": "stdout",
          "text": [
            "0.8685446009389671\n"
          ]
        }
      ],
      "source": [
        "Yguess= cls.predict(Xtest)\n",
        "print(accuracy_score(Ytest,Yguess))"
      ]
    },
    {
      "cell_type": "markdown",
      "id": "2913941d",
      "metadata": {
        "id": "2913941d"
      },
      "source": [
        "In the tree above, we can see that a small max_depth as 2, resulted in a pretty good testing accuracy of 87% eve though it was intended for tree drawing illustration"
      ]
    },
    {
      "cell_type": "markdown",
      "id": "398a9208",
      "metadata": {
        "id": "398a9208"
      },
      "source": [
        "# TreeClassifier model max_depth hyperparameter tuning"
      ]
    },
    {
      "cell_type": "markdown",
      "id": "1265836d",
      "metadata": {
        "id": "1265836d",
        "scrolled": true
      },
      "source": [
        "### Tuning using the method using above (max_depth plot vs acuracy)"
      ]
    },
    {
      "cell_type": "code",
      "execution_count": null,
      "id": "ef3eeab8",
      "metadata": {
        "colab": {
          "base_uri": "https://localhost:8080/",
          "height": 279
        },
        "id": "ef3eeab8",
        "outputId": "d342a75b-5340-4ff8-cdf5-be52c0c59f12",
        "scrolled": true
      },
      "outputs": [
        {
          "output_type": "display_data",
          "data": {
            "text/plain": [
              "<Figure size 432x288 with 1 Axes>"
            ],
            "image/png": "[encoded data removed]"
          },
          "metadata": {
            "needs_background": "light"
          }
        }
      ],
      "source": [
        "max_depths = np.linspace(1, 100, 100, endpoint=True)\n",
        "\n",
        "test_results = []\n",
        "for max_depth in max_depths:\n",
        "    dt = TreeClassifier(max_depth=max_depth)\n",
        "    dt.fit(Xtrain, Ytrain)\n",
        "    Ypred = dt.predict(Xtest)\n",
        "    accuracyTemp = accuracy_score(Ytest, Ypred)\n",
        "\n",
        "    test_results.append(accuracyTemp)\n",
        "line= plt.plot(max_depths, test_results, label='Test accuracy')\n",
        "\n",
        "plt.ylabel('Accuracy')\n",
        "plt.xlabel('Tree depth')\n",
        "plt.show()"
      ]
    },
    {
      "cell_type": "markdown",
      "id": "7e7a0680",
      "metadata": {
        "id": "7e7a0680"
      },
      "source": [
        "by searching the space of [1,100] max_depth we found that max_depth = 7 maximizes the accuracy of the TreeClassifier when the only used parameter is max_depth"
      ]
    },
    {
      "cell_type": "markdown",
      "id": "4e687acc",
      "metadata": {
        "id": "4e687acc"
      },
      "source": [
        "### Tuning using sklearn gridsearch"
      ]
    },
    {
      "cell_type": "code",
      "execution_count": null,
      "id": "ec83ab11",
      "metadata": {
        "colab": {
          "base_uri": "https://localhost:8080/"
        },
        "id": "ec83ab11",
        "outputId": "a0629ed2-9297-4561-ccc8-0f6f6a217a21"
      },
      "outputs": [
        {
          "output_type": "execute_result",
          "data": {
            "text/plain": [
              "GridSearchCV(cv=5, estimator=TreeClassifier(), n_jobs=-1,\n",
              "             param_grid={'criterion': ['gini', 'maj_sum', 'info_gain'],\n",
              "                         'max_depth': [3, 5, 7, 10, 40, 70, 100]})"
            ]
          },
          "metadata": {},
          "execution_count": 71
        }
      ],
      "source": [
        "dTgridTuned = TreeClassifier()\n",
        "parameter_space = {'max_depth': [3,5,7,10,40,70,100],\n",
        "                'criterion': ['gini','maj_sum','info_gain']}\n",
        "DtTuned = GridSearchCV(dTgridTuned, parameter_space, n_jobs=-1, cv=5)\n",
        "DtTuned.fit(Xtrain, Ytrain) # X is train samples and y is the corresponding labels"
      ]
    },
    {
      "cell_type": "code",
      "execution_count": null,
      "id": "0b1f0700",
      "metadata": {
        "colab": {
          "base_uri": "https://localhost:8080/"
        },
        "id": "0b1f0700",
        "outputId": "fe2de093-59a2-4077-ac60-ad472953d2f0"
      },
      "outputs": [
        {
          "output_type": "execute_result",
          "data": {
            "text/plain": [
              "{'criterion': 'gini', 'max_depth': 7}"
            ]
          },
          "metadata": {},
          "execution_count": 72
        }
      ],
      "source": [
        "DtTuned.best_params_"
      ]
    },
    {
      "cell_type": "code",
      "execution_count": null,
      "id": "6706be18",
      "metadata": {
        "colab": {
          "base_uri": "https://localhost:8080/"
        },
        "id": "6706be18",
        "outputId": "71bc7eda-ffb4-4026-c637-95e3e4231bc2",
        "scrolled": true
      },
      "outputs": [
        {
          "output_type": "execute_result",
          "data": {
            "text/plain": [
              "0.934705882352941"
            ]
          },
          "metadata": {},
          "execution_count": 73
        }
      ],
      "source": [
        "DTFinal = TreeClassifier(max_depth=7,criterion='gini')\n",
        "cross_val_score(DTFinal, Xtrain, Ytrain).mean()"
      ]
    },
    {
      "cell_type": "markdown",
      "id": "0e6efcb3",
      "metadata": {
        "id": "0e6efcb3"
      },
      "source": [
        "by tuning the model TreeClassifier with a range of different values for max_depth and different types of splitting criterion, we found that the parameters that maximizes the classifier's accuracy are max_depth=7 and criterion = gini impurity which gives us a cross validation accuracy of 93.5% "
      ]
    },
    {
      "cell_type": "markdown",
      "id": "e1de40c8",
      "metadata": {
        "id": "e1de40c8"
      },
      "source": [
        "## TreeClassifier evaluation on the test set"
      ]
    },
    {
      "cell_type": "code",
      "execution_count": null,
      "id": "3815f241",
      "metadata": {
        "colab": {
          "base_uri": "https://localhost:8080/"
        },
        "id": "3815f241",
        "outputId": "a5181646-fd42-47e2-897f-809d68fa562a"
      },
      "outputs": [
        {
          "output_type": "stream",
          "name": "stdout",
          "text": [
            "The testing accuracy of the TreeClassifier model is:  0.913\n"
          ]
        }
      ],
      "source": [
        "DTFinal = TreeClassifier(max_depth=7,criterion='gini')\n",
        "DTFinal.fit(Xtrain, Ytrain)\n",
        "Yguess = DTFinal.predict(Xtest)\n",
        "print('The testing accuracy of the TreeClassifier model is: ',round(accuracy_score(Ytest, Yguess),3))"
      ]
    },
    {
      "cell_type": "markdown",
      "id": "1b81f82c",
      "metadata": {
        "id": "1b81f82c"
      },
      "source": [
        "By testing the classifier, we got a testing accuracy of 91% by using the hyperparameter <b>max_depth = 7</b> and <b>criterion = 'gini'</b>"
      ]
    },
    {
      "cell_type": "markdown",
      "id": "5f78b2a7",
      "metadata": {
        "id": "5f78b2a7"
      },
      "source": [
        "-----------------------------------------------"
      ]
    },
    {
      "cell_type": "markdown",
      "id": "592d1543",
      "metadata": {
        "id": "592d1543"
      },
      "source": [
        "# Regressors applications in ML"
      ]
    },
    {
      "cell_type": "code",
      "execution_count": 3,
      "id": "9f53fc9a",
      "metadata": {
        "colab": {
          "base_uri": "https://localhost:8080/",
          "height": 386
        },
        "id": "9f53fc9a",
        "outputId": "e20d9850-315d-4833-e803-0301535e1f01"
      },
      "outputs": [
        {
          "output_type": "execute_result",
          "data": {
            "text/plain": [
              "   id   timestamp  full_sq  life_sq  floor  max_floor  material  build_year  \\\n",
              "0   1  2011-08-20       43     27.0    4.0        NaN       NaN         NaN   \n",
              "1   2  2011-08-23       34     19.0    3.0        NaN       NaN         NaN   \n",
              "2   3  2011-08-27       43     29.0    2.0        NaN       NaN         NaN   \n",
              "3   4  2011-09-01       89     50.0    9.0        NaN       NaN         NaN   \n",
              "4   5  2011-09-05       77     77.0    4.0        NaN       NaN         NaN   \n",
              "\n",
              "   num_room  kitch_sq  ...  cafe_count_5000_price_2500  \\\n",
              "0       NaN       NaN  ...                           9   \n",
              "1       NaN       NaN  ...                          15   \n",
              "2       NaN       NaN  ...                          10   \n",
              "3       NaN       NaN  ...                          11   \n",
              "4       NaN       NaN  ...                         319   \n",
              "\n",
              "  cafe_count_5000_price_4000 cafe_count_5000_price_high  \\\n",
              "0                          4                          0   \n",
              "1                          3                          0   \n",
              "2                          3                          0   \n",
              "3                          2                          1   \n",
              "4                        108                         17   \n",
              "\n",
              "   big_church_count_5000  church_count_5000  mosque_count_5000  \\\n",
              "0                     13                 22                  1   \n",
              "1                     15                 29                  1   \n",
              "2                     11                 27                  0   \n",
              "3                      4                  4                  0   \n",
              "4                    135                236                  2   \n",
              "\n",
              "   leisure_count_5000  sport_count_5000  market_count_5000  price_doc  \n",
              "0                   0                52                  4    5850000  \n",
              "1                  10                66                 14    6000000  \n",
              "2                   4                67                 10    5700000  \n",
              "3                   0                26                  3   13100000  \n",
              "4                  91               195                 14   16331452  \n",
              "\n",
              "[5 rows x 292 columns]"
            ],
            "text/html": [
              "\n",
              "  <div id=\"df-a4b4293f-e207-42e4-9ba9-47674985c789\">\n",
              "    <div class=\"colab-df-container\">\n",
              "      <div>\n",
              "<style scoped>\n",
              "    .dataframe tbody tr th:only-of-type {\n",
              "        vertical-align: middle;\n",
              "    }\n",
              "\n",
              "    .dataframe tbody tr th {\n",
              "        vertical-align: top;\n",
              "    }\n",
              "\n",
              "    .dataframe thead th {\n",
              "        text-align: right;\n",
              "    }\n",
              "</style>\n",
              "<table border=\"1\" class=\"dataframe\">\n",
              "  <thead>\n",
              "    <tr style=\"text-align: right;\">\n",
              "      <th></th>\n",
              "      <th>id</th>\n",
              "      <th>timestamp</th>\n",
              "      <th>full_sq</th>\n",
              "      <th>life_sq</th>\n",
              "      <th>floor</th>\n",
              "      <th>max_floor</th>\n",
              "      <th>material</th>\n",
              "      <th>build_year</th>\n",
              "      <th>num_room</th>\n",
              "      <th>kitch_sq</th>\n",
              "      <th>...</th>\n",
              "      <th>cafe_count_5000_price_2500</th>\n",
              "      <th>cafe_count_5000_price_4000</th>\n",
              "      <th>cafe_count_5000_price_high</th>\n",
              "      <th>big_church_count_5000</th>\n",
              "      <th>church_count_5000</th>\n",
              "      <th>mosque_count_5000</th>\n",
              "      <th>leisure_count_5000</th>\n",
              "      <th>sport_count_5000</th>\n",
              "      <th>market_count_5000</th>\n",
              "      <th>price_doc</th>\n",
              "    </tr>\n",
              "  </thead>\n",
              "  <tbody>\n",
              "    <tr>\n",
              "      <th>0</th>\n",
              "      <td>1</td>\n",
              "      <td>2011-08-20</td>\n",
              "      <td>43</td>\n",
              "      <td>27.0</td>\n",
              "      <td>4.0</td>\n",
              "      <td>NaN</td>\n",
              "      <td>NaN</td>\n",
              "      <td>NaN</td>\n",
              "      <td>NaN</td>\n",
              "      <td>NaN</td>\n",
              "      <td>...</td>\n",
              "      <td>9</td>\n",
              "      <td>4</td>\n",
              "      <td>0</td>\n",
              "      <td>13</td>\n",
              "      <td>22</td>\n",
              "      <td>1</td>\n",
              "      <td>0</td>\n",
              "      <td>52</td>\n",
              "      <td>4</td>\n",
              "      <td>5850000</td>\n",
              "    </tr>\n",
              "    <tr>\n",
              "      <th>1</th>\n",
              "      <td>2</td>\n",
              "      <td>2011-08-23</td>\n",
              "      <td>34</td>\n",
              "      <td>19.0</td>\n",
              "      <td>3.0</td>\n",
              "      <td>NaN</td>\n",
              "      <td>NaN</td>\n",
              "      <td>NaN</td>\n",
              "      <td>NaN</td>\n",
              "      <td>NaN</td>\n",
              "      <td>...</td>\n",
              "      <td>15</td>\n",
              "      <td>3</td>\n",
              "      <td>0</td>\n",
              "      <td>15</td>\n",
              "      <td>29</td>\n",
              "      <td>1</td>\n",
              "      <td>10</td>\n",
              "      <td>66</td>\n",
              "      <td>14</td>\n",
              "      <td>6000000</td>\n",
              "    </tr>\n",
              "    <tr>\n",
              "      <th>2</th>\n",
              "      <td>3</td>\n",
              "      <td>2011-08-27</td>\n",
              "      <td>43</td>\n",
              "      <td>29.0</td>\n",
              "      <td>2.0</td>\n",
              "      <td>NaN</td>\n",
              "      <td>NaN</td>\n",
              "      <td>NaN</td>\n",
              "      <td>NaN</td>\n",
              "      <td>NaN</td>\n",
              "      <td>...</td>\n",
              "      <td>10</td>\n",
              "      <td>3</td>\n",
              "      <td>0</td>\n",
              "      <td>11</td>\n",
              "      <td>27</td>\n",
              "      <td>0</td>\n",
              "      <td>4</td>\n",
              "      <td>67</td>\n",
              "      <td>10</td>\n",
              "      <td>5700000</td>\n",
              "    </tr>\n",
              "    <tr>\n",
              "      <th>3</th>\n",
              "      <td>4</td>\n",
              "      <td>2011-09-01</td>\n",
              "      <td>89</td>\n",
              "      <td>50.0</td>\n",
              "      <td>9.0</td>\n",
              "      <td>NaN</td>\n",
              "      <td>NaN</td>\n",
              "      <td>NaN</td>\n",
              "      <td>NaN</td>\n",
              "      <td>NaN</td>\n",
              "      <td>...</td>\n",
              "      <td>11</td>\n",
              "      <td>2</td>\n",
              "      <td>1</td>\n",
              "      <td>4</td>\n",
              "      <td>4</td>\n",
              "      <td>0</td>\n",
              "      <td>0</td>\n",
              "      <td>26</td>\n",
              "      <td>3</td>\n",
              "      <td>13100000</td>\n",
              "    </tr>\n",
              "    <tr>\n",
              "      <th>4</th>\n",
              "      <td>5</td>\n",
              "      <td>2011-09-05</td>\n",
              "      <td>77</td>\n",
              "      <td>77.0</td>\n",
              "      <td>4.0</td>\n",
              "      <td>NaN</td>\n",
              "      <td>NaN</td>\n",
              "      <td>NaN</td>\n",
              "      <td>NaN</td>\n",
              "      <td>NaN</td>\n",
              "      <td>...</td>\n",
              "      <td>319</td>\n",
              "      <td>108</td>\n",
              "      <td>17</td>\n",
              "      <td>135</td>\n",
              "      <td>236</td>\n",
              "      <td>2</td>\n",
              "      <td>91</td>\n",
              "      <td>195</td>\n",
              "      <td>14</td>\n",
              "      <td>16331452</td>\n",
              "    </tr>\n",
              "  </tbody>\n",
              "</table>\n",
              "<p>5 rows × 292 columns</p>\n",
              "</div>\n",
              "      <button class=\"colab-df-convert\" onclick=\"convertToInteractive('df-a4b4293f-e207-42e4-9ba9-47674985c789')\"\n",
              "              title=\"Convert this dataframe to an interactive table.\"\n",
              "              style=\"display:none;\">\n",
              "        \n",
              "  <svg xmlns=\"http://www.w3.org/2000/svg\" height=\"24px\"viewBox=\"0 0 24 24\"\n",
              "       width=\"24px\">\n",
              "    <path d=\"M0 0h24v24H0V0z\" fill=\"none\"/>\n",
              "    <path d=\"M18.56 5.44l.94 2.06.94-2.06 2.06-.94-2.06-.94-.94-2.06-.94 2.06-2.06.94zm-11 1L8.5 8.5l.94-2.06 2.06-.94-2.06-.94L8.5 2.5l-.94 2.06-2.06.94zm10 10l.94 2.06.94-2.06 2.06-.94-2.06-.94-.94-2.06-.94 2.06-2.06.94z\"/><path d=\"M17.41 7.96l-1.37-1.37c-.4-.4-.92-.59-1.43-.59-.52 0-1.04.2-1.43.59L10.3 9.45l-7.72 7.72c-.78.78-.78 2.05 0 2.83L4 21.41c.39.39.9.59 1.41.59.51 0 1.02-.2 1.41-.59l7.78-7.78 2.81-2.81c.8-.78.8-2.07 0-2.86zM5.41 20L4 18.59l7.72-7.72 1.47 1.35L5.41 20z\"/>\n",
              "  </svg>\n",
              "      </button>\n",
              "      \n",
              "  <style>\n",
              "    .colab-df-container {\n",
              "      display:flex;\n",
              "      flex-wrap:wrap;\n",
              "      gap: 12px;\n",
              "    }\n",
              "\n",
              "    .colab-df-convert {\n",
              "      background-color: #E8F0FE;\n",
              "      border: none;\n",
              "      border-radius: 50%;\n",
              "      cursor: pointer;\n",
              "      display: none;\n",
              "      fill: #1967D2;\n",
              "      height: 32px;\n",
              "      padding: 0 0 0 0;\n",
              "      width: 32px;\n",
              "    }\n",
              "\n",
              "    .colab-df-convert:hover {\n",
              "      background-color: #E2EBFA;\n",
              "      box-shadow: 0px 1px 2px rgba(60, 64, 67, 0.3), 0px 1px 3px 1px rgba(60, 64, 67, 0.15);\n",
              "      fill: #174EA6;\n",
              "    }\n",
              "\n",
              "    [theme=dark] .colab-df-convert {\n",
              "      background-color: #3B4455;\n",
              "      fill: #D2E3FC;\n",
              "    }\n",
              "\n",
              "    [theme=dark] .colab-df-convert:hover {\n",
              "      background-color: #434B5C;\n",
              "      box-shadow: 0px 1px 3px 1px rgba(0, 0, 0, 0.15);\n",
              "      filter: drop-shadow(0px 1px 2px rgba(0, 0, 0, 0.3));\n",
              "      fill: #FFFFFF;\n",
              "    }\n",
              "  </style>\n",
              "\n",
              "      <script>\n",
              "        const buttonEl =\n",
              "          document.querySelector('#df-a4b4293f-e207-42e4-9ba9-47674985c789 button.colab-df-convert');\n",
              "        buttonEl.style.display =\n",
              "          google.colab.kernel.accessAllowed ? 'block' : 'none';\n",
              "\n",
              "        async function convertToInteractive(key) {\n",
              "          const element = document.querySelector('#df-a4b4293f-e207-42e4-9ba9-47674985c789');\n",
              "          const dataTable =\n",
              "            await google.colab.kernel.invokeFunction('convertToInteractive',\n",
              "                                                     [key], {});\n",
              "          if (!dataTable) return;\n",
              "\n",
              "          const docLinkHtml = 'Like what you see? Visit the ' +\n",
              "            '<a target=\"_blank\" href=https://colab.research.google.com/notebooks/data_table.ipynb>data table notebook</a>'\n",
              "            + ' to learn more about interactive tables.';\n",
              "          element.innerHTML = '';\n",
              "          dataTable['output_type'] = 'display_data';\n",
              "          await google.colab.output.renderOutput(dataTable, element);\n",
              "          const docLink = document.createElement('div');\n",
              "          docLink.innerHTML = docLinkHtml;\n",
              "          element.appendChild(docLink);\n",
              "        }\n",
              "      </script>\n",
              "    </div>\n",
              "  </div>\n",
              "  "
            ]
          },
          "metadata": {},
          "execution_count": 3
        }
      ],
      "source": [
        "# Read the CSV file using Pandas.\n",
        "alldata = pd.read_csv('//content//drive//MyDrive//Data//sberbank.csv')\n",
        "alldata.head()"
      ]
    },
    {
      "cell_type": "code",
      "execution_count": 4,
      "id": "4c74b5dc",
      "metadata": {
        "id": "4c74b5dc",
        "scrolled": true
      },
      "outputs": [],
      "source": [
        "# Convert the timestamp string to an integer representing the year.\n",
        "def get_year(timestamp):\n",
        "    return int(timestamp[:4])\n",
        "alldata['year'] = alldata.timestamp.apply(get_year)\n",
        "\n",
        "# Select the 9 input columns and the output column.\n",
        "selected_columns = ['price_doc', 'year', 'full_sq', 'life_sq', 'floor', 'num_room', 'kitch_sq', 'full_all']\n",
        "alldata = alldata[selected_columns]\n",
        "alldata = alldata.dropna()\n",
        "\n",
        "# Shuffle.\n",
        "alldata_shuffled = alldata.sample(frac=1.0, random_state=0)"
      ]
    },
    {
      "cell_type": "code",
      "execution_count": 5,
      "id": "ac3b9671",
      "metadata": {
        "id": "ac3b9671"
      },
      "outputs": [],
      "source": [
        "# Separate the input and output columns.\n",
        "X = alldata_shuffled.drop('price_doc', axis=1)\n",
        "# For the output, we'll use the log of the sales price.\n",
        "Y = alldata_shuffled['price_doc'].apply(np.log)\n",
        "\n",
        "# Split into training and test sets.\n",
        "Xtrain, Xtest, Ytrain, Ytest = train_test_split(X, Y, test_size=0.2, random_state=0)"
      ]
    },
    {
      "cell_type": "markdown",
      "id": "f56aca9c",
      "metadata": {
        "id": "f56aca9c"
      },
      "source": [
        "# Dummy Regressor"
      ]
    },
    {
      "cell_type": "code",
      "execution_count": null,
      "id": "ff921699",
      "metadata": {
        "colab": {
          "base_uri": "https://localhost:8080/"
        },
        "id": "ff921699",
        "outputId": "6398dd57-4972-44a6-cd8d-ac03eac8661a",
        "scrolled": true
      },
      "outputs": [
        {
          "output_type": "execute_result",
          "data": {
            "text/plain": [
              "0.38925247260237567"
            ]
          },
          "metadata": {},
          "execution_count": 78
        }
      ],
      "source": [
        "m1 = DummyRegressor()\n",
        "cross_validate(m1, Xtrain, Ytrain, scoring='neg_mean_squared_error')['test_score'].mean()*-1"
      ]
    },
    {
      "cell_type": "markdown",
      "id": "86c8d177",
      "metadata": {
        "id": "86c8d177"
      },
      "source": [
        "By cross-validation the dummy classifier on the training data's different fold, we get a mean square error of 0.39 in predicting   the price of an apartment, given numerical information such as the number of rooms, the size of the apartment in square meters, the floor."
      ]
    },
    {
      "cell_type": "markdown",
      "id": "72d29ec1",
      "metadata": {
        "id": "72d29ec1"
      },
      "source": [
        "# Linear models"
      ]
    },
    {
      "cell_type": "markdown",
      "id": "175d6cd9",
      "metadata": {
        "id": "175d6cd9"
      },
      "source": [
        "We firstly start by experimenting the Linear Regression of sklearn on our training data"
      ]
    },
    {
      "cell_type": "markdown",
      "id": "85e11764",
      "metadata": {
        "id": "85e11764"
      },
      "source": [
        "### Linear Regression"
      ]
    },
    {
      "cell_type": "code",
      "execution_count": null,
      "id": "c2cd5f25",
      "metadata": {
        "colab": {
          "base_uri": "https://localhost:8080/"
        },
        "id": "c2cd5f25",
        "outputId": "5cbdc2c2-f7c6-4ace-fe0b-389e00a958e8"
      },
      "outputs": [
        {
          "output_type": "execute_result",
          "data": {
            "text/plain": [
              "0.30139865887671935"
            ]
          },
          "metadata": {},
          "execution_count": 79
        }
      ],
      "source": [
        "ligr = LinearRegression()\n",
        "cross_validate(ligr, Xtrain, Ytrain, scoring='neg_mean_squared_error')['test_score'].mean()*-1"
      ]
    },
    {
      "cell_type": "markdown",
      "id": "2f833623",
      "metadata": {
        "id": "2f833623"
      },
      "source": [
        "By cross-validation the Linear Regression on the training data's different folds, we get an average mean square error of 0.301 between the different folds of the training set"
      ]
    },
    {
      "cell_type": "markdown",
      "id": "4b84368d",
      "metadata": {
        "id": "4b84368d"
      },
      "source": [
        "### Ridge"
      ]
    },
    {
      "cell_type": "code",
      "execution_count": null,
      "id": "232e0364",
      "metadata": {
        "colab": {
          "base_uri": "https://localhost:8080/"
        },
        "id": "232e0364",
        "outputId": "5d7b56ae-3df5-4433-e106-11526e23930c"
      },
      "outputs": [
        {
          "output_type": "execute_result",
          "data": {
            "text/plain": [
              "0.3013978423217977"
            ]
          },
          "metadata": {},
          "execution_count": 80
        }
      ],
      "source": [
        "rid = Ridge()\n",
        "cross_validate(rid, Xtrain, Ytrain, scoring='neg_mean_squared_error')['test_score'].mean()*-1"
      ]
    },
    {
      "cell_type": "markdown",
      "id": "f0e3a1cd",
      "metadata": {
        "id": "f0e3a1cd"
      },
      "source": [
        "As we can see, the Ridge model obtained an average cross-validation mean squared error  of 0.301 between the different folds of the training set, so we proceed by tuning the Ridge model"
      ]
    },
    {
      "cell_type": "markdown",
      "id": "010efb2b",
      "metadata": {
        "id": "010efb2b"
      },
      "source": [
        "### tuning Ridge model"
      ]
    },
    {
      "cell_type": "code",
      "execution_count": null,
      "id": "56b261e2",
      "metadata": {
        "id": "56b261e2"
      },
      "outputs": [],
      "source": [
        "cv = RepeatedKFold(n_splits=10, n_repeats=3, random_state=1)\n",
        "# define grid\n",
        "model = Ridge()\n",
        "grid = dict()\n",
        "grid['alpha'] = arange(0,50000,1000)\n",
        "# define search\n",
        "search = GridSearchCV(model, grid, scoring='neg_mean_squared_error', cv=cv, n_jobs=-1)\n",
        "# perform the search\n",
        "RidgeTuned = search.fit(Xtrain, Ytrain)"
      ]
    },
    {
      "cell_type": "code",
      "execution_count": null,
      "id": "c87c5f18",
      "metadata": {
        "colab": {
          "base_uri": "https://localhost:8080/"
        },
        "id": "c87c5f18",
        "outputId": "fe6fd74f-100c-40f4-c919-4d66280aea6a"
      },
      "outputs": [
        {
          "output_type": "stream",
          "name": "stdout",
          "text": [
            "0.30542683118598124\n",
            "{'alpha': 49000}\n"
          ]
        }
      ],
      "source": [
        "print(RidgeTuned.best_score_*-1)\n",
        "print(RidgeTuned.best_params_)"
      ]
    },
    {
      "cell_type": "markdown",
      "id": "83c647c3",
      "metadata": {
        "id": "83c647c3"
      },
      "source": [
        "By tuning Ridge model with L2 penalty lamda (alpha in the code) of different values in a sequence of values of [0,1000,...,50000], we found that Rigde model with the value lambda (alpha) equal to 49000 had mean squared error of 0.3 "
      ]
    },
    {
      "cell_type": "markdown",
      "id": "f560a776",
      "metadata": {
        "id": "f560a776"
      },
      "source": [
        "### Lasso"
      ]
    },
    {
      "cell_type": "code",
      "execution_count": null,
      "id": "6b365e8d",
      "metadata": {
        "colab": {
          "base_uri": "https://localhost:8080/"
        },
        "id": "6b365e8d",
        "outputId": "496ee302-f62e-48d5-d19d-5ba54bba3c38",
        "scrolled": true
      },
      "outputs": [
        {
          "output_type": "execute_result",
          "data": {
            "text/plain": [
              "0.3010470671748872"
            ]
          },
          "metadata": {},
          "execution_count": 85
        }
      ],
      "source": [
        "lasso = Lasso()\n",
        "cross_validate(lasso, Xtrain, Ytrain, scoring='neg_mean_squared_error')['test_score'].mean()*-1"
      ]
    },
    {
      "cell_type": "markdown",
      "id": "d6cef4c2",
      "metadata": {
        "id": "d6cef4c2"
      },
      "source": [
        "In Lasso model, we also got an average (mean squared error) of 0.301 by cross validation between the different folds of the training set"
      ]
    },
    {
      "cell_type": "markdown",
      "id": "532adde7",
      "metadata": {
        "id": "532adde7"
      },
      "source": [
        "#### Lasso tuning"
      ]
    },
    {
      "cell_type": "code",
      "execution_count": null,
      "id": "8c9a5f99",
      "metadata": {
        "id": "8c9a5f99"
      },
      "outputs": [],
      "source": [
        "cv = RepeatedKFold(n_splits=10, n_repeats=3, random_state=1)\n",
        "lasso_alphas = arange(0, 0.1,10)\n",
        "lasso = Lasso()\n",
        "grid = dict()\n",
        "grid['alpha'] = lasso_alphas\n",
        "\n",
        "search = GridSearchCV(lasso, grid, scoring='neg_mean_squared_error',cv=cv, n_jobs=-1)\n",
        "lassoTuned = search.fit(Xtrain, Ytrain)"
      ]
    },
    {
      "cell_type": "code",
      "execution_count": null,
      "id": "e06e2f01",
      "metadata": {
        "colab": {
          "base_uri": "https://localhost:8080/"
        },
        "id": "e06e2f01",
        "outputId": "74cda898-9c99-4bac-f0f8-66583889e3a5"
      },
      "outputs": [
        {
          "output_type": "stream",
          "name": "stdout",
          "text": [
            "0.3089324957581782\n",
            "{'alpha': 0.0}\n"
          ]
        }
      ],
      "source": [
        "print(lassoTuned.best_score_*-1)\n",
        "print(lassoTuned.best_params_)"
      ]
    },
    {
      "cell_type": "markdown",
      "id": "705ddd77",
      "metadata": {
        "id": "705ddd77"
      },
      "source": [
        "By tuning the model using a gridsearch, the gridsearch found that the best L1 penalty lambda (alpha) = 0 which resulted in a MSE of 0.308"
      ]
    },
    {
      "cell_type": "markdown",
      "id": "9b068f31",
      "metadata": {
        "id": "9b068f31"
      },
      "source": [
        "# Tree regressors"
      ]
    },
    {
      "cell_type": "markdown",
      "id": "b0274109",
      "metadata": {
        "id": "b0274109"
      },
      "source": [
        "### Decision Tree Regressor"
      ]
    },
    {
      "cell_type": "code",
      "execution_count": null,
      "id": "5eda39e5",
      "metadata": {
        "colab": {
          "base_uri": "https://localhost:8080/"
        },
        "id": "5eda39e5",
        "outputId": "dd3f5423-c11e-412e-c473-2c97ba18a092"
      },
      "outputs": [
        {
          "output_type": "execute_result",
          "data": {
            "text/plain": [
              "0.5311698007009944"
            ]
          },
          "metadata": {},
          "execution_count": 88
        }
      ],
      "source": [
        "dtr = DecisionTreeRegressor()\n",
        "cross_validate(dtr, Xtrain, Ytrain, scoring='neg_mean_squared_error')['test_score'].mean()*-1"
      ]
    },
    {
      "cell_type": "markdown",
      "id": "1f612585",
      "metadata": {
        "id": "1f612585"
      },
      "source": [
        "As we can see, the Decision Tree Regressor obtained an average cross-validation mean squared error of 0.522 between the different folds of the training data, so we proceed by tuning the Decision Tree Regressor model"
      ]
    },
    {
      "cell_type": "markdown",
      "id": "f2945283",
      "metadata": {
        "id": "f2945283"
      },
      "source": [
        "### Tuning decision tree regressor"
      ]
    },
    {
      "cell_type": "code",
      "execution_count": null,
      "id": "fcc827ba",
      "metadata": {
        "colab": {
          "base_uri": "https://localhost:8080/"
        },
        "id": "fcc827ba",
        "outputId": "b291e96f-9cc2-4d0f-a9b9-1c904febd686"
      },
      "outputs": [
        {
          "output_type": "execute_result",
          "data": {
            "text/plain": [
              "GridSearchCV(cv=5, estimator=DecisionTreeRegressor(), n_jobs=-1,\n",
              "             param_grid={'criterion': ['squared_error', 'friedman_mse',\n",
              "                                       'absolute_error', 'poisson'],\n",
              "                         'max_depth': [3, 5, 10, 40, 70, 100]})"
            ]
          },
          "metadata": {},
          "execution_count": 89
        }
      ],
      "source": [
        "### Tuning using sklearn gridsearch\n",
        "dTrgridTuned = DecisionTreeRegressor()\n",
        "parameter_space = {'max_depth': [3,5,10,40,70,100],\n",
        "                'criterion': ['squared_error', 'friedman_mse', 'absolute_error', 'poisson']\n",
        "                  }\n",
        "DtTuned = GridSearchCV(dTrgridTuned, parameter_space, n_jobs=-1, cv=5)\n",
        "DtTuned.fit(Xtrain, Ytrain) # X is train samples and y is the corresponding labels"
      ]
    },
    {
      "cell_type": "code",
      "execution_count": null,
      "id": "33c4e7e2",
      "metadata": {
        "colab": {
          "base_uri": "https://localhost:8080/"
        },
        "id": "33c4e7e2",
        "outputId": "a7169f00-dc7e-4f2a-97ff-659a7b800f36"
      },
      "outputs": [
        {
          "output_type": "stream",
          "name": "stdout",
          "text": [
            "{'criterion': 'friedman_mse', 'max_depth': 5}\n",
            "0.27328343498173957\n"
          ]
        }
      ],
      "source": [
        "print(DtTuned.best_params_)\n",
        "print(DtTuned.best_score_)\n"
      ]
    },
    {
      "cell_type": "markdown",
      "id": "85dbc6b5",
      "metadata": {
        "id": "85dbc6b5"
      },
      "source": [
        "By tuning the Decision tree regressor model on the parameters<b> max_depth</b> and <b> criterion</b>, we found that the hyperparameters values that minimizes the model's MSE are <b> max_depth = 5</b> and <b> creterion = 'friedman_mse'</b> which resulted in a MSE value of 0.27 "
      ]
    },
    {
      "cell_type": "markdown",
      "id": "eb30f5a0",
      "metadata": {
        "id": "eb30f5a0"
      },
      "source": [
        "### Random Forest Regressor"
      ]
    },
    {
      "cell_type": "code",
      "execution_count": null,
      "id": "50e9fbaa",
      "metadata": {
        "colab": {
          "base_uri": "https://localhost:8080/"
        },
        "id": "50e9fbaa",
        "outputId": "61ab6ca0-e1e8-4cc4-89be-e6cded189990"
      },
      "outputs": [
        {
          "output_type": "execute_result",
          "data": {
            "text/plain": [
              "0.2659229822429888"
            ]
          },
          "metadata": {},
          "execution_count": 91
        }
      ],
      "source": [
        "regr = RandomForestRegressor(max_depth=10, random_state=0)\n",
        "cross_validate(regr, Xtrain, Ytrain, scoring='neg_mean_squared_error')['test_score'].mean()*-1### Tuning decision tree regressor"
      ]
    },
    {
      "cell_type": "markdown",
      "id": "c256d0b4",
      "metadata": {
        "id": "c256d0b4"
      },
      "source": [
        "In the Random Forest Regressor obtained an average cross-validation mean squared error of 0.266, so we then proceed by tuning the Random Forest Regressor model"
      ]
    },
    {
      "cell_type": "markdown",
      "id": "1dc7d15e",
      "metadata": {
        "id": "1dc7d15e"
      },
      "source": [
        "### Tuning Random Forest regressor"
      ]
    },
    {
      "cell_type": "code",
      "execution_count": null,
      "id": "bc92b463",
      "metadata": {
        "colab": {
          "base_uri": "https://localhost:8080/"
        },
        "id": "bc92b463",
        "outputId": "f99dafd1-d629-46b1-8f95-30b7bbdfa50f"
      },
      "outputs": [
        {
          "output_type": "execute_result",
          "data": {
            "text/plain": [
              "GridSearchCV(cv=5, estimator=RandomForestRegressor(), n_jobs=-1,\n",
              "             param_grid={'max_depth': [5, 10, 70], 'n_estimators': [100, 500]})"
            ]
          },
          "metadata": {},
          "execution_count": 92
        }
      ],
      "source": [
        "# ### Tuning using sklearn gridsearch\n",
        "RfRgridTuned = RandomForestRegressor()\n",
        "parameter_space = {'max_depth': [5,10,70],\n",
        "                  'n_estimators' : [100,500]}\n",
        "RFRTuned = GridSearchCV(RfRgridTuned, parameter_space, n_jobs=-1, cv=5)\n",
        "RFRTuned.fit(Xtrain, Ytrain) # X is train samples and y is the corresponding labels"
      ]
    },
    {
      "cell_type": "code",
      "execution_count": null,
      "id": "0a4b1227",
      "metadata": {
        "colab": {
          "base_uri": "https://localhost:8080/"
        },
        "id": "0a4b1227",
        "outputId": "7bc83174-00c2-415c-c281-66fc67a841e9"
      },
      "outputs": [
        {
          "output_type": "stream",
          "name": "stdout",
          "text": [
            "{'max_depth': 10, 'n_estimators': 500}\n",
            "0.31672038496764093\n"
          ]
        }
      ],
      "source": [
        "print(RFRTuned.best_params_)\n",
        "print(RFRTuned.best_score_)"
      ]
    },
    {
      "cell_type": "markdown",
      "id": "b9263681",
      "metadata": {
        "id": "b9263681"
      },
      "source": [
        "By tuning the Random forest regressor model on the parameters<b> max_depth</b> and <b>n_estimators</b> , we found that the hyperparameters values that minimizes the model's MSE are <b> max_depth = 10</b> and <b> n_estimators = 500</b> which resulted in a MSE value of 0.317 "
      ]
    },
    {
      "cell_type": "markdown",
      "id": "64d6f885",
      "metadata": {
        "id": "64d6f885"
      },
      "source": [
        "### Gradient Boosting Regressor"
      ]
    },
    {
      "cell_type": "code",
      "execution_count": null,
      "id": "c3d41a01",
      "metadata": {
        "colab": {
          "base_uri": "https://localhost:8080/"
        },
        "id": "c3d41a01",
        "outputId": "f7972605-2fc6-48c9-e3b9-edff203da535"
      },
      "outputs": [
        {
          "output_type": "execute_result",
          "data": {
            "text/plain": [
              "0.26452609782146225"
            ]
          },
          "metadata": {},
          "execution_count": 94
        }
      ],
      "source": [
        "gbr = GradientBoostingRegressor()\n",
        "cross_validate(gbr, Xtrain, Ytrain, scoring='neg_mean_squared_error')['test_score'].mean()*-1"
      ]
    },
    {
      "cell_type": "markdown",
      "id": "5683c0d2",
      "metadata": {
        "id": "5683c0d2"
      },
      "source": [
        "The Gradient Boosting Regressor obtained an average cross-validation mean squared error of 0.265, so we then proceed by tuing the Gradient Boosting Regressor model"
      ]
    },
    {
      "cell_type": "markdown",
      "id": "e78ad397",
      "metadata": {
        "id": "e78ad397"
      },
      "source": [
        "### Gradient boosting tuning"
      ]
    },
    {
      "cell_type": "code",
      "execution_count": null,
      "id": "216c1666",
      "metadata": {
        "colab": {
          "base_uri": "https://localhost:8080/"
        },
        "id": "216c1666",
        "outputId": "4f0d1b2a-a873-44eb-d410-29828122a7e5",
        "scrolled": true
      },
      "outputs": [
        {
          "output_type": "execute_result",
          "data": {
            "text/plain": [
              "GridSearchCV(cv=5, estimator=GradientBoostingRegressor(), n_jobs=-1,\n",
              "             param_grid={'alpha': [0.0001, 0.001, 0.01],\n",
              "                         'criterion': ['mse', 'friedman_mse']})"
            ]
          },
          "metadata": {},
          "execution_count": 95
        }
      ],
      "source": [
        "GBRgridTuned = GradientBoostingRegressor()\n",
        "parameter_space = {\n",
        "    # 'loss' : ['squared_error', 'absolute_error', 'huber', 'quantile'],\n",
        "    # 'n_estimators' : [ 2, 4, 8, 16, 32, 64, 100, 200,500]\n",
        "                'criterion': ['mse','friedman_mse'], #'mae','squared_error',  \n",
        "                  'alpha': [0.0001,0.001,0.01 ]}\n",
        "GBRTuned = GridSearchCV(GBRgridTuned, parameter_space, n_jobs=-1, cv=5)\n",
        "GBRTuned.fit(Xtrain, Ytrain) # X is train samples and y is the corresponding labels"
      ]
    },
    {
      "cell_type": "code",
      "execution_count": null,
      "id": "f5fb4521",
      "metadata": {
        "colab": {
          "base_uri": "https://localhost:8080/"
        },
        "id": "f5fb4521",
        "outputId": "4c5c0c0a-971d-4026-b6aa-d18f4e41648d"
      },
      "outputs": [
        {
          "output_type": "stream",
          "name": "stdout",
          "text": [
            "{'alpha': 0.01, 'criterion': 'mse'}\n",
            "0.31982142169500416\n"
          ]
        }
      ],
      "source": [
        "print(GBRTuned.best_params_)\n",
        "print(GBRTuned.best_score_)"
      ]
    },
    {
      "cell_type": "markdown",
      "id": "470309ba",
      "metadata": {
        "id": "470309ba"
      },
      "source": [
        "By tuning the Gradient boosting on the parameters alpha and criterion, we found that the hyperparameters values that minimizes the model's MSE are \n",
        "<b>creterion = 'friedman_mse'</b> and <b>alpha = 0.001 </b>and which resulted in a MSE value of <b>0.32</b>"
      ]
    },
    {
      "cell_type": "markdown",
      "id": "8c31e588",
      "metadata": {
        "id": "8c31e588"
      },
      "source": [
        "### MLP Regressor"
      ]
    },
    {
      "cell_type": "code",
      "execution_count": null,
      "id": "6454a030",
      "metadata": {
        "colab": {
          "base_uri": "https://localhost:8080/"
        },
        "id": "6454a030",
        "outputId": "da3a3e5b-4120-4b2a-eb49-13fef309ed1b",
        "scrolled": true
      },
      "outputs": [
        {
          "output_type": "execute_result",
          "data": {
            "text/plain": [
              "280045.12368458847"
            ]
          },
          "metadata": {},
          "execution_count": 97
        }
      ],
      "source": [
        "mlp = MLPRegressor()\n",
        "cross_validate(mlp, Xtrain, Ytrain, scoring='neg_mean_squared_error')['test_score'].mean()*-1"
      ]
    },
    {
      "cell_type": "markdown",
      "id": "7058da71",
      "metadata": {
        "id": "7058da71"
      },
      "source": [
        "The MLP Regressor obtained an average cross-validation mean squared error of 24, so we then proceed by tuing the MLP model"
      ]
    },
    {
      "cell_type": "markdown",
      "id": "2cf33977",
      "metadata": {
        "id": "2cf33977"
      },
      "source": [
        "### Tuning MLP regressor"
      ]
    },
    {
      "cell_type": "code",
      "execution_count": null,
      "id": "c2b8b998",
      "metadata": {
        "colab": {
          "base_uri": "https://localhost:8080/"
        },
        "id": "c2b8b998",
        "outputId": "1e901c3d-04bd-48d7-8759-dbb8edc313e4"
      },
      "outputs": [
        {
          "output_type": "execute_result",
          "data": {
            "text/plain": [
              "GridSearchCV(cv=5, estimator=MLPRegressor(), n_jobs=-1,\n",
              "             param_grid={'activation': ['relu', 'logistic'],\n",
              "                         'hidden_layer_sizes': [(150,), (1000,)]})"
            ]
          },
          "metadata": {},
          "execution_count": 98
        }
      ],
      "source": [
        "mlpRgridTuned = MLPRegressor()\n",
        "parameter_space = {\n",
        "    'hidden_layer_sizes': [(150,),(1000,)],#,(3000,)\n",
        "    'activation': ['relu','logistic'],#'tanh', \n",
        "    # 'solver': ['lbfgs', 'sgd','adam'],\n",
        "    # 'alpha': [0.0001,0.001,0.01,0.1,1],\n",
        "    # 'learning_rate': ['constant','invscaling', 'adaptive']\n",
        "}\n",
        "mlpTuned = GridSearchCV(mlpRgridTuned, parameter_space, n_jobs=-1, cv=5)\n",
        "mlpTuned.fit(Xtrain, Ytrain) # X is train samples and y is the corresponding labels"
      ]
    },
    {
      "cell_type": "code",
      "execution_count": null,
      "id": "6a323f3b",
      "metadata": {
        "colab": {
          "base_uri": "https://localhost:8080/"
        },
        "id": "6a323f3b",
        "outputId": "3c3540a5-077a-452f-e8c8-aec7cfdfaeb9"
      },
      "outputs": [
        {
          "output_type": "stream",
          "name": "stdout",
          "text": [
            "{'activation': 'logistic', 'hidden_layer_sizes': (1000,)}\n",
            "0.019712852395943826\n"
          ]
        }
      ],
      "source": [
        "print(mlpTuned.best_params_)\n",
        "print(mlpTuned.best_score_)"
      ]
    },
    {
      "cell_type": "markdown",
      "id": "3afcaebb",
      "metadata": {
        "id": "3afcaebb"
      },
      "source": [
        "By tuning the MLP on the parameters alpha and criterion, we found that the hyperparameters values that minimizes the model's MSE are \n",
        "<b>activation = 'logistic'</b> and <b>hidden_layer_sizes = (1000,)</b>and which resulted in a MSE value of <b>0.022</b>"
      ]
    },
    {
      "cell_type": "markdown",
      "id": "6c2e722e",
      "metadata": {
        "id": "6c2e722e"
      },
      "source": [
        "# Models evaluation and test set prediction"
      ]
    },
    {
      "cell_type": "code",
      "execution_count": null,
      "id": "ca928351",
      "metadata": {
        "colab": {
          "base_uri": "https://localhost:8080/"
        },
        "id": "ca928351",
        "outputId": "c19a454d-91d8-436c-e673-bcda6d896acf"
      },
      "outputs": [
        {
          "output_type": "stream",
          "name": "stdout",
          "text": [
            "Regressors cross-validation mean squared error report: \n",
            "\n",
            "\n",
            "Dummy Regressor: 0.38925247260237567\n",
            "\n",
            "\n",
            "Decision Tree Regressor: 0.27328343498173957\n",
            "\n",
            "\n",
            "Random Forest Regressor: 0.2659229822429888\n",
            "\n",
            "\n",
            "Gradient Boosting Regressor: 0.264547471807441\n",
            "\n",
            "\n",
            "Ridge Regressor: 0.30542683118598124\n",
            "\n",
            "\n",
            "Lasso Regressor: 0.3089324957581782\n",
            "\n",
            "\n",
            "Linear Regression: 0.30139865887671935\n",
            "\n",
            "\n",
            "MLP Regressor: 0.019712852395943826\n"
          ]
        }
      ],
      "source": [
        "print(\"Regressors cross-validation mean squared error report: \")\n",
        "print('\\n')\n",
        "print(\"Dummy Regressor:\", cross_validate(m1, Xtrain, Ytrain, scoring='neg_mean_squared_error')['test_score'].mean()*-1)\n",
        "print('\\n')\n",
        "print(\"Decision Tree Regressor:\", DtTuned.best_score_)\n",
        "print('\\n')\n",
        "print(\"Random Forest Regressor:\", cross_validate(regr, Xtrain, Ytrain, scoring='neg_mean_squared_error')['test_score'].mean()*-1)\n",
        "print('\\n')\n",
        "print(\"Gradient Boosting Regressor:\", cross_validate(gbr, Xtrain, Ytrain, scoring='neg_mean_squared_error')['test_score'].mean()*-1)\n",
        "print('\\n')\n",
        "print(\"Ridge Regressor:\", RidgeTuned.best_score_*-1)\n",
        "\n",
        "print('\\n')\n",
        "print(\"Lasso Regressor:\",lassoTuned.best_score_*-1)\n",
        "\n",
        "print('\\n')\n",
        "print(\"Linear Regression:\", cross_validate(ligr, Xtrain, Ytrain, scoring='neg_mean_squared_error')['test_score'].mean()*-1)\n",
        "\n",
        "print('\\n')\n",
        "print(\"MLP Regressor:\", mlpTuned.best_score_)"
      ]
    },
    {
      "cell_type": "markdown",
      "id": "06b1f05a",
      "metadata": {
        "id": "06b1f05a"
      },
      "source": [
        "## Best performing models predictions of the test set"
      ]
    },
    {
      "cell_type": "code",
      "execution_count": null,
      "id": "ad71c503",
      "metadata": {
        "colab": {
          "base_uri": "https://localhost:8080/"
        },
        "id": "ad71c503",
        "outputId": "506f2414-5e2d-4a68-ef65-7d48a4d25655"
      },
      "outputs": [
        {
          "output_type": "stream",
          "name": "stdout",
          "text": [
            "MLP Regressor: \n",
            "MSE: 0.40445556539321104\n"
          ]
        }
      ],
      "source": [
        "# predictions using MLP NN\n",
        "# mlpTuned.fit(Xtrain,Ytrain)\n",
        "Yguess = mlpTuned.predict(Xtest)\n",
        "print('MLP Regressor: ')\n",
        "print( 'MSE: '+str(mean_squared_error(Ytest,Yguess)))"
      ]
    },
    {
      "cell_type": "code",
      "execution_count": null,
      "id": "2ac0e51f",
      "metadata": {
        "colab": {
          "base_uri": "https://localhost:8080/"
        },
        "id": "2ac0e51f",
        "outputId": "74fcc187-f3a2-4aa5-d34a-ff82c8f850c7"
      },
      "outputs": [
        {
          "output_type": "stream",
          "name": "stdout",
          "text": [
            "RandomForest Regressor: \n",
            "MSE: 0.2740850405500036\n"
          ]
        }
      ],
      "source": [
        "# predictions using RandomForest Regressor\n",
        "regr.fit(Xtrain,Ytrain)\n",
        "Yguess = regr.predict(Xtest)\n",
        "print('RandomForest Regressor: ')\n",
        "print( 'MSE: '+str(mean_squared_error(Ytest,Yguess)))"
      ]
    },
    {
      "cell_type": "code",
      "execution_count": null,
      "id": "733a1a56",
      "metadata": {
        "colab": {
          "base_uri": "https://localhost:8080/"
        },
        "id": "733a1a56",
        "outputId": "9666a8e0-634a-4622-d093-d95ed76c6b5b"
      },
      "outputs": [
        {
          "output_type": "stream",
          "name": "stdout",
          "text": [
            "Gradient Boosting Regressor: \n",
            "MSE: 0.27141423140462584\n"
          ]
        }
      ],
      "source": [
        "# predictions using Gradient Boosting Regressor\n",
        "gbr.fit(Xtrain,Ytrain)\n",
        "Yguess = gbr.predict(Xtest)\n",
        "print('Gradient Boosting Regressor: ')\n",
        "print( 'MSE: '+str(mean_squared_error(Ytest,Yguess)))"
      ]
    },
    {
      "cell_type": "code",
      "execution_count": null,
      "id": "6935c75f",
      "metadata": {
        "colab": {
          "base_uri": "https://localhost:8080/"
        },
        "id": "6935c75f",
        "outputId": "9ed5cf71-9799-4a25-aee6-5141e3eaf1f8"
      },
      "outputs": [
        {
          "output_type": "stream",
          "name": "stdout",
          "text": [
            "Decision Tree Regressor: \n",
            "MSE: 0.290835267309146\n"
          ]
        }
      ],
      "source": [
        "# predictions using DecisionTree Regressor\n",
        "Yguess = DtTuned.predict(Xtest)\n",
        "print('Decision Tree Regressor: ')\n",
        "print( 'MSE: '+str(mean_squared_error(Ytest,Yguess)))"
      ]
    },
    {
      "cell_type": "markdown",
      "id": "7842a906",
      "metadata": {
        "id": "7842a906"
      },
      "source": [
        "By testing the best performing models in the cross validation phase with predicting the test set, the best performing model in predicting the testing set was the Gradient boosting regressor which predicted the testing set with a mean squared error of approximately 0.27 with a difference of +0.01 in the MSE than its cross-validation accuracy, the model was tuned using  gridsearch to find that the hyperparameters that minimizes the mse are <b>alpha= 0.001 and criterion = 'friedman_mse' </b>."
      ]
    },
    {
      "cell_type": "markdown",
      "id": "86df3959",
      "metadata": {
        "id": "86df3959"
      },
      "source": [
        "# Implementing a Decision Tree class for regression"
      ]
    },
    {
      "cell_type": "code",
      "execution_count": 6,
      "id": "21303a61",
      "metadata": {
        "id": "21303a61"
      },
      "outputs": [],
      "source": [
        "class DecisionTreeLeaf:\n",
        "\n",
        "    def __init__(self, value):\n",
        "        self.value = value\n",
        "\n",
        "    # This method computes the prediction for this leaf node. This will just return a constant value.\n",
        "    def predict(self, x):\n",
        "        return self.value\n",
        "\n",
        "    # Utility function to draw a tree visually using graphviz.\n",
        "    def draw_tree(self, graph, node_counter, names):\n",
        "        node_id = str(node_counter)\n",
        "        val_str = f'{self.value:.4g}' if isinstance(self.value, float) else str(self.value)\n",
        "        graph.node(node_id, val_str, style='filled')\n",
        "        return node_counter+1, node_id\n",
        "        \n",
        "    def __eq__(self, other):\n",
        "        if isinstance(other, DecisionTreeLeaf):\n",
        "            return self.value == other.value\n",
        "        else:\n",
        "            return False"
      ]
    },
    {
      "cell_type": "code",
      "execution_count": 7,
      "id": "57de035b",
      "metadata": {
        "id": "57de035b"
      },
      "outputs": [],
      "source": [
        "class DecisionTreeBranch:\n",
        "\n",
        "    def __init__(self, feature, threshold, low_subtree, high_subtree):\n",
        "        self.feature = feature\n",
        "        self.threshold = threshold\n",
        "        self.low_subtree = low_subtree\n",
        "        self.high_subtree = high_subtree\n",
        "\n",
        "    # For a branch node, we compute the prediction by first considering the feature, and then \n",
        "    # calling the upper or lower subtree, depending on whether the feature is or isn't greater\n",
        "    # than the threshold.\n",
        "    def predict(self, x):\n",
        "        if x[self.feature] <= self.threshold:\n",
        "            return self.low_subtree.predict(x)\n",
        "        else:\n",
        "            return self.high_subtree.predict(x)\n",
        "\n",
        "    # Utility function to draw a tree visually using graphviz.\n",
        "    def draw_tree(self, graph, node_counter, names):\n",
        "        node_counter, low_id = self.low_subtree.draw_tree(graph, node_counter, names)\n",
        "        node_counter, high_id = self.high_subtree.draw_tree(graph, node_counter, names)\n",
        "        node_id = str(node_counter)\n",
        "        fname = f'F{self.feature}' if names is None else names[self.feature]\n",
        "        lbl = f'{fname} > {self.threshold:.4g}?'\n",
        "        graph.node(node_id, lbl, shape='box', fillcolor='yellow', style='filled, rounded')\n",
        "        graph.edge(node_id, low_id, 'False')\n",
        "        graph.edge(node_id, high_id, 'True')\n",
        "        return node_counter+1, node_id\n",
        "        "
      ]
    },
    {
      "cell_type": "code",
      "execution_count": 8,
      "id": "97df0c02",
      "metadata": {
        "id": "97df0c02",
        "scrolled": false
      },
      "outputs": [],
      "source": [
        "class DecisionTree(ABC, BaseEstimator):\n",
        "\n",
        "    def __init__(self, max_depth):\n",
        "        super().__init__()\n",
        "        self.max_depth = max_depth\n",
        "        \n",
        "    # As usual in scikit-learn, the training method is called *fit*. We first process the dataset so that\n",
        "    # we're sure that it's represented as a NumPy matrix. Then we call the recursive tree-building method\n",
        "    # called make_tree (see below).\n",
        "    def fit(self, X, Y):\n",
        "        if isinstance(X, pd.DataFrame):\n",
        "            self.names = X.columns\n",
        "            X = X.to_numpy()\n",
        "        elif isinstance(X, list):\n",
        "            self.names = None\n",
        "            X = np.array(X)\n",
        "        else:\n",
        "            self.names = None\n",
        "        Y = np.array(Y)        \n",
        "        self.root = self.make_tree(X, Y, self.max_depth)\n",
        "        \n",
        "    def draw_tree(self):\n",
        "        graph = Digraph()\n",
        "        self.root.draw_tree(graph, 0, self.names)\n",
        "        return graph\n",
        "    \n",
        "    # By scikit-learn convention, the method *predict* computes the classification or regression output\n",
        "    # for a set of instances.\n",
        "    # To implement it, we call a separate method that carries out the prediction for one instance.\n",
        "    def predict(self, X):\n",
        "        if isinstance(X, pd.DataFrame):\n",
        "            X = X.to_numpy()\n",
        "        return [self.predict_one(x) for x in X]\n",
        "\n",
        "    # Predicting the output for one instance.\n",
        "    def predict_one(self, x):\n",
        "        return self.root.predict(x)        \n",
        "\n",
        "    # This is the recursive training \n",
        "    def make_tree(self, X, Y, max_depth):\n",
        "\n",
        "        # We start by computing the default value that will be used if we'll return a leaf node.\n",
        "        # For classifiers, this will be the most common value in Y.\n",
        "        default_value = self.get_default_value(Y)\n",
        "\n",
        "        # First the two base cases in the recursion: is the training set completely\n",
        "        # homogeneous, or have we reached the maximum depth? Then we need to return a leaf.\n",
        "\n",
        "        # If we have reached the maximum depth, return a leaf with the majority value.\n",
        "        if max_depth == 0:\n",
        "            return DecisionTreeLeaf(default_value)\n",
        "\n",
        "        # If all the instances in the remaining training set have the same output value,\n",
        "        # return a leaf with this value.\n",
        "        if self.is_homogeneous(Y):\n",
        "            return DecisionTreeLeaf(default_value)\n",
        "\n",
        "        # Select the \"most useful\" feature and split threshold. To rank the \"usefulness\" of features,\n",
        "        # we use one of the classification or regression criteria.\n",
        "        # For each feature, we call best_split (defined in a subclass). We then maximize over the features.\n",
        "        n_features = X.shape[1]\n",
        "        _, best_feature, best_threshold = max(self.best_split(X, Y, feature) for feature in range(n_features))\n",
        "        \n",
        "        if best_feature is None:\n",
        "            return DecisionTreeLeaf(default_value)\n",
        "\n",
        "        # Split the training set into subgroups, based on whether the selected feature is greater than\n",
        "        # the threshold or not\n",
        "        X_low, X_high, Y_low, Y_high = self.split_by_feature(X, Y, best_feature, best_threshold)\n",
        "\n",
        "        # Build the subtrees using a recursive call. Each subtree is associated\n",
        "        # with a value of the feature.\n",
        "        low_subtree = self.make_tree(X_low, Y_low, max_depth-1)\n",
        "        high_subtree = self.make_tree(X_high, Y_high, max_depth-1)\n",
        "\n",
        "        if low_subtree == high_subtree:\n",
        "            return low_subtree\n",
        "\n",
        "        # Return a decision tree branch containing the result.\n",
        "        return DecisionTreeBranch(best_feature, best_threshold, low_subtree, high_subtree)\n",
        "    \n",
        "    # Utility method that splits the data into the \"upper\" and \"lower\" part, based on a feature\n",
        "    # and a threshold.\n",
        "    def split_by_feature(self, X, Y, feature, threshold):\n",
        "        low = X[:,feature] <= threshold\n",
        "        high = ~low\n",
        "        return X[low], X[high], Y[low], Y[high]\n",
        "    \n",
        "    # The following three methods need to be implemented by the classification and regression subclasses.\n",
        "    \n",
        "    @abstractmethod\n",
        "    def get_default_value(self, Y):\n",
        "        pass\n",
        "\n",
        "    @abstractmethod\n",
        "    def is_homogeneous(self, Y):\n",
        "        pass\n",
        "\n",
        "    @abstractmethod\n",
        "    def best_split(self, X, Y, feature):\n",
        "        pass"
      ]
    },
    {
      "cell_type": "code",
      "execution_count": 9,
      "id": "772a3b04",
      "metadata": {
        "id": "772a3b04"
      },
      "outputs": [],
      "source": [
        "class TreeRegressor(DecisionTree, RegressorMixin):\n",
        "\n",
        "    def __init__(self, max_depth=10, threshold = 0.2,  criterion='var_red'):\n",
        "        super().__init__(max_depth)\n",
        "        self.criterion = criterion\n",
        "        self.threshold = threshold\n",
        "        \n",
        "        \n",
        "    def fit(self, X, Y):\n",
        "        # For decision tree classifiers, there are some different ways to measure\n",
        "        # the homogeneity of subsets.\n",
        "        if self.criterion == 'var_red':\n",
        "            self.criterion_function = variance_reduction_scorer\n",
        "        else:\n",
        "            raise Exception(f'Unknown criterion: {self.criterion}')\n",
        "        super().fit(X, Y)\n",
        "        self.classes_ = sorted(set(Y))\n",
        "\n",
        "    # Select a default value that is going to be used if we decide to make a leaf.\n",
        "    # We will select the most common value.\n",
        "    def get_default_value(self, Y):\n",
        "        return np.mean(Y)\n",
        "    \n",
        "    # Checks whether a set of output values is homogeneous. In the classification case, \n",
        "    # this means that all output values are identical.\n",
        "    # We assume that we called get_default_value just before, so that we can access\n",
        "    # the class_distribution attribute. If the class distribution contains just one item,\n",
        "    # this means that the set is homogeneous.\n",
        "    def is_homogeneous(self, Y):\n",
        "        return np.var(Y) <= self.threshold #threshold (set to be 0.2 through trial and error to minimize the mse)\n",
        "        \n",
        "    # Finds the best splitting point for a given feature. We'll keep frequency tables (Counters)\n",
        "    # for the upper and lower parts, and then compute the impurity criterion using these tables.\n",
        "    # In the end, we return a triple consisting of\n",
        "    # - the best score we found, according to the criterion we're using\n",
        "    # - the id of the feature\n",
        "    # - the threshold for the best split\n",
        "    def best_split(self, X, Y, feature):\n",
        "\n",
        "        # Create a list of input-output pairs, where we have sorted\n",
        "        # in ascending order by the input feature we're considering.\n",
        "        sorted_indices = np.argsort(X[:, feature])        \n",
        "        X_sorted = list(X[sorted_indices, feature])\n",
        "        Y_sorted = list(Y[sorted_indices])\n",
        "\n",
        "        n = len(Y)\n",
        "        \n",
        "        \n",
        "        # declaring the 2 subsets of the feature as empty list and the full list before entering the loop\n",
        "        low_distr = []\n",
        "        high_distr = Y_sorted\n",
        "        \n",
        "        # Keep track of the best result we've seen so far.\n",
        "        max_score = -np.inf\n",
        "        max_i = None\n",
        "\n",
        "        total_sum = sum(Y_sorted)\n",
        "        total_sum_square = sum([y ** 2 for y in Y_sorted])\n",
        "        total_var = total_sum_square/n - (total_sum ** 2)/(n ** 2)\n",
        "\n",
        "        # Go through all the positions (excluding the last position).\n",
        "        for i in range(0, n-1):\n",
        "\n",
        "            # Input and output at the current position.\n",
        "            x_i = X_sorted[i]\n",
        "            y_i = Y_sorted[i]\n",
        "\n",
        "            \n",
        "            # Update the frequency tables.\n",
        "#             low_distr[y_i] += 1\n",
        "#             high_distr[y_i] -= 1\n",
        "            \n",
        "            #low_distr subset is the output variable items before the current instance, and \n",
        "            #high_distr subset is the output variable items from and after the current instance, and \n",
        "            low_distr =  Y_sorted[0:i]    \n",
        "            high_distr = Y_sorted[i:]\n",
        "\n",
        "            # If the input is equal to the input at the next position, we will\n",
        "            # not consider a split here.\n",
        "            #x_next = XY[i+1][0]\n",
        "            x_next = X_sorted[i+1]\n",
        "            if x_i == x_next:\n",
        "                continue\n",
        "                \n",
        "\n",
        "            # Compute the homogeneity criterion for a split at this position.\n",
        "            score = self.criterion_function(i+1, low_distr, n-i-1, high_distr)\n",
        "\n",
        "            # If this is the best split, remember it.\n",
        "            if score > max_score:\n",
        "                max_score = score\n",
        "                max_i = i\n",
        "\n",
        "        # If we didn't find any split (meaning that all inputs are identical), return\n",
        "        # a dummy value.\n",
        "        if max_i is None:\n",
        "            return -np.inf, None, None\n",
        "\n",
        "        # Otherwise, return the best split we found and its score.\n",
        "        split_point = 0.5*(X_sorted[max_i] + X_sorted[max_i+1])\n",
        "        return max_score, feature, split_point\n"
      ]
    },
    {
      "cell_type": "code",
      "execution_count": 10,
      "id": "bcc17d70",
      "metadata": {
        "id": "bcc17d70"
      },
      "outputs": [],
      "source": [
        "def variance_reduction_scorer(n_low, low_distr, n_high, high_distr): \n",
        "    return np.var(low_distr + high_distr) - n_low/(n_low+n_high)*np.var(high_distr) - n_high/(n_low+n_high)*np.var(low_distr)\n",
        "\n",
        "def majority_sum_scorer(n_low, low_distr, n_high, high_distr):\n",
        "    maj_sum_low = low_distr.most_common(1)[0][1]\n",
        "    maj_sum_high = high_distr.most_common(1)[0][1]\n",
        "    return maj_sum_low + maj_sum_high\n",
        "    \n",
        "def entropy(distr):\n",
        "    n = sum(distr.values())\n",
        "    ps = [n_i/n for n_i in distr.values()]\n",
        "    return -sum(p*np.log2(p) if p > 0 else 0 for p in ps)\n",
        "\n",
        "def info_gain_scorer(n_low, low_distr, n_high, high_distr):\n",
        "    return -(n_low*entropy(low_distr)+n_high*entropy(high_distr))/(n_low+n_high)\n",
        "\n",
        "def gini_impurity(distr):\n",
        "    n = sum(distr.values())\n",
        "    ps = [n_i/n for n_i in distr.values()]\n",
        "    return 1-sum(p**2 for p in ps)\n",
        "    \n",
        "def gini_scorer(n_low, low_distr, n_high, high_distr):\n",
        "    return -(n_low*gini_impurity(low_distr)+n_high*gini_impurity(high_distr))/(n_low+n_high)"
      ]
    },
    {
      "cell_type": "markdown",
      "id": "0f89eb64",
      "metadata": {
        "id": "0f89eb64"
      },
      "source": [
        "1. To define the threshold, instead of setting it to a constant value that might not maximize the model's accuracy, we added a new parameter <b> threshold</b> to the init function of the model with a default value threshold = 0.2, so we can add it to the gridsearch later on, so we can get the best threshold for the homogenity of the set by the variance"
      ]
    },
    {
      "cell_type": "markdown",
      "id": "b4fab414",
      "metadata": {
        "id": "b4fab414"
      },
      "source": [
        "2. To select a default value that is going to be used if we decide to make a leaf, we select the mean value of the output variable"
      ]
    },
    {
      "cell_type": "markdown",
      "id": "9ad65820",
      "metadata": {
        "id": "9ad65820"
      },
      "source": [
        "3. The split that leads to the highest homogenity is selected by calculating the variance reduction function of the 2 subsets of the output variable at each observation and taking the split with the highest homogenity score, to do that, we declared the function <i>variance_reduction_scorer(n_low, low_distr, n_high, high_distr)</i>"
      ]
    },
    {
      "cell_type": "code",
      "execution_count": 11,
      "id": "29ba6b4e",
      "metadata": {
        "id": "29ba6b4e"
      },
      "outputs": [],
      "source": [
        "dtr = TreeRegressor(max_depth=5)\n",
        "dtr.fit(Xtrain, Ytrain)"
      ]
    },
    {
      "cell_type": "code",
      "execution_count": 12,
      "id": "4467c4b0",
      "metadata": {
        "id": "4467c4b0"
      },
      "outputs": [],
      "source": [
        "Yguess = dtr.predict(Xtest)"
      ]
    },
    {
      "cell_type": "code",
      "execution_count": 13,
      "id": "b690223e",
      "metadata": {
        "colab": {
          "base_uri": "https://localhost:8080/"
        },
        "id": "b690223e",
        "outputId": "cd7440fa-5c97-45eb-87a8-02f805f9432e"
      },
      "outputs": [
        {
          "output_type": "execute_result",
          "data": {
            "text/plain": [
              "0.4027607081960747"
            ]
          },
          "metadata": {},
          "execution_count": 13
        }
      ],
      "source": [
        "from sklearn.metrics import mean_squared_error\n",
        "  \n",
        "mean_squared_error(Ytest,Yguess)"
      ]
    },
    {
      "cell_type": "markdown",
      "id": "34a0c900",
      "metadata": {
        "id": "34a0c900"
      },
      "source": [
        "we then use the class Tree Regressor to predict the testing set, and we get a mean squared error of 0.4 on the test set"
      ]
    },
    {
      "cell_type": "markdown",
      "id": "e5556167",
      "metadata": {
        "id": "e5556167"
      },
      "source": [
        "## Tuning TressRegressor hyperparameters with gridsearch"
      ]
    },
    {
      "cell_type": "code",
      "execution_count": 14,
      "id": "4fe06899",
      "metadata": {
        "id": "4fe06899",
        "scrolled": true
      },
      "outputs": [],
      "source": [
        "# cv = RepeatedKFold(n_splits=10, n_repeats=3, random_state=1)\n",
        "# # define grid\n",
        "# model = TreeRegressor()\n",
        "# grid = dict()\n",
        "# grid['max_depth'] = [6,12]\n",
        "# grid['threshold'] = [0.1,0.2,0.3]\n",
        "\n",
        "# # define search\n",
        "# search = GridSearchCV(model, grid, scoring='neg_mean_squared_error', cv=cv, n_jobs=-1)\n",
        "# # perform the search\n",
        "# results = search.fit(Xtrain, Ytrain)"
      ]
    },
    {
      "cell_type": "code",
      "execution_count": 15,
      "id": "2ce76200",
      "metadata": {
        "id": "2ce76200"
      },
      "outputs": [],
      "source": [
        "# results.best_params_\n",
        "# results.best_score_"
      ]
    },
    {
      "cell_type": "markdown",
      "id": "737aa16b",
      "metadata": {
        "id": "737aa16b"
      },
      "source": [
        "### TreeRegressorer model max_depth hyperparameter tuning"
      ]
    },
    {
      "cell_type": "markdown",
      "id": "d7274617",
      "metadata": {
        "id": "d7274617",
        "scrolled": true
      },
      "source": [
        "### Tuning using the method using above (max_depth plot vs acuracy)"
      ]
    },
    {
      "cell_type": "code",
      "execution_count": 16,
      "id": "98b7d501",
      "metadata": {
        "id": "98b7d501",
        "scrolled": false,
        "colab": {
          "base_uri": "https://localhost:8080/",
          "height": 279
        },
        "outputId": "25b9ac52-9745-4af4-9952-d4488968f698"
      },
      "outputs": [
        {
          "output_type": "display_data",
          "data": {
            "text/plain": [
              "<Figure size 432x288 with 1 Axes>"
            ],
            "image/png": "[encoded data removed]"
          },
          "metadata": {
            "needs_background": "light"
          }
        }
      ],
      "source": [
        "max_depths = np.linspace(1, 15, 15, endpoint=True)\n",
        "\n",
        "train_results = []\n",
        "test_results = []\n",
        "\n",
        "for max_depth in max_depths:\n",
        "    dt = TreeRegressor(max_depth=max_depth)\n",
        "    dt.fit(Xtrain, Ytrain)\n",
        "    Ypred = dt.predict(Xtest)\n",
        "    mseTemp = mean_squared_error(Ytest, Ypred)\n",
        "    test_results.append(mseTemp)\n",
        "    \n",
        "plt.plot(max_depths, test_results)\n",
        "plt.ylabel('MSE')\n",
        "plt.xlabel('Tree depth')\n",
        "plt.show()"
      ]
    },
    {
      "cell_type": "markdown",
      "id": "72a95cfe",
      "metadata": {
        "id": "72a95cfe"
      },
      "source": [
        "By tuning the class TreeRegressor through a graph, we get that the max_depth accuracy that minimizes the mse is max_depth = 13"
      ]
    },
    {
      "cell_type": "code",
      "execution_count": 17,
      "id": "fc465de6",
      "metadata": {
        "id": "fc465de6"
      },
      "outputs": [],
      "source": [
        "def make_some_data(n):\n",
        "    x = np.random.uniform(-5, 5, size=n)\n",
        "    Y = (x > 1) + 0.1*np.random.normal(size=n)\n",
        "    X = x.reshape(n, 1) # X needs to be a 2-dimensional matrix\n",
        "    return X, Y"
      ]
    },
    {
      "cell_type": "code",
      "execution_count": 18,
      "id": "2014920e",
      "metadata": {
        "id": "2014920e",
        "scrolled": false,
        "colab": {
          "base_uri": "https://localhost:8080/",
          "height": 320
        },
        "outputId": "f6cc42b5-8c15-40c9-9d1c-db510a5c0536"
      },
      "outputs": [
        {
          "output_type": "display_data",
          "data": {
            "text/plain": [
              "<Figure size 360x360 with 1 Axes>"
            ],
            "image/png": "[encoded data removed]"
          },
          "metadata": {
            "needs_background": "light"
          }
        }
      ],
      "source": [
        "dataTemp = make_some_data(100)\n",
        "\n",
        "plt.figure(figsize=(5,5))\n",
        "plt.scatter(dataTemp[0], dataTemp[1], cmap='tab10');"
      ]
    },
    {
      "cell_type": "markdown",
      "id": "07fbae9b",
      "metadata": {
        "id": "07fbae9b"
      },
      "source": [
        "We generate a 100 data point randomly using the data generation function"
      ]
    },
    {
      "cell_type": "markdown",
      "id": "3b04b1ab",
      "metadata": {
        "id": "3b04b1ab"
      },
      "source": [
        "from the plot above, the data looks that it can be best described through a decision tree classifier as the data is very well splitted into two groups in the 2D space, a decision tree classifier can  classify the data points into 2 classes"
      ]
    },
    {
      "cell_type": "code",
      "execution_count": 19,
      "id": "1a4594bd",
      "metadata": {
        "id": "1a4594bd"
      },
      "outputs": [],
      "source": [
        "dataTemp = make_some_data(1000)\n",
        "XtrainTemp, XtestTemp, YtrainTemp, YtestTemp = train_test_split(dataTemp[0], dataTemp[1], test_size=0.2, random_state=0)"
      ]
    },
    {
      "cell_type": "code",
      "execution_count": 20,
      "id": "20feacc8",
      "metadata": {
        "id": "20feacc8"
      },
      "outputs": [],
      "source": [
        "dtrTemp = TreeRegressor(max_depth=5)\n",
        "dtrTemp.fit(XtrainTemp, YtrainTemp)"
      ]
    },
    {
      "cell_type": "code",
      "execution_count": 21,
      "id": "9db0e9d4",
      "metadata": {
        "id": "9db0e9d4"
      },
      "outputs": [],
      "source": [
        "Yguess = dtrTemp.predict(Xtest)"
      ]
    },
    {
      "cell_type": "code",
      "execution_count": 22,
      "id": "3d4f391f",
      "metadata": {
        "id": "3d4f391f",
        "colab": {
          "base_uri": "https://localhost:8080/"
        },
        "outputId": "3f9a6565-181a-4df2-a007-b3c844a348f1"
      },
      "outputs": [
        {
          "output_type": "execute_result",
          "data": {
            "text/plain": [
              "234.76393219067646"
            ]
          },
          "metadata": {},
          "execution_count": 22
        }
      ],
      "source": [
        "mean_squared_error(Ytest,Yguess)"
      ]
    },
    {
      "cell_type": "markdown",
      "id": "8613d3b8",
      "metadata": {
        "id": "8613d3b8"
      },
      "source": [
        "By training and testing the TreeRegressor class on the data above after splitting it into test and train data, we get a mean square error of 233 on the testing set when the max_depth is set to 5"
      ]
    },
    {
      "cell_type": "code",
      "execution_count": 23,
      "id": "27c49495",
      "metadata": {
        "id": "27c49495",
        "colab": {
          "base_uri": "https://localhost:8080/",
          "height": 660
        },
        "outputId": "5b2e8cf1-3e12-45d2-b276-d552af0ea60f"
      },
      "outputs": [
        {
          "output_type": "execute_result",
          "data": {
            "text/plain": [
              "<graphviz.dot.Digraph at 0x7f8dbbc88110>"
            ],
            "image/svg+xml": "<?xml version=\"1.0\" encoding=\"UTF-8\" standalone=\"no\"?>\n<!DOCTYPE svg PUBLIC \"-//W3C//DTD SVG 1.1//EN\"\n \"http://www.w3.org/Graphics/SVG/1.1/DTD/svg11.dtd\">\n<!-- Generated by graphviz version 2.40.1 (20161225.0304)\n -->\n<!-- Title: %3 Pages: 1 -->\n<svg width=\"471pt\" height=\"479pt\"\n viewBox=\"0.00 0.00 471.14 479.00\" xmlns=\"http://www.w3.org/2000/svg\" xmlns:xlink=\"http://www.w3.org/1999/xlink\">\n<g id=\"graph0\" class=\"graph\" transform=\"scale(1 1) rotate(0) translate(4 475)\">\n<title>%3</title>\n<polygon fill=\"#ffffff\" stroke=\"transparent\" points=\"-4,4 -4,-475 467.1424,-475 467.1424,4 -4,4\"/>\n<!-- 0 -->\n<g id=\"node1\" class=\"node\">\n<title>0</title>\n<ellipse fill=\"#d3d3d3\" stroke=\"#000000\" cx=\"47.4458\" cy=\"-366\" rx=\"47.3916\" ry=\"18\"/>\n<text text-anchor=\"middle\" x=\"47.4458\" y=\"-362.3\" font-family=\"Times,serif\" font-size=\"14.00\" fill=\"#000000\">0.007426</text>\n</g>\n<!-- 1 -->\n<g id=\"node2\" class=\"node\">\n<title>1</title>\n<ellipse fill=\"#d3d3d3\" stroke=\"#000000\" cx=\"116.4458\" cy=\"-279\" rx=\"50.0912\" ry=\"18\"/>\n<text text-anchor=\"middle\" x=\"116.4458\" y=\"-275.3\" font-family=\"Times,serif\" font-size=\"14.00\" fill=\"#000000\">&#45;0.003639</text>\n</g>\n<!-- 2 -->\n<g id=\"node3\" class=\"node\">\n<title>2</title>\n<ellipse fill=\"#d3d3d3\" stroke=\"#000000\" cx=\"189.4458\" cy=\"-192\" rx=\"50.0912\" ry=\"18\"/>\n<text text-anchor=\"middle\" x=\"189.4458\" y=\"-188.3\" font-family=\"Times,serif\" font-size=\"14.00\" fill=\"#000000\">&#45;0.004564</text>\n</g>\n<!-- 3 -->\n<g id=\"node4\" class=\"node\">\n<title>3</title>\n<ellipse fill=\"#d3d3d3\" stroke=\"#000000\" cx=\"263.4458\" cy=\"-105\" rx=\"45.4919\" ry=\"18\"/>\n<text text-anchor=\"middle\" x=\"263.4458\" y=\"-101.3\" font-family=\"Times,serif\" font-size=\"14.00\" fill=\"#000000\">&#45;0.06577</text>\n</g>\n<!-- 4 -->\n<g id=\"node5\" class=\"node\">\n<title>4</title>\n<ellipse fill=\"#d3d3d3\" stroke=\"#000000\" cx=\"319.4458\" cy=\"-18\" rx=\"50.0912\" ry=\"18\"/>\n<text text-anchor=\"middle\" x=\"319.4458\" y=\"-14.3\" font-family=\"Times,serif\" font-size=\"14.00\" fill=\"#000000\">&#45;0.008676</text>\n</g>\n<!-- 5 -->\n<g id=\"node6\" class=\"node\">\n<title>5</title>\n<ellipse fill=\"#d3d3d3\" stroke=\"#000000\" cx=\"425.4458\" cy=\"-18\" rx=\"37.8943\" ry=\"18\"/>\n<text text-anchor=\"middle\" x=\"425.4458\" y=\"-14.3\" font-family=\"Times,serif\" font-size=\"14.00\" fill=\"#000000\">0.3777</text>\n</g>\n<!-- 6 -->\n<g id=\"node7\" class=\"node\">\n<title>6</title>\n<path fill=\"#ffff00\" stroke=\"#000000\" d=\"M406.4458,-123C406.4458,-123 338.4458,-123 338.4458,-123 332.4458,-123 326.4458,-117 326.4458,-111 326.4458,-111 326.4458,-99 326.4458,-99 326.4458,-93 332.4458,-87 338.4458,-87 338.4458,-87 406.4458,-87 406.4458,-87 412.4458,-87 418.4458,-93 418.4458,-99 418.4458,-99 418.4458,-111 418.4458,-111 418.4458,-117 412.4458,-123 406.4458,-123\"/>\n<text text-anchor=\"middle\" x=\"372.4458\" y=\"-101.3\" font-family=\"Times,serif\" font-size=\"14.00\" fill=\"#000000\">F0 &gt; &#45;4.891?</text>\n</g>\n<!-- 6&#45;&gt;4 -->\n<g id=\"edge1\" class=\"edge\">\n<title>6&#45;&gt;4</title>\n<path fill=\"none\" stroke=\"#000000\" d=\"M361.4642,-86.9735C353.9528,-74.6435 343.873,-58.0975 335.4689,-44.3021\"/>\n<polygon fill=\"#000000\" stroke=\"#000000\" points=\"338.4237,-42.4249 330.232,-35.7057 332.4456,-46.0667 338.4237,-42.4249\"/>\n<text text-anchor=\"middle\" x=\"364.4458\" y=\"-57.8\" font-family=\"Times,serif\" font-size=\"14.00\" fill=\"#000000\">False</text>\n</g>\n<!-- 6&#45;&gt;5 -->\n<g id=\"edge2\" class=\"edge\">\n<title>6&#45;&gt;5</title>\n<path fill=\"none\" stroke=\"#000000\" d=\"M383.4274,-86.9735C390.9886,-74.5619 401.1522,-57.8782 409.5894,-44.0284\"/>\n<polygon fill=\"#000000\" stroke=\"#000000\" points=\"412.6263,-45.7707 414.8399,-35.4097 406.6482,-42.1289 412.6263,-45.7707\"/>\n<text text-anchor=\"middle\" x=\"414.9458\" y=\"-57.8\" font-family=\"Times,serif\" font-size=\"14.00\" fill=\"#000000\">True</text>\n</g>\n<!-- 7 -->\n<g id=\"node8\" class=\"node\">\n<title>7</title>\n<path fill=\"#ffff00\" stroke=\"#000000\" d=\"M337.4458,-210C337.4458,-210 269.4458,-210 269.4458,-210 263.4458,-210 257.4458,-204 257.4458,-198 257.4458,-198 257.4458,-186 257.4458,-186 257.4458,-180 263.4458,-174 269.4458,-174 269.4458,-174 337.4458,-174 337.4458,-174 343.4458,-174 349.4458,-180 349.4458,-186 349.4458,-186 349.4458,-198 349.4458,-198 349.4458,-204 343.4458,-210 337.4458,-210\"/>\n<text text-anchor=\"middle\" x=\"303.4458\" y=\"-188.3\" font-family=\"Times,serif\" font-size=\"14.00\" fill=\"#000000\">F0 &gt; &#45;4.909?</text>\n</g>\n<!-- 7&#45;&gt;3 -->\n<g id=\"edge3\" class=\"edge\">\n<title>7&#45;&gt;3</title>\n<path fill=\"none\" stroke=\"#000000\" d=\"M295.1578,-173.9735C289.6336,-161.9585 282.2688,-145.9401 276.0272,-132.3646\"/>\n<polygon fill=\"#000000\" stroke=\"#000000\" points=\"279.0806,-130.627 271.7232,-123.0034 272.7206,-133.5512 279.0806,-130.627\"/>\n<text text-anchor=\"middle\" x=\"301.4458\" y=\"-144.8\" font-family=\"Times,serif\" font-size=\"14.00\" fill=\"#000000\">False</text>\n</g>\n<!-- 7&#45;&gt;6 -->\n<g id=\"edge4\" class=\"edge\">\n<title>7&#45;&gt;6</title>\n<path fill=\"none\" stroke=\"#000000\" d=\"M317.7426,-173.9735C327.5494,-161.6085 340.7188,-145.0036 351.6786,-131.1847\"/>\n<polygon fill=\"#000000\" stroke=\"#000000\" points=\"354.6955,-133.0133 358.1673,-123.0034 349.211,-128.6635 354.6955,-133.0133\"/>\n<text text-anchor=\"middle\" x=\"355.9458\" y=\"-144.8\" font-family=\"Times,serif\" font-size=\"14.00\" fill=\"#000000\">True</text>\n</g>\n<!-- 8 -->\n<g id=\"node9\" class=\"node\">\n<title>8</title>\n<path fill=\"#ffff00\" stroke=\"#000000\" d=\"M264.4458,-297C264.4458,-297 196.4458,-297 196.4458,-297 190.4458,-297 184.4458,-291 184.4458,-285 184.4458,-285 184.4458,-273 184.4458,-273 184.4458,-267 190.4458,-261 196.4458,-261 196.4458,-261 264.4458,-261 264.4458,-261 270.4458,-261 276.4458,-267 276.4458,-273 276.4458,-273 276.4458,-285 276.4458,-285 276.4458,-291 270.4458,-297 264.4458,-297\"/>\n<text text-anchor=\"middle\" x=\"230.4458\" y=\"-275.3\" font-family=\"Times,serif\" font-size=\"14.00\" fill=\"#000000\">F0 &gt; &#45;4.917?</text>\n</g>\n<!-- 8&#45;&gt;2 -->\n<g id=\"edge5\" class=\"edge\">\n<title>8&#45;&gt;2</title>\n<path fill=\"none\" stroke=\"#000000\" d=\"M221.9506,-260.9735C216.2883,-248.9585 208.7394,-232.9401 202.3417,-219.3646\"/>\n<polygon fill=\"#000000\" stroke=\"#000000\" points=\"205.3592,-217.5571 197.9301,-210.0034 199.0271,-220.5413 205.3592,-217.5571\"/>\n<text text-anchor=\"middle\" x=\"227.4458\" y=\"-231.8\" font-family=\"Times,serif\" font-size=\"14.00\" fill=\"#000000\">False</text>\n</g>\n<!-- 8&#45;&gt;7 -->\n<g id=\"edge6\" class=\"edge\">\n<title>8&#45;&gt;7</title>\n<path fill=\"none\" stroke=\"#000000\" d=\"M245.5714,-260.9735C256.0446,-248.4919 270.1428,-231.6899 281.8022,-217.7944\"/>\n<polygon fill=\"#000000\" stroke=\"#000000\" points=\"284.5929,-219.9136 288.3395,-210.0034 279.2305,-215.4142 284.5929,-219.9136\"/>\n<text text-anchor=\"middle\" x=\"284.9458\" y=\"-231.8\" font-family=\"Times,serif\" font-size=\"14.00\" fill=\"#000000\">True</text>\n</g>\n<!-- 9 -->\n<g id=\"node10\" class=\"node\">\n<title>9</title>\n<path fill=\"#ffff00\" stroke=\"#000000\" d=\"M192.4458,-384C192.4458,-384 124.4458,-384 124.4458,-384 118.4458,-384 112.4458,-378 112.4458,-372 112.4458,-372 112.4458,-360 112.4458,-360 112.4458,-354 118.4458,-348 124.4458,-348 124.4458,-348 192.4458,-348 192.4458,-348 198.4458,-348 204.4458,-354 204.4458,-360 204.4458,-360 204.4458,-372 204.4458,-372 204.4458,-378 198.4458,-384 192.4458,-384\"/>\n<text text-anchor=\"middle\" x=\"158.4458\" y=\"-362.3\" font-family=\"Times,serif\" font-size=\"14.00\" fill=\"#000000\">F0 &gt; &#45;4.946?</text>\n</g>\n<!-- 9&#45;&gt;1 -->\n<g id=\"edge7\" class=\"edge\">\n<title>9&#45;&gt;1</title>\n<path fill=\"none\" stroke=\"#000000\" d=\"M149.7434,-347.9735C143.943,-335.9585 136.21,-319.9401 129.6563,-306.3646\"/>\n<polygon fill=\"#000000\" stroke=\"#000000\" points=\"132.6365,-304.4872 125.1371,-297.0034 126.3327,-307.5305 132.6365,-304.4872\"/>\n<text text-anchor=\"middle\" x=\"155.4458\" y=\"-318.8\" font-family=\"Times,serif\" font-size=\"14.00\" fill=\"#000000\">False</text>\n</g>\n<!-- 9&#45;&gt;8 -->\n<g id=\"edge8\" class=\"edge\">\n<title>9&#45;&gt;8</title>\n<path fill=\"none\" stroke=\"#000000\" d=\"M173.3642,-347.9735C183.6939,-335.4919 197.599,-318.6899 209.0987,-304.7944\"/>\n<polygon fill=\"#000000\" stroke=\"#000000\" points=\"211.8671,-306.9388 215.5465,-297.0034 206.4744,-302.4758 211.8671,-306.9388\"/>\n<text text-anchor=\"middle\" x=\"212.9458\" y=\"-318.8\" font-family=\"Times,serif\" font-size=\"14.00\" fill=\"#000000\">True</text>\n</g>\n<!-- 10 -->\n<g id=\"node11\" class=\"node\">\n<title>10</title>\n<path fill=\"#ffff00\" stroke=\"#000000\" d=\"M107.4458,-471C107.4458,-471 39.4458,-471 39.4458,-471 33.4458,-471 27.4458,-465 27.4458,-459 27.4458,-459 27.4458,-447 27.4458,-447 27.4458,-441 33.4458,-435 39.4458,-435 39.4458,-435 107.4458,-435 107.4458,-435 113.4458,-435 119.4458,-441 119.4458,-447 119.4458,-447 119.4458,-459 119.4458,-459 119.4458,-465 113.4458,-471 107.4458,-471\"/>\n<text text-anchor=\"middle\" x=\"73.4458\" y=\"-449.3\" font-family=\"Times,serif\" font-size=\"14.00\" fill=\"#000000\">F0 &gt; &#45;4.966?</text>\n</g>\n<!-- 10&#45;&gt;0 -->\n<g id=\"edge9\" class=\"edge\">\n<title>10&#45;&gt;0</title>\n<path fill=\"none\" stroke=\"#000000\" d=\"M68.0586,-434.9735C64.5027,-423.0751 59.7736,-407.2508 55.7421,-393.7606\"/>\n<polygon fill=\"#000000\" stroke=\"#000000\" points=\"59.043,-392.5825 52.8261,-384.0034 52.3361,-394.5869 59.043,-392.5825\"/>\n<text text-anchor=\"middle\" x=\"77.4458\" y=\"-405.8\" font-family=\"Times,serif\" font-size=\"14.00\" fill=\"#000000\">False</text>\n</g>\n<!-- 10&#45;&gt;9 -->\n<g id=\"edge10\" class=\"edge\">\n<title>10&#45;&gt;9</title>\n<path fill=\"none\" stroke=\"#000000\" d=\"M91.0578,-434.9735C103.3666,-422.3752 119.9755,-405.3755 133.6243,-391.4055\"/>\n<polygon fill=\"#000000\" stroke=\"#000000\" points=\"136.3714,-393.6021 140.8563,-384.0034 131.3644,-388.7103 136.3714,-393.6021\"/>\n<text text-anchor=\"middle\" x=\"134.9458\" y=\"-405.8\" font-family=\"Times,serif\" font-size=\"14.00\" fill=\"#000000\">True</text>\n</g>\n</g>\n</svg>\n"
          },
          "metadata": {},
          "execution_count": 23
        }
      ],
      "source": [
        "dtrTemp.draw_tree()"
      ]
    },
    {
      "cell_type": "markdown",
      "id": "40dce448",
      "metadata": {
        "id": "40dce448"
      },
      "source": [
        "After drawing the tree, we can see that the result doesn' make sense as the root node started by value = -4.926 and the data was generated on an inteval on [-5,5], so a max_depth 5 as shown in the graph doesn't predict well the values of the data due to the severe deviation of the data values and a small depth such as 5 can't capture all the data points and predict them correctly."
      ]
    },
    {
      "cell_type": "code",
      "execution_count": 24,
      "id": "f98e1ae0",
      "metadata": {
        "id": "f98e1ae0"
      },
      "outputs": [],
      "source": [
        "dtr = TreeRegressor(max_depth=5)\n",
        "dtr.fit(Xtrain, Ytrain)"
      ]
    },
    {
      "cell_type": "code",
      "execution_count": 25,
      "id": "2bea195a",
      "metadata": {
        "id": "2bea195a"
      },
      "outputs": [],
      "source": [
        "Yguess = dtr.predict(Xtest)"
      ]
    },
    {
      "cell_type": "code",
      "execution_count": 26,
      "id": "44518668",
      "metadata": {
        "id": "44518668",
        "colab": {
          "base_uri": "https://localhost:8080/"
        },
        "outputId": "2eaefa4b-af75-4ee6-8a0d-e110cd59d2da"
      },
      "outputs": [
        {
          "output_type": "execute_result",
          "data": {
            "text/plain": [
              "0.4027607081960747"
            ]
          },
          "metadata": {},
          "execution_count": 26
        }
      ],
      "source": [
        "mean_squared_error(Ytest,Yguess)"
      ]
    },
    {
      "cell_type": "markdown",
      "id": "a25c9026",
      "metadata": {
        "id": "a25c9026"
      },
      "source": [
        "The TreeRegressor class predicted the price of the apartments with a mean squared error of 0.4 on the testing set with <b>max_depth hyperparameter set to 5</b>"
      ]
    },
    {
      "cell_type": "code",
      "execution_count": 28,
      "id": "1ad4f265",
      "metadata": {
        "id": "1ad4f265",
        "scrolled": true
      },
      "outputs": [],
      "source": [
        "max_depths = np.linspace(1, 12, 12, endpoint=True)\n",
        "\n",
        "train_results = []\n",
        "test_results = []\n",
        "\n",
        "for max_depth in max_depths:\n",
        "    dt = TreeRegressor(max_depth=max_depth)\n",
        "    dt.fit(Xtrain, Ytrain)\n",
        "    YpredTrain = dt.predict(Xtrain)\n",
        "    mseTrain = mean_squared_error(Ytrain, YpredTrain)\n",
        "    Ypredtest = dt.predict(Xtest)\n",
        "    mseTest = mean_squared_error(Ytest, Ypredtest)\n",
        "    train_results.append(mseTrain)\n",
        "    test_results.append(mseTest)"
      ]
    },
    {
      "cell_type": "code",
      "source": [
        "len(max_depths)"
      ],
      "metadata": {
        "colab": {
          "base_uri": "https://localhost:8080/"
        },
        "id": "_ith5gMJl16s",
        "outputId": "07c6393c-9a44-424a-a188-a2a3ee4409e2"
      },
      "id": "_ith5gMJl16s",
      "execution_count": 34,
      "outputs": [
        {
          "output_type": "execute_result",
          "data": {
            "text/plain": [
              "12"
            ]
          },
          "metadata": {},
          "execution_count": 34
        }
      ]
    },
    {
      "cell_type": "code",
      "source": [
        "line1, = plt.plot(max_depths,train_results, label=\"Train MSE\")\n",
        "line2, = plt.plot(max_depths,test_results, label=\"Test MSE\")\n",
        "\n",
        "plt.legend(handler_map={line1: HandlerLine2D(numpoints=2)})\n",
        "plt.ylabel('MSE')\n",
        "plt.xlabel('Tree depth')\n",
        "plt.show()"
      ],
      "metadata": {
        "colab": {
          "base_uri": "https://localhost:8080/",
          "height": 279
        },
        "id": "S0CzFVFcj-bW",
        "outputId": "2886175a-6ed0-4ef6-dba4-800950f69b51"
      },
      "id": "S0CzFVFcj-bW",
      "execution_count": 37,
      "outputs": [
        {
          "output_type": "display_data",
          "data": {
            "text/plain": [
              "<Figure size 432x288 with 1 Axes>"
            ],
            "image/png": "[encoded data removed]"
          },
          "metadata": {
            "needs_background": "light"
          }
        }
      ]
    },
    {
      "cell_type": "markdown",
      "id": "b1672705",
      "metadata": {
        "id": "b1672705"
      },
      "source": [
        "From the graph above, we can see that when the model is used to predict the training data that it was trained on, it achieved a minimum MSE of 0.38 at tree_depth = 12 (the blue line), while it achieved a testing MSE of 0.395 at tree_depth = 12 when the model is used to predict an unseen testing data (the red line), so we can conclude from the graph above that since the trends of both curves are almost the same when increasing and decreasing the tree_depth while maintaining almost a constant very low difference in the MSE between the training and testing curves, that the model is not overfitting and it predicted the unseen testing data with a proper efficiency compared to its efficiency in predicting the previously seen training data"
      ]
    }
  ],
  "metadata": {
    "colab": {
      "collapsed_sections": [
        "a2ef5135",
        "a916571c",
        "f1f30172",
        "e5254264",
        "15729609",
        "77772817",
        "5fe29e13",
        "ca75b7cb",
        "11437f83",
        "a64b2ac8",
        "a6f1f487",
        "5b9f0c2a",
        "e4f2ddc7",
        "8b2271ea",
        "60f77544",
        "32721214",
        "4e773839",
        "e31c23fa",
        "c11cb375",
        "86df3959",
        "a1a1943e",
        "e5556167",
        "737aa16b",
        "d7274617",
        "b20dff78",
        "90a0fbd1",
        "6024f118",
        "f817912c"
      ],
      "provenance": []
    },
    "kernelspec": {
      "display_name": "Python 3 (ipykernel)",
      "language": "python",
      "name": "python3"
    },
    "language_info": {
      "codemirror_mode": {
        "name": "ipython",
        "version": 3
      },
      "file_extension": ".py",
      "mimetype": "text/x-python",
      "name": "python",
      "nbconvert_exporter": "python",
      "pygments_lexer": "ipython3",
      "version": "3.9.12"
    }
  },
  "nbformat": 4,
  "nbformat_minor": 5
}